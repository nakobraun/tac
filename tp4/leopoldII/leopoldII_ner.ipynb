{
 "cells": [
  {
   "cell_type": "markdown",
   "metadata": {},
   "source": [
    "# Reconnaissance d'entités nommées avec SpaCy"
   ]
  },
  {
   "cell_type": "markdown",
   "metadata": {},
   "source": [
    "La documentation est accessible ici: https://spacy.io/api"
   ]
  },
  {
   "cell_type": "markdown",
   "metadata": {},
   "source": [
    "## Imports"
   ]
  },
  {
   "cell_type": "code",
   "execution_count": 1,
   "metadata": {},
   "outputs": [],
   "source": [
    "from collections import defaultdict\n",
    "import sys\n",
    "import spacy\n",
    "from spacy.lang.fr.examples import sentences"
   ]
  },
  {
   "cell_type": "code",
   "execution_count": 2,
   "metadata": {},
   "outputs": [],
   "source": [
    "nlp = spacy.load('fr_core_news_md')"
   ]
  },
  {
   "cell_type": "markdown",
   "metadata": {},
   "source": [
    "## Appliquer la reconnaissance d'entités nommées sur notre corpus"
   ]
  },
  {
   "cell_type": "code",
   "execution_count": 16,
   "metadata": {},
   "outputs": [],
   "source": [
    "# Charger le texte\n",
    "n=900000\n",
    "text = open(\"../data/leopoldII/corpus_clean.txt\", encoding='utf-8').read()[:n]"
   ]
  },
  {
   "cell_type": "code",
   "execution_count": 17,
   "metadata": {},
   "outputs": [
    {
     "name": "stdout",
     "output_type": "stream",
     "text": [
      "CPU times: user 22.9 s, sys: 1.09 s, total: 24 s\n",
      "Wall time: 24.1 s\n"
     ]
    }
   ],
   "source": [
    "%%time\n",
    "# Traiter le texte\n",
    "\n",
    "doc = nlp(text)"
   ]
  },
  {
   "cell_type": "code",
   "execution_count": 18,
   "metadata": {},
   "outputs": [],
   "source": [
    "# Compter les entités\n",
    "people = defaultdict(int)\n",
    "for ent in doc.ents:\n",
    "    if ent.label_ == \"PER\" and len(ent.text) > 3:\n",
    "        people[ent.text] += 1"
   ]
  },
  {
   "cell_type": "code",
   "execution_count": 19,
   "metadata": {},
   "outputs": [
    {
     "name": "stdout",
     "output_type": "stream",
     "text": [
      "vandervelde apparait 18 fois dans le corpus\n",
      "crispi apparait 18 fois dans le corpus\n",
      "beernaert apparait 14 fois dans le corpus\n",
      "lothaire apparait 11 fois dans le corpus\n",
      "saint pétersbourg apparait 9 fois dans le corpus\n",
      "ferdinand apparait 9 fois dans le corpus\n",
      "janson apparait 8 fois dans le corpus\n",
      "helleputte apparait 8 fois dans le corpus\n",
      "raoul apparait 8 fois dans le corpus\n",
      "christ apparait 7 fois dans le corpus\n",
      "van den heuvel apparait 7 fois dans le corpus\n",
      "ozeray apparait 6 fois dans le corpus\n",
      "prince saxe cobourg apparait 6 fois dans le corpus\n",
      "général brassine apparait 6 fois dans le corpus\n",
      "lucas apparait 6 fois dans le corpus\n",
      "woeste apparait 5 fois dans le corpus\n",
      "reichstag apparait 5 fois dans le corpus\n",
      "gladstone apparait 5 fois dans le corpus\n",
      "roger apparait 5 fois dans le corpus\n",
      "gabrielle apparait 5 fois dans le corpus\n",
      "gombert apparait 5 fois dans le corpus\n",
      "lorand apparait 5 fois dans le corpus\n",
      "léopold apparait 5 fois dans le corpus\n",
      "bertrand apparait 4 fois dans le corpus\n",
      "guillaume apparait 4 fois dans le corpus\n",
      "albert apparait 4 fois dans le corpus\n",
      "clemenceau apparait 4 fois dans le corpus\n",
      "jésus apparait 4 fois dans le corpus\n",
      "coquilhat apparait 4 fois dans le corpus\n",
      "denis apparait 4 fois dans le corpus\n",
      "browne tiège apparait 4 fois dans le corpus\n",
      "chautemps apparait 4 fois dans le corpus\n",
      "duplat apparait 3 fois dans le corpus\n",
      "hubert apparait 3 fois dans le corpus\n",
      "césar apparait 3 fois dans le corpus\n",
      "françois joseph apparait 3 fois dans le corpus\n",
      "pubuc apparait 3 fois dans le corpus\n",
      "milan berger apparait 3 fois dans le corpus\n",
      "baron von schwerin apparait 3 fois dans le corpus\n",
      "sewa hadji apparait 3 fois dans le corpus\n",
      "léon xiii apparait 3 fois dans le corpus\n",
      "carnot apparait 3 fois dans le corpus\n",
      "rudini apparait 3 fois dans le corpus\n",
      "lord salisbury apparait 3 fois dans le corpus\n",
      "van kerckhoven apparait 3 fois dans le corpus\n",
      "auguste peltzer apparait 3 fois dans le corpus\n",
      "jean volders apparait 3 fois dans le corpus\n",
      "comtesse flandre apparait 3 fois dans le corpus\n",
      "alexandre iii apparait 3 fois dans le corpus\n",
      "joniaux apparait 3 fois dans le corpus\n"
     ]
    }
   ],
   "source": [
    "# Trier et imprimer\n",
    "sorted_people = sorted(people.items(), key=lambda kv: kv[1], reverse=True)\n",
    "\n",
    "for person, freq in sorted_people[:50]:\n",
    "    print(f\"{person} apparait {freq} fois dans le corpus\")"
   ]
  },
  {
   "cell_type": "markdown",
   "metadata": {},
   "source": [
    "Exercice: essayez de lister les lieux (LOC) et les organisations (ORG) les plus mentionnées dans le corpus"
   ]
  },
  {
   "cell_type": "code",
   "execution_count": 21,
   "metadata": {},
   "outputs": [],
   "source": [
    "# Compter les entités\n",
    "location = defaultdict(int)\n",
    "for ent in doc.ents:\n",
    "    if ent.label_ == \"LOC\" and len(ent.text) > 3:\n",
    "        location[ent.text] += 1"
   ]
  },
  {
   "cell_type": "code",
   "execution_count": 24,
   "metadata": {},
   "outputs": [
    {
     "name": "stdout",
     "output_type": "stream",
     "text": [
      "bruxelles apparait 141 fois dans le corpus\n",
      "congo apparait 114 fois dans le corpus\n",
      "paris apparait 97 fois dans le corpus\n",
      "belgique apparait 83 fois dans le corpus\n",
      "france apparait 62 fois dans le corpus\n",
      "angleterre apparait 51 fois dans le corpus\n",
      "allemagne apparait 36 fois dans le corpus\n",
      "europe apparait 35 fois dans le corpus\n",
      "russie apparait 33 fois dans le corpus\n",
      "italie apparait 28 fois dans le corpus\n",
      "afrique apparait 25 fois dans le corpus\n",
      "londres apparait 21 fois dans le corpus\n",
      "berlin apparait 19 fois dans le corpus\n",
      "espagne apparait 17 fois dans le corpus\n",
      "chine apparait 15 fois dans le corpus\n",
      "gand apparait 14 fois dans le corpus\n",
      "rome apparait 14 fois dans le corpus\n",
      "anvers apparait 13 fois dans le corpus\n",
      "lorand apparait 13 fois dans le corpus\n",
      "etat apparait 12 fois dans le corpus\n",
      "belges apparait 11 fois dans le corpus\n",
      "madrid apparait 10 fois dans le corpus\n",
      "norvège apparait 8 fois dans le corpus\n",
      "madagascar apparait 8 fois dans le corpus\n",
      "amérique apparait 7 fois dans le corpus\n",
      "grèce apparait 7 fois dans le corpus\n",
      "constantinople apparait 7 fois dans le corpus\n",
      "liège apparait 6 fois dans le corpus\n",
      "portugal apparait 6 fois dans le corpus\n",
      "bulgarie apparait 6 fois dans le corpus\n",
      "japon apparait 6 fois dans le corpus\n",
      "cuba apparait 6 fois dans le corpus\n",
      "soudan apparait 6 fois dans le corpus\n",
      "schaerbeek apparait 5 fois dans le corpus\n",
      "suisse apparait 5 fois dans le corpus\n",
      "seine apparait 5 fois dans le corpus\n",
      "hong kong apparait 5 fois dans le corpus\n",
      "namur apparait 5 fois dans le corpus\n",
      "bokhara apparait 5 fois dans le corpus\n",
      "cetto apparait 5 fois dans le corpus\n",
      "johannesburg apparait 5 fois dans le corpus\n",
      "versailles apparait 4 fois dans le corpus\n",
      "flandre apparait 4 fois dans le corpus\n",
      "bruges apparait 4 fois dans le corpus\n",
      "paris londres apparait 4 fois dans le corpus\n",
      "indes apparait 4 fois dans le corpus\n",
      "rhin apparait 4 fois dans le corpus\n",
      "verviers apparait 4 fois dans le corpus\n",
      "copenhague apparait 4 fois dans le corpus\n",
      "rue des sables bruxelles apparait 4 fois dans le corpus\n"
     ]
    }
   ],
   "source": [
    "# Trier et imprimer\n",
    "sorted_location = sorted(location.items(), key=lambda kv: kv[1], reverse=True)\n",
    "\n",
    "for loc, freq in sorted_location[:50]:\n",
    "    print(f\"{loc} apparait {freq} fois dans le corpus\")"
   ]
  },
  {
   "cell_type": "code",
   "execution_count": 27,
   "metadata": {},
   "outputs": [],
   "source": [
    "# Compter les entités\n",
    "org = defaultdict(int)\n",
    "for ent in doc.ents:\n",
    "    if ent.label_ == \"ORG\" and len(ent.text) > 3:\n",
    "        org[ent.text] += 1"
   ]
  },
  {
   "cell_type": "code",
   "execution_count": 28,
   "metadata": {},
   "outputs": [
    {
     "name": "stdout",
     "output_type": "stream",
     "text": [
      "université bruxelles apparait 4 fois dans le corpus\n",
      "russie apparait 4 fois dans le corpus\n",
      "europe apparait 4 fois dans le corpus\n",
      "leipzig stuttgart apparait 3 fois dans le corpus\n",
      "france russie apparait 3 fois dans le corpus\n",
      "ozeray apparait 2 fois dans le corpus\n",
      "times apparait 2 fois dans le corpus\n",
      "rud mosse cologne berlin francfort strasbourg munich apparait 2 fois dans le corpus\n",
      "geraci apparait 2 fois dans le corpus\n",
      "union syndicale apparait 2 fois dans le corpus\n",
      "daily mail bruxelles apparait 1 fois dans le corpus\n",
      "iej luzsmispsurg apparait 1 fois dans le corpus\n",
      "congréga apparait 1 fois dans le corpus\n",
      "miiri con seil apparait 1 fois dans le corpus\n",
      "world fair liégeoise apparait 1 fois dans le corpus\n",
      "académie royale belgique congrès international archéologie athènes apparait 1 fois dans le corpus\n",
      "paur qije semaine prochaine apparait 1 fois dans le corpus\n",
      "wauters nouveau député huv ité apparait 1 fois dans le corpus\n",
      "ter monde saint nicolas apparait 1 fois dans le corpus\n",
      "îjs gardiens apparait 1 fois dans le corpus\n",
      "ceito apparait 1 fois dans le corpus\n",
      "cltî ens apparait 1 fois dans le corpus\n",
      "anc ovi apparait 1 fois dans le corpus\n",
      "pau res apparait 1 fois dans le corpus\n",
      "van damme apparait 1 fois dans le corpus\n",
      "cockerill apparait 1 fois dans le corpus\n",
      "luxe ori apparait 1 fois dans le corpus\n",
      "mignonnes républiques taïti venezuela apparait 1 fois dans le corpus\n",
      "institut des sourds apparait 1 fois dans le corpus\n",
      "fairesétrangères apparait 1 fois dans le corpus\n",
      "association internationale africaine apparait 1 fois dans le corpus\n",
      "nez imp kabp rue argent nades apparait 1 fois dans le corpus\n",
      "indes néerlandaises apparait 1 fois dans le corpus\n",
      "sociélé géographie comité exécutif ancien secrétaire apparait 1 fois dans le corpus\n",
      "boig apparait 1 fois dans le corpus\n",
      "allemagne sonîre comité berlin apparait 1 fois dans le corpus\n",
      "manqae apparait 1 fois dans le corpus\n",
      "berlin allemagne apparait 1 fois dans le corpus\n",
      "empire allemagne apparait 1 fois dans le corpus\n",
      "association internationale congo apparait 1 fois dans le corpus\n",
      "association libérale bruxelles apparait 1 fois dans le corpus\n",
      "artdlery company apparait 1 fois dans le corpus\n",
      "ptchwick papers apparait 1 fois dans le corpus\n",
      "milan dance wer soos rubrique iwpu apparait 1 fois dans le corpus\n",
      "allemagne apparait 1 fois dans le corpus\n",
      "schroell apparait 1 fois dans le corpus\n",
      "monugne cour apparait 1 fois dans le corpus\n",
      "france paris samedi mai apparait 1 fois dans le corpus\n",
      "meulebeke apparait 1 fois dans le corpus\n",
      "parti lisbonne apparait 1 fois dans le corpus\n"
     ]
    }
   ],
   "source": [
    "# Trier et imprimer\n",
    "sorted_org = sorted(org.items(), key=lambda kv: kv[1], reverse=True)\n",
    "\n",
    "for loc, freq in sorted_org[:50]:\n",
    "    print(f\"{loc} apparait {freq} fois dans le corpus\")"
   ]
  }
 ],
 "metadata": {
  "kernelspec": {
   "display_name": "Python 3.10.5 ('tac_venv': venv)",
   "language": "python",
   "name": "python3"
  },
  "language_info": {
   "codemirror_mode": {
    "name": "ipython",
    "version": 3
   },
   "file_extension": ".py",
   "mimetype": "text/x-python",
   "name": "python",
   "nbconvert_exporter": "python",
   "pygments_lexer": "ipython3",
   "version": "3.11.3"
  },
  "vscode": {
   "interpreter": {
    "hash": "b1932ab1d169b4769d1550e799423b6477588e745f266d79d9004c136c81607e"
   }
  }
 },
 "nbformat": 4,
 "nbformat_minor": 4
}
