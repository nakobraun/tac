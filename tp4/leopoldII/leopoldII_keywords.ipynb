{
 "cells": [
  {
   "cell_type": "markdown",
   "metadata": {},
   "source": [
    "# Extraction de Keywords"
   ]
  },
  {
   "cell_type": "markdown",
   "metadata": {},
   "source": [
    "## Imports"
   ]
  },
  {
   "cell_type": "code",
   "execution_count": 28,
   "metadata": {},
   "outputs": [],
   "source": [
    "import os\n",
    "import yake"
   ]
  },
  {
   "cell_type": "markdown",
   "metadata": {},
   "source": [
    "## Extraire les mots clés d'un document avec Yake"
   ]
  },
  {
   "cell_type": "markdown",
   "metadata": {},
   "source": [
    "https://github.com/LIAAD/yake"
   ]
  },
  {
   "cell_type": "code",
   "execution_count": 29,
   "metadata": {},
   "outputs": [
    {
     "data": {
      "text/plain": [
       "<yake.yake.KeywordExtractor at 0x7f713808f990>"
      ]
     },
     "execution_count": 29,
     "metadata": {},
     "output_type": "execute_result"
    }
   ],
   "source": [
    "# Instantier l'extracteur de mots clés\n",
    "kw_extractor = yake.KeywordExtractor(lan=\"fr\", top=50)\n",
    "kw_extractor"
   ]
  },
  {
   "cell_type": "code",
   "execution_count": 30,
   "metadata": {},
   "outputs": [],
   "source": [
    "# Lister les Fichiers\n",
    "data_path = \"../data/leopoldII/tmp/txt\"\n",
    "files = os.listdir(data_path)"
   ]
  },
  {
   "cell_type": "code",
   "execution_count": 31,
   "metadata": {},
   "outputs": [
    {
     "data": {
      "text/plain": [
       "22"
      ]
     },
     "execution_count": 31,
     "metadata": {},
     "output_type": "execute_result"
    }
   ],
   "source": [
    "# Imprimer le nombre de fichiers identifiés\n",
    "len(files)"
   ]
  },
  {
   "cell_type": "code",
   "execution_count": 32,
   "metadata": {},
   "outputs": [
    {
     "data": {
      "text/plain": [
       "['1895.txt',\n",
       " '1908.txt',\n",
       " '1897.txt',\n",
       " '1892.txt',\n",
       " '1904.txt',\n",
       " '1900.txt',\n",
       " '1887.txt',\n",
       " '1903.txt',\n",
       " '1889.txt',\n",
       " '1890.txt',\n",
       " '1898.txt',\n",
       " '1907.txt',\n",
       " '1885.txt',\n",
       " '1906.txt',\n",
       " '1902.txt',\n",
       " '1891.txt',\n",
       " '1893.txt',\n",
       " '1899.txt',\n",
       " '1896.txt',\n",
       " '1901.txt']"
      ]
     },
     "execution_count": 32,
     "metadata": {},
     "output_type": "execute_result"
    }
   ],
   "source": [
    "# Les dix premiers fichiers\n",
    "files[:20]"
   ]
  },
  {
   "cell_type": "code",
   "execution_count": 33,
   "metadata": {},
   "outputs": [
    {
     "data": {
      "text/plain": [
       "'1895.txt'"
      ]
     },
     "execution_count": 33,
     "metadata": {},
     "output_type": "execute_result"
    }
   ],
   "source": [
    "# Choisir un fichier\n",
    "this_file = files[0]\n",
    "this_file"
   ]
  },
  {
   "cell_type": "code",
   "execution_count": 34,
   "metadata": {},
   "outputs": [
    {
     "data": {
      "text/plain": [
       "\"tlp> munal; fl à déclaré qu'un procès-verbal a été dressé contre l'entrepreneur et qu'une plainte a été déposée au parquet. Le collège compte taire observer rigoureusement et dans toute leur intégrité les danses du minimum de salaire. Dans là même séance le conseil a adopté à l'unanimité moins une voix (celle Je M. Hanrez) l'acte de donation du nouveau Musée Willems. Le compagnon Ramn a fait ressortir combien ce Musée définitivement acquis à la commune, rendra de services à tous les travailleurs\""
      ]
     },
     "execution_count": 34,
     "metadata": {},
     "output_type": "execute_result"
    }
   ],
   "source": [
    "# Récupérer le texte du fichier\n",
    "text = open(os.path.join(data_path, this_file), 'r').read()\n",
    "text[:500]"
   ]
  },
  {
   "cell_type": "code",
   "execution_count": 35,
   "metadata": {},
   "outputs": [
    {
     "name": "stdout",
     "output_type": "stream",
     "text": [
      "[('Congo', 5.950584228971046e-05), ('politique coloniale', 0.0002163431864635401), ('Belgique', 0.00032917213711347945), ('Chambre', 0.00033858384820095646), ('Bruxelles', 0.00044727029212111906), (\"L'Etat du Congo\", 0.0004845816205544113), ('roi', 0.0004904754269677386), (\"qu'il\", 0.0005000711527015716), (\"C'est\", 0.000581442973470781), ('politique', 0.0006034345389405402), ('question', 0.0007801255591590054), ('juin', 0.0008089032887645575), ('gouvernement', 0.0009477839954533974), ('jour', 0.0009660490973985624), ('chemin de fer', 0.0009821179542000267), ('Browne de Tiège', 0.0010043740819767957), ('belge', 0.001040460884481041), ('Congo produits belges', 0.0010926219342009369), ('dit', 0.0011870735924781179), (\"d'une\", 0.0012151127636780578), ('faire', 0.0012312889677254784), ('ministre', 0.0013084859050586236), ('France', 0.001317288462198143), ('gouvernement belge', 0.0013187583174623571), ('heures', 0.0013663257757281153), (\"d'un\", 0.0013875480751795104), ('loi', 0.0014045271539719043), ('coloniale', 0.0014442801042720418), ('pays', 0.0016300405110194096), ('point', 0.0016807763496409567), ('millions', 0.0017372145022369143), (\"Congo n'est\", 0.0017584560054555668), ('jours', 0.0017811530233285992), ('Belges', 0.0017938980766914498), ('rue', 0.0018058399957009543), (\"l'Etat\", 0.0019047047138942184), ('reprise du Congo', 0.001957980373574977), ('fer', 0.001970030251741856), ('Congo français', 0.0020693589602349487), (\"politique coloniale n'est\", 0.002118605009511792), (\"qu'ils\", 0.0021558623027578866), ('grand', 0.0021798390057246805), ('Belgique coloniale', 0.002192306614851948), ('ans', 0.0021946894846455105), ('demande', 0.002197962634618354), ('c’est', 0.0022364463509992254), ('classe', 0.0022395157774477183), (\"l'Etat belge\", 0.0022694114542018287), ('temps', 0.0022840995481982684), ('Petit Bleu', 0.0023106684433543377)]\n"
     ]
    }
   ],
   "source": [
    "# Extraire les mots clés de ce texte\n",
    "keywords = kw_extractor.extract_keywords(text)\n",
    "print(keywords)"
   ]
  },
  {
   "cell_type": "code",
   "execution_count": 36,
   "metadata": {},
   "outputs": [
    {
     "data": {
      "text/plain": [
       "['politique coloniale',\n",
       " 'gouvernement belge',\n",
       " \"Congo n'est\",\n",
       " 'Congo français',\n",
       " 'Belgique coloniale',\n",
       " \"l'Etat belge\",\n",
       " 'Petit Bleu']"
      ]
     },
     "execution_count": 36,
     "metadata": {},
     "output_type": "execute_result"
    }
   ],
   "source": [
    "# Ne garder que les bigrammes\n",
    "kept = []\n",
    "for kw, score in keywords:\n",
    "    words = kw.split()\n",
    "    if len(words) == 2:\n",
    "        kept.append(kw)\n",
    "kept"
   ]
  },
  {
   "cell_type": "markdown",
   "metadata": {},
   "source": [
    "## Faire la même opération sur tous les documents"
   ]
  },
  {
   "cell_type": "code",
   "execution_count": 38,
   "metadata": {},
   "outputs": [
    {
     "name": "stdout",
     "output_type": "stream",
     "text": [
      "1885.txt mentions these keywords: section belge, section française, avons déjà, GRANDE GALERIE, colonies portugaises, haut Congo, C'est l'exposition, l'Exposition d'Anvers, sections étrangères...\n",
      "1887.txt mentions these keywords: RUE D'ARGENT, consul général, MER ROUGE, rue Richer, parce qu'il, déclare qu'il, prince Ferdinand, mais qu'il, Congo qu'il, l'Etat libre...\n",
      "1889.txt mentions these keywords: République belge, grand nombre, général Boulanger, politique coloniale...\n",
      "1890.txt mentions these keywords: l'Etat Belge, hier soir, Politique coloniale, l'Etat indépendant, gouvernement belge...\n",
      "1891.txt mentions these keywords: Jusqu’il s’agit, grand nombre, jeune fille, VIEUX TIMBRES...\n",
      "1892.txt mentions these keywords: droit électoral, d'une exposition, c'est qu'il, EXPOSITION BRUXELLES, Van Kerckhoven...\n",
      "1893.txt mentions these keywords: DEVIENT FLORISSANTE, parts fondât, Société Générale, Nord belge, parts fond, Expositions Paris, générale ordinaire...\n",
      "1894.txt mentions these keywords: Petit Bleu, CONSEIL SUPÉRIEUR, capitaine Romani, BRUXELLES Abonnement, L'AFFAIRE ROMANI, capitaine Daenen...\n",
      "1895.txt mentions these keywords: politique coloniale, gouvernement belge, Congo n'est, Congo français, Belgique coloniale, l'Etat belge, Petit Bleu...\n",
      "1896.txt mentions these keywords: politique coloniale, Bruxelles ABONNEMENT, Belgique coloniale, Conseil provincial...\n",
      "1897.txt mentions these keywords: Petit Bleu, Belgique coloniale, grand nombre, Bruxelles ABONNEMENT, d'un grand, Bruxelles BUREAUX...\n",
      "1898.txt mentions these keywords: Maison rue, Van Gèle, Congo français, Société belge...\n",
      "1899.txt mentions these keywords: Grand Prix, Banque Coloniale, Banque ottomane, Lots Congo, Banque Paris, Trust colonial, Banque Nationale, Villes Belgique...\n",
      "1900.txt mentions these keywords: Grand Prix, Petit Bleu, Banque Nationale, Nord Espagne, Lots Congo, Banque Ottomane, Société Générale, Trust Colonial, Bruxelles Banque, Banque France...\n",
      "1901.txt mentions these keywords: Grand Prix, Exposition Universelle, VILLES Belgique, Banque Nationale, SOCIÉTÉ ANONYME, rue Neuve, Trust Colonial, Tramways Anvers...\n",
      "1902.txt mentions these keywords: grand prix, SOCIÉTÉ ANONYME, Exposition Universelle, Mining Trust, Bruxelles prix, Ateliers Paris, Banque Nationale, Trust colonial, Société Générale...\n",
      "1903.txt mentions these keywords: Arg Emp, Ateliers Paris, Société Générale, Paris Vienne, Congo ord, INDUSTRIES TEXTILES, Coloniale Industrielle, Société anonyme, Nord Espagne...\n",
      "1904.txt mentions these keywords: Société belge, Produits Congo, SOCIÉTÉ ANONYME, belges Jumet, Trust Colonial, BRUXELLES Bruxelles...\n",
      "1905.txt mentions these keywords: Nord belge, Midi Russie, BRUXELLES Bruxelles, Société Belge, VILLES Belgique, Congo ord, Trust Colonial, Marché calme, Nord Donetz, GRAND HOTEL, Nord France...\n",
      "1906.txt mentions these keywords: Congo part, Chambre belge, Congo belge, fer Bruxelles, Congo ord...\n",
      "1907.txt mentions these keywords: Parlement belge, Congo belge, Congo ord, Auxiliaire Brésil, Marché calme, gouvernement belge, Nord Espagne, loi coloniale...\n",
      "1908.txt mentions these keywords: Congo belge, loi coloniale, Parlement belge, Société belge, POLITIQUE COLONIALE, gouvernement belge, Chambre belge, CHAMBRE Séance, CONGO FRANÇAIS, PETIT BLEU...\n"
     ]
    }
   ],
   "source": [
    "for f in sorted(files[:22]):\n",
    "    text = open(os.path.join(data_path, f), 'r').read()\n",
    "    keywords = kw_extractor.extract_keywords(text)\n",
    "    kept = []\n",
    "    for kw, score in keywords:\n",
    "        words = kw.split()\n",
    "        if len(words) == 2:\n",
    "            kept.append(kw)\n",
    "    print(f\"{f} mentions these keywords: {', '.join(kept)}...\")"
   ]
  }
 ],
 "metadata": {
  "kernelspec": {
   "display_name": "Python 3.10.5 ('tac_venv': venv)",
   "language": "python",
   "name": "python3"
  },
  "language_info": {
   "codemirror_mode": {
    "name": "ipython",
    "version": 3
   },
   "file_extension": ".py",
   "mimetype": "text/x-python",
   "name": "python",
   "nbconvert_exporter": "python",
   "pygments_lexer": "ipython3",
   "version": "3.11.3"
  },
  "vscode": {
   "interpreter": {
    "hash": "b1932ab1d169b4769d1550e799423b6477588e745f266d79d9004c136c81607e"
   }
  }
 },
 "nbformat": 4,
 "nbformat_minor": 4
}
