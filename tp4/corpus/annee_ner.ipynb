{
 "cells": [
  {
   "cell_type": "markdown",
   "metadata": {},
   "source": [
    "# Reconnaissance d'entités nommées avec SpaCy"
   ]
  },
  {
   "cell_type": "markdown",
   "metadata": {},
   "source": [
    "La documentation est accessible ici: https://spacy.io/api"
   ]
  },
  {
   "cell_type": "markdown",
   "metadata": {},
   "source": [
    "## Imports"
   ]
  },
  {
   "cell_type": "code",
   "execution_count": 36,
   "metadata": {},
   "outputs": [],
   "source": [
    "from collections import defaultdict\n",
    "import sys\n",
    "import spacy\n",
    "from spacy.lang.fr.examples import sentences"
   ]
  },
  {
   "cell_type": "code",
   "execution_count": 37,
   "metadata": {},
   "outputs": [],
   "source": [
    "nlp = spacy.load('fr_core_news_md')"
   ]
  },
  {
   "cell_type": "markdown",
   "metadata": {},
   "source": [
    "## Appliquer la reconnaissance d'entités nommées sur notre corpus"
   ]
  },
  {
   "cell_type": "code",
   "execution_count": 38,
   "metadata": {},
   "outputs": [],
   "source": [
    "# Charger le texte\n",
    "n=900000\n",
    "text = open(\"../../data/corpus/tmp/clean/1908_clean.txt\", encoding='utf-8').read()[:n]"
   ]
  },
  {
   "cell_type": "code",
   "execution_count": 39,
   "metadata": {},
   "outputs": [
    {
     "name": "stdout",
     "output_type": "stream",
     "text": [
      "CPU times: user 32.2 s, sys: 408 ms, total: 32.6 s\n",
      "Wall time: 32.8 s\n"
     ]
    }
   ],
   "source": [
    "%%time\n",
    "# Traiter le texte\n",
    "\n",
    "doc = nlp(text)"
   ]
  },
  {
   "cell_type": "code",
   "execution_count": 40,
   "metadata": {},
   "outputs": [],
   "source": [
    "# Compter les entités\n",
    "people = defaultdict(int)\n",
    "for ent in doc.ents:\n",
    "    if ent.label_ == \"PER\" and len(ent.text) > 3:\n",
    "        people[ent.text] += 1"
   ]
  },
  {
   "cell_type": "code",
   "execution_count": 41,
   "metadata": {},
   "outputs": [
    {
     "name": "stdout",
     "output_type": "stream",
     "text": [
      "vandervelde apparait 52 fois dans le corpus\n",
      "bertrand apparait 34 fois dans le corpus\n",
      "schollaert apparait 14 fois dans le corpus\n",
      "jaurès apparait 13 fois dans le corpus\n",
      "christ apparait 11 fois dans le corpus\n",
      "castro apparait 11 fois dans le corpus\n",
      "janson apparait 10 fois dans le corpus\n",
      "roosevelt apparait 9 fois dans le corpus\n",
      "léopold apparait 8 fois dans le corpus\n",
      "hubin apparait 8 fois dans le corpus\n"
     ]
    }
   ],
   "source": [
    "# Trier et imprimer\n",
    "sorted_people = sorted(people.items(), key=lambda kv: kv[1], reverse=True)\n",
    "\n",
    "for person, freq in sorted_people[:10]:\n",
    "    print(f\"{person} apparait {freq} fois dans le corpus\")"
   ]
  },
  {
   "cell_type": "markdown",
   "metadata": {},
   "source": [
    "Exercice: essayez de lister les lieux (LOC) et les organisations (ORG) les plus mentionnées dans le corpus"
   ]
  },
  {
   "cell_type": "code",
   "execution_count": 42,
   "metadata": {},
   "outputs": [],
   "source": [
    "# Compter les entités\n",
    "location = defaultdict(int)\n",
    "for ent in doc.ents:\n",
    "    if ent.label_ == \"LOC\" and len(ent.text) > 3:\n",
    "        location[ent.text] += 1"
   ]
  },
  {
   "cell_type": "code",
   "execution_count": 43,
   "metadata": {},
   "outputs": [
    {
     "name": "stdout",
     "output_type": "stream",
     "text": [
      "congo apparait 131 fois dans le corpus\n",
      "belgique apparait 108 fois dans le corpus\n",
      "bruxelles apparait 94 fois dans le corpus\n",
      "paris apparait 59 fois dans le corpus\n",
      "angleterre apparait 47 fois dans le corpus\n",
      "france apparait 45 fois dans le corpus\n",
      "berlin apparait 33 fois dans le corpus\n",
      "allemagne apparait 32 fois dans le corpus\n",
      "londres apparait 21 fois dans le corpus\n",
      "russie apparait 19 fois dans le corpus\n",
      "europe apparait 18 fois dans le corpus\n",
      "liège apparait 14 fois dans le corpus\n",
      "rome apparait 14 fois dans le corpus\n",
      "gand apparait 13 fois dans le corpus\n",
      "york apparait 12 fois dans le corpus\n",
      "italie apparait 11 fois dans le corpus\n",
      "espagne apparait 8 fois dans le corpus\n",
      "charleroi apparait 8 fois dans le corpus\n",
      "afrique apparait 8 fois dans le corpus\n",
      "schaerbeek apparait 8 fois dans le corpus\n",
      "turquie apparait 8 fois dans le corpus\n",
      "téhéran apparait 8 fois dans le corpus\n",
      "hambourg apparait 6 fois dans le corpus\n",
      "varsovie apparait 6 fois dans le corpus\n",
      "etat apparait 6 fois dans le corpus\n",
      "macédoine apparait 6 fois dans le corpus\n",
      "maroc apparait 6 fois dans le corpus\n",
      "namur apparait 6 fois dans le corpus\n",
      "amérique apparait 6 fois dans le corpus\n",
      "brooklyn apparait 5 fois dans le corpus\n",
      "anvers apparait 5 fois dans le corpus\n",
      "grande bretagne apparait 5 fois dans le corpus\n",
      "copenhague apparait 5 fois dans le corpus\n",
      "japon apparait 5 fois dans le corpus\n",
      "congo belgique apparait 5 fois dans le corpus\n",
      "cologne apparait 5 fois dans le corpus\n",
      "canada apparait 4 fois dans le corpus\n",
      "bruges apparait 4 fois dans le corpus\n",
      "metz apparait 4 fois dans le corpus\n",
      "autriche apparait 4 fois dans le corpus\n",
      "danemark apparait 4 fois dans le corpus\n",
      "lille apparait 4 fois dans le corpus\n",
      "chine apparait 4 fois dans le corpus\n",
      "constantinople apparait 4 fois dans le corpus\n",
      "lorand apparait 4 fois dans le corpus\n",
      "madrid apparait 4 fois dans le corpus\n",
      "devèze apparait 3 fois dans le corpus\n",
      "seine apparait 3 fois dans le corpus\n",
      "chicago apparait 3 fois dans le corpus\n",
      "vandervelde apparait 3 fois dans le corpus\n"
     ]
    }
   ],
   "source": [
    "# Trier et imprimer\n",
    "sorted_location = sorted(location.items(), key=lambda kv: kv[1], reverse=True)\n",
    "\n",
    "for loc, freq in sorted_location[:50]:\n",
    "    print(f\"{loc} apparait {freq} fois dans le corpus\")"
   ]
  },
  {
   "cell_type": "code",
   "execution_count": 44,
   "metadata": {},
   "outputs": [],
   "source": [
    "# Compter les entités\n",
    "org = defaultdict(int)\n",
    "for ent in doc.ents:\n",
    "    if ent.label_ == \"ORG\" and len(ent.text) > 3:\n",
    "        org[ent.text] += 1"
   ]
  },
  {
   "cell_type": "code",
   "execution_count": 45,
   "metadata": {},
   "outputs": [
    {
     "name": "stdout",
     "output_type": "stream",
     "text": [
      "douma apparait 4 fois dans le corpus\n",
      "europe apparait 2 fois dans le corpus\n",
      "congo belge apparait 2 fois dans le corpus\n",
      "mouley hafid apparait 2 fois dans le corpus\n",
      "journal bruxelles apparait 2 fois dans le corpus\n",
      "daans apparait 2 fois dans le corpus\n",
      "miss severn apparait 2 fois dans le corpus\n",
      "france belgique apparait 2 fois dans le corpus\n",
      "peugeot apparait 2 fois dans le corpus\n",
      "matapan apparait 2 fois dans le corpus\n",
      "commission xvii apparait 2 fois dans le corpus\n",
      "londres journal parisien oession apparait 1 fois dans le corpus\n",
      "berlinois socia stes garde danger parti apparait 1 fois dans le corpus\n",
      "nieuport malle douvres apparait 1 fois dans le corpus\n",
      "france angleterre apparait 1 fois dans le corpus\n",
      "balmoral parti apparait 1 fois dans le corpus\n",
      "queen apparait 1 fois dans le corpus\n",
      "boiteuee apparait 1 fois dans le corpus\n",
      "puitsance économique apparait 1 fois dans le corpus\n",
      "école camus apparait 1 fois dans le corpus\n",
      "commission administrât ecole travaux publics apparait 1 fois dans le corpus\n",
      "articv apparait 1 fois dans le corpus\n",
      "bruxelles journal meusea liège apparait 1 fois dans le corpus\n",
      "école mécanique licge huis clos apparait 1 fois dans le corpus\n",
      "nuiîe apparait 1 fois dans le corpus\n",
      "agence madeleine dépôts bruxelles province rédaction téléphones administration annonces troisieme apparait 1 fois dans le corpus\n",
      "coror apparait 1 fois dans le corpus\n",
      "miss tresse lawrance apparait 1 fois dans le corpus\n",
      "revue frascaty apparait 1 fois dans le corpus\n",
      "bitué apparait 1 fois dans le corpus\n",
      "ecole agriculture lima pérou wilford apparait 1 fois dans le corpus\n",
      "dejeudi apparait 1 fois dans le corpus\n",
      "congo honneur national apparait 1 fois dans le corpus\n",
      "urife tmtaôd dvonrkoo hectares apparait 1 fois dans le corpus\n",
      "uâtimecta machines apparait 1 fois dans le corpus\n",
      "néserve slebit apparait 1 fois dans le corpus\n",
      "ppâlea apparait 1 fois dans le corpus\n",
      "statuteiâne efiectué jiea bénéfices cnetrcke apparait 1 fois dans le corpus\n",
      "utjc apparait 1 fois dans le corpus\n",
      "mectrèws outillage sonatent eànai apparait 1 fois dans le corpus\n",
      "pdofiîs peotes apparait 1 fois dans le corpus\n",
      "fonto allemagne apparait 1 fois dans le corpus\n",
      "france allemagne angleterre belgique apparait 1 fois dans le corpus\n",
      "feluy apparait 1 fois dans le corpus\n",
      "jumet roux apparait 1 fois dans le corpus\n",
      "antres sionomics apparait 1 fois dans le corpus\n",
      "uires apparait 1 fois dans le corpus\n",
      "elans monde entier drapeau rouge apparait 1 fois dans le corpus\n",
      "assemblée tres apparait 1 fois dans le corpus\n",
      "ifos apparait 1 fois dans le corpus\n"
     ]
    }
   ],
   "source": [
    "# Trier et imprimer\n",
    "sorted_org = sorted(org.items(), key=lambda kv: kv[1], reverse=True)\n",
    "\n",
    "for loc, freq in sorted_org[:50]:\n",
    "    print(f\"{loc} apparait {freq} fois dans le corpus\")"
   ]
  }
 ],
 "metadata": {
  "kernelspec": {
   "display_name": "Python 3.10.5 ('tac_venv': venv)",
   "language": "python",
   "name": "python3"
  },
  "language_info": {
   "codemirror_mode": {
    "name": "ipython",
    "version": 3
   },
   "file_extension": ".py",
   "mimetype": "text/x-python",
   "name": "python",
   "nbconvert_exporter": "python",
   "pygments_lexer": "ipython3",
   "version": "3.11.3"
  },
  "vscode": {
   "interpreter": {
    "hash": "b1932ab1d169b4769d1550e799423b6477588e745f266d79d9004c136c81607e"
   }
  }
 },
 "nbformat": 4,
 "nbformat_minor": 4
}
