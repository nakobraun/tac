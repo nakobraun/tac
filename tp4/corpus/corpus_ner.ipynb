{
 "cells": [
  {
   "cell_type": "markdown",
   "metadata": {},
   "source": [
    "# Reconnaissance d'entités nommées avec SpaCy"
   ]
  },
  {
   "cell_type": "markdown",
   "metadata": {},
   "source": [
    "La documentation est accessible ici: https://spacy.io/api"
   ]
  },
  {
   "cell_type": "markdown",
   "metadata": {},
   "source": [
    "## Imports"
   ]
  },
  {
   "cell_type": "code",
   "execution_count": 7,
   "metadata": {},
   "outputs": [],
   "source": [
    "from collections import defaultdict\n",
    "import sys\n",
    "import spacy\n",
    "from spacy.lang.fr.examples import sentences"
   ]
  },
  {
   "cell_type": "code",
   "execution_count": 8,
   "metadata": {},
   "outputs": [],
   "source": [
    "nlp = spacy.load('fr_core_news_md')"
   ]
  },
  {
   "cell_type": "markdown",
   "metadata": {},
   "source": [
    "## Appliquer la reconnaissance d'entités nommées sur notre corpus"
   ]
  },
  {
   "cell_type": "code",
   "execution_count": 9,
   "metadata": {},
   "outputs": [],
   "source": [
    "# Charger le texte\n",
    "n=900000\n",
    "text = open(\"../../data/corpus/corpus_clean.txt\", encoding='utf-8').read()[:n]"
   ]
  },
  {
   "cell_type": "code",
   "execution_count": 10,
   "metadata": {},
   "outputs": [
    {
     "name": "stdout",
     "output_type": "stream",
     "text": [
      "CPU times: user 29.5 s, sys: 915 ms, total: 30.4 s\n",
      "Wall time: 30.6 s\n"
     ]
    }
   ],
   "source": [
    "%%time\n",
    "# Traiter le texte\n",
    "\n",
    "doc = nlp(text)"
   ]
  },
  {
   "cell_type": "code",
   "execution_count": 11,
   "metadata": {},
   "outputs": [],
   "source": [
    "# Compter les entités\n",
    "people = defaultdict(int)\n",
    "for ent in doc.ents:\n",
    "    if ent.label_ == \"PER\" and len(ent.text) > 3:\n",
    "        people[ent.text] += 1"
   ]
  },
  {
   "cell_type": "code",
   "execution_count": 13,
   "metadata": {},
   "outputs": [
    {
     "name": "stdout",
     "output_type": "stream",
     "text": [
      "beernaert apparait 20 fois dans le corpus\n",
      "gladstone apparait 16 fois dans le corpus\n",
      "léopold apparait 15 fois dans le corpus\n",
      "saint pétersbourg apparait 15 fois dans le corpus\n",
      "vandervelde apparait 13 fois dans le corpus\n",
      "parnell apparait 13 fois dans le corpus\n",
      "christ apparait 12 fois dans le corpus\n",
      "emin apparait 12 fois dans le corpus\n",
      "stœssel apparait 9 fois dans le corpus\n",
      "schollaert apparait 9 fois dans le corpus\n"
     ]
    }
   ],
   "source": [
    "# Trier et imprimer\n",
    "sorted_people = sorted(people.items(), key=lambda kv: kv[1], reverse=True)\n",
    "\n",
    "for person, freq in sorted_people[:10]:\n",
    "    print(f\"{person} apparait {freq} fois dans le corpus\")"
   ]
  },
  {
   "cell_type": "markdown",
   "metadata": {},
   "source": [
    "Exercice: essayez de lister les lieux (LOC) et les organisations (ORG) les plus mentionnées dans le corpus"
   ]
  },
  {
   "cell_type": "code",
   "execution_count": 14,
   "metadata": {},
   "outputs": [],
   "source": [
    "# Compter les entités\n",
    "location = defaultdict(int)\n",
    "for ent in doc.ents:\n",
    "    if ent.label_ == \"LOC\" and len(ent.text) > 3:\n",
    "        location[ent.text] += 1"
   ]
  },
  {
   "cell_type": "code",
   "execution_count": 15,
   "metadata": {},
   "outputs": [
    {
     "name": "stdout",
     "output_type": "stream",
     "text": [
      "bruxelles apparait 134 fois dans le corpus\n",
      "france apparait 99 fois dans le corpus\n",
      "congo apparait 93 fois dans le corpus\n",
      "belgique apparait 87 fois dans le corpus\n",
      "paris apparait 70 fois dans le corpus\n",
      "angleterre apparait 46 fois dans le corpus\n",
      "berlin apparait 43 fois dans le corpus\n",
      "russie apparait 38 fois dans le corpus\n",
      "allemagne apparait 30 fois dans le corpus\n",
      "europe apparait 29 fois dans le corpus\n",
      "londres apparait 28 fois dans le corpus\n",
      "portugal apparait 25 fois dans le corpus\n",
      "italie apparait 23 fois dans le corpus\n",
      "afrique apparait 20 fois dans le corpus\n",
      "arlon apparait 13 fois dans le corpus\n",
      "york apparait 13 fois dans le corpus\n",
      "rome apparait 13 fois dans le corpus\n",
      "gand apparait 13 fois dans le corpus\n",
      "chine apparait 12 fois dans le corpus\n",
      "madrid apparait 11 fois dans le corpus\n",
      "bastogne apparait 10 fois dans le corpus\n",
      "liège apparait 10 fois dans le corpus\n",
      "namur apparait 9 fois dans le corpus\n",
      "etat apparait 9 fois dans le corpus\n",
      "canada apparait 9 fois dans le corpus\n",
      "constantinople apparait 9 fois dans le corpus\n",
      "espagne apparait 9 fois dans le corpus\n",
      "athènes apparait 9 fois dans le corpus\n",
      "anvers apparait 8 fois dans le corpus\n",
      "ostende apparait 7 fois dans le corpus\n",
      "congo belgique apparait 7 fois dans le corpus\n",
      "grande bretagne apparait 7 fois dans le corpus\n",
      "amérique apparait 7 fois dans le corpus\n",
      "zurich apparait 6 fois dans le corpus\n",
      "pasicrisie apparait 6 fois dans le corpus\n",
      "mons apparait 5 fois dans le corpus\n",
      "nancy apparait 5 fois dans le corpus\n",
      "francfort apparait 5 fois dans le corpus\n",
      "egypte apparait 5 fois dans le corpus\n",
      "grèce apparait 5 fois dans le corpus\n",
      "virton apparait 4 fois dans le corpus\n",
      "jérusalem apparait 4 fois dans le corpus\n",
      "escaut apparait 4 fois dans le corpus\n",
      "japon apparait 4 fois dans le corpus\n",
      "québec apparait 4 fois dans le corpus\n",
      "turquie apparait 4 fois dans le corpus\n",
      "marseille apparait 4 fois dans le corpus\n",
      "chicago apparait 4 fois dans le corpus\n",
      "autriche apparait 4 fois dans le corpus\n",
      "australie apparait 4 fois dans le corpus\n"
     ]
    }
   ],
   "source": [
    "# Trier et imprimer\n",
    "sorted_location = sorted(location.items(), key=lambda kv: kv[1], reverse=True)\n",
    "\n",
    "for loc, freq in sorted_location[:50]:\n",
    "    print(f\"{loc} apparait {freq} fois dans le corpus\")"
   ]
  },
  {
   "cell_type": "code",
   "execution_count": 16,
   "metadata": {},
   "outputs": [],
   "source": [
    "# Compter les entités\n",
    "org = defaultdict(int)\n",
    "for ent in doc.ents:\n",
    "    if ent.label_ == \"ORG\" and len(ent.text) > 3:\n",
    "        org[ent.text] += 1"
   ]
  },
  {
   "cell_type": "code",
   "execution_count": 17,
   "metadata": {},
   "outputs": [
    {
     "name": "stdout",
     "output_type": "stream",
     "text": [
      "succursales étranger apparait 6 fois dans le corpus\n",
      "leipzig stuttgart apparait 4 fois dans le corpus\n",
      "parnell apparait 4 fois dans le corpus\n",
      "united ireland apparait 4 fois dans le corpus\n",
      "russie apparait 3 fois dans le corpus\n",
      "france allemagne apparait 3 fois dans le corpus\n",
      "europe apparait 2 fois dans le corpus\n",
      "osman digma apparait 2 fois dans le corpus\n",
      "berun apparait 2 fois dans le corpus\n",
      "legrand apparait 2 fois dans le corpus\n",
      "ministre allemagne apparait 2 fois dans le corpus\n",
      "belg apparait 2 fois dans le corpus\n",
      "daily news apparait 2 fois dans le corpus\n",
      "flst apparait 1 fois dans le corpus\n",
      "audi apparait 1 fois dans le corpus\n",
      "jubé grégorienne apparait 1 fois dans le corpus\n",
      "séminaire bastogne apparait 1 fois dans le corpus\n",
      "lads apparait 1 fois dans le corpus\n",
      "faculté droit nerincx apparait 1 fois dans le corpus\n",
      "faculté sciences professeur marchand apparait 1 fois dans le corpus\n",
      "université mlle eugénie watelet apparait 1 fois dans le corpus\n",
      "parti khoungouses russes apparait 1 fois dans le corpus\n",
      "ïcépubiique française apparait 1 fois dans le corpus\n",
      "wellington capitale apparait 1 fois dans le corpus\n",
      "berlin accord apparait 1 fois dans le corpus\n",
      "câltitlc expériences soig apparait 1 fois dans le corpus\n",
      "concours prix rome geneviève brabant oxécutec apparait 1 fois dans le corpus\n",
      "marot apparait 1 fois dans le corpus\n",
      "déchéance etat congo apparait 1 fois dans le corpus\n",
      "etat allemagne apparait 1 fois dans le corpus\n",
      "ministre allemagne belgique apparait 1 fois dans le corpus\n",
      "gand liège apparait 1 fois dans le corpus\n",
      "mouley hafid apparait 1 fois dans le corpus\n",
      "mouley hafid reine espagne apparait 1 fois dans le corpus\n",
      "académie française siège apparait 1 fois dans le corpus\n",
      "conseil empire apparait 1 fois dans le corpus\n",
      "marine nouvelle apparait 1 fois dans le corpus\n",
      "semr apparait 1 fois dans le corpus\n",
      "molika santa calabria curnahia apparait 1 fois dans le corpus\n",
      "luzzaiisur conférence internationale paix monétaire apparait 1 fois dans le corpus\n",
      "vimprinierie annonces abonnetnents apparait 1 fois dans le corpus\n",
      "basilitrue romane apparait 1 fois dans le corpus\n",
      "france opérations apparait 1 fois dans le corpus\n",
      "commission xvii apparait 1 fois dans le corpus\n",
      "wœste apparait 1 fois dans le corpus\n",
      "lantsheere projet colonial apparait 1 fois dans le corpus\n",
      "btact pigeons voyageurs apparait 1 fois dans le corpus\n",
      "ministère gambelta apparait 1 fois dans le corpus\n",
      "belgique neutralité congo pareille belgique apparait 1 fois dans le corpus\n",
      "orléans miss bertha emma lewis mère princes isenbourg birstein apparait 1 fois dans le corpus\n"
     ]
    }
   ],
   "source": [
    "# Trier et imprimer\n",
    "sorted_org = sorted(org.items(), key=lambda kv: kv[1], reverse=True)\n",
    "\n",
    "for loc, freq in sorted_org[:50]:\n",
    "    print(f\"{loc} apparait {freq} fois dans le corpus\")"
   ]
  }
 ],
 "metadata": {
  "kernelspec": {
   "display_name": "Python 3.10.5 ('tac_venv': venv)",
   "language": "python",
   "name": "python3"
  },
  "language_info": {
   "codemirror_mode": {
    "name": "ipython",
    "version": 3
   },
   "file_extension": ".py",
   "mimetype": "text/x-python",
   "name": "python",
   "nbconvert_exporter": "python",
   "pygments_lexer": "ipython3",
   "version": "3.11.3"
  },
  "vscode": {
   "interpreter": {
    "hash": "b1932ab1d169b4769d1550e799423b6477588e745f266d79d9004c136c81607e"
   }
  }
 },
 "nbformat": 4,
 "nbformat_minor": 4
}
