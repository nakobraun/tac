{
 "cells": [
  {
   "cell_type": "markdown",
   "metadata": {},
   "source": [
    "# Extraction de Keywords"
   ]
  },
  {
   "cell_type": "markdown",
   "metadata": {},
   "source": [
    "## Imports"
   ]
  },
  {
   "cell_type": "code",
   "execution_count": 1,
   "metadata": {},
   "outputs": [],
   "source": [
    "import os\n",
    "import yake"
   ]
  },
  {
   "cell_type": "markdown",
   "metadata": {},
   "source": [
    "## Extraire les mots clés d'un document avec Yake"
   ]
  },
  {
   "cell_type": "markdown",
   "metadata": {},
   "source": [
    "https://github.com/LIAAD/yake"
   ]
  },
  {
   "cell_type": "code",
   "execution_count": 2,
   "metadata": {},
   "outputs": [
    {
     "data": {
      "text/plain": [
       "<yake.yake.KeywordExtractor at 0x7fb5e40e1a10>"
      ]
     },
     "execution_count": 2,
     "metadata": {},
     "output_type": "execute_result"
    }
   ],
   "source": [
    "# Instantier l'extracteur de mots clés\n",
    "kw_extractor = yake.KeywordExtractor(lan=\"fr\", top=50)\n",
    "kw_extractor"
   ]
  },
  {
   "cell_type": "code",
   "execution_count": 15,
   "metadata": {},
   "outputs": [],
   "source": [
    "# Lister les Fichiers\n",
    "data_path = \"../../data/corpus/tmp/txt\"\n",
    "files = os.listdir(data_path)"
   ]
  },
  {
   "cell_type": "code",
   "execution_count": 16,
   "metadata": {},
   "outputs": [
    {
     "data": {
      "text/plain": [
       "24"
      ]
     },
     "execution_count": 16,
     "metadata": {},
     "output_type": "execute_result"
    }
   ],
   "source": [
    "# Imprimer le nombre de fichiers identifiés\n",
    "len(files)"
   ]
  },
  {
   "cell_type": "code",
   "execution_count": 17,
   "metadata": {},
   "outputs": [
    {
     "data": {
      "text/plain": [
       "['1888.txt',\n",
       " '1895.txt',\n",
       " '1908.txt',\n",
       " '1897.txt',\n",
       " '1892.txt',\n",
       " '1904.txt',\n",
       " '1900.txt',\n",
       " '1887.txt',\n",
       " '1886.txt',\n",
       " '1903.txt',\n",
       " '1889.txt',\n",
       " '1890.txt',\n",
       " '1898.txt',\n",
       " '1907.txt',\n",
       " '1885.txt',\n",
       " '1906.txt',\n",
       " '1902.txt',\n",
       " '1891.txt',\n",
       " '1893.txt',\n",
       " '1899.txt']"
      ]
     },
     "execution_count": 17,
     "metadata": {},
     "output_type": "execute_result"
    }
   ],
   "source": [
    "# Les dix premiers fichiers\n",
    "files[:20]"
   ]
  },
  {
   "cell_type": "markdown",
   "metadata": {},
   "source": [
    "## Faire la même opération sur tous les documents"
   ]
  },
  {
   "cell_type": "code",
   "execution_count": 21,
   "metadata": {},
   "outputs": [
    {
     "name": "stdout",
     "output_type": "stream",
     "text": [
      "1885.txt mentions these keywords: Société anonyme, roi Léopold, rue Léopold, politique coloniale, dit qu'il, qu'il faut, Société royale...\n",
      "1886.txt mentions these keywords: Dessin ombré, prix partagé, arrêté royal...\n",
      "1887.txt mentions these keywords: ler prix, grand concours, lieu dans...\n",
      "1888.txt mentions these keywords: prix partagé, Grand concours, service militaire, Léon XIII, nouvelle loi...\n",
      "1889.txt mentions these keywords: grand nombre, van der, politique coloniale, comte van...\n",
      "1890.txt mentions these keywords: roi Léopold, politique coloniale, gouvernement belge, l'Etat Belge, Conseil provincial, Conseil communal...\n",
      "1891.txt mentions these keywords: L'impératrice Frédéric, Chambre française, prix partagé, année d'études...\n",
      "1892.txt mentions these keywords: prix partagé, l'Etat indépendant, Cercle d'escrime, VAN KERCKHOVEN, Dessin ombré...\n",
      "1893.txt mentions these keywords: Congo n'est, politique coloniale...\n",
      "1894.txt mentions these keywords: grand concours, CAPITAINE JACQUES, Hier soir, grand nombre...\n",
      "1895.txt mentions these keywords: politique coloniale, Congo belge, PARTI OUVRIER, Congo n'est, l'Etat indépendant, roi Léopold, gouvernement belge, l'Etat belge...\n",
      "1896.txt mentions these keywords: nous nous, nous avons, Mais nous, Nous sommes, Congo nous, mais c'est, qu'il nous, politique coloniale, conseil communal, nous faire...\n",
      "1897.txt mentions these keywords: nous avons, nous nous, Nous sommes, nous faire, conseil communal, grand nombre...\n",
      "1898.txt mentions these keywords: Conseil communal, conseil général, année d'études, rue Royale...\n",
      "1899.txt mentions these keywords: Banque Nationale, Villes Belgique, Banque ottomane, Lots Congo, Banque Paris, Banque Coloniale, Banque France, Trust Colonial...\n",
      "1900.txt mentions these keywords: Nord Espagne, Trust Colonial, Société Générale, Banque Coloniale, Villes Belgique, Banque France, Banque Nationale, Banque Ottomane...\n",
      "1901.txt mentions these keywords: Bruxelles dans, VILLES Belgique, Grand Prix, politique coloniale, ler prix, place dans, Congo belge, Société Belge, c'est dans...\n",
      "1902.txt mentions these keywords: ler prix, société anonyme, GRAND HOTEL, BRUXELLES Prix, villes Belgique, Société Générale, Bruxelles Banque, BRUXELLES Bruxelles...\n",
      "1903.txt mentions these keywords: Idem div, Idem ord, Société générale, Idem fond, Nord France, Société Belge, FER Congo, Bruxelles Société, Congo ord...\n",
      "1904.txt mentions these keywords: roi Léopold, conseil communal...\n",
      "1905.txt mentions these keywords: l'Etat Indépendant, Congo belge, Petit Bleu, roi Léopold, Congo Français, d'un grand, grand nombre...\n",
      "1906.txt mentions these keywords: l'Etat indépendant, Congo belge, Chambre belge, roi Léopold, politique coloniale, Congo français, gouvernement belge, Petit Bleu, Parlement belge, c'est qu'il...\n",
      "1907.txt mentions these keywords: roi Léopold, Parlement belge, Congo belge, Chambre belge, gouvernement belge, qu'il faut, loi coloniale, l'Etat indépendant, c'est qu'il, Commission coloniale, politique coloniale...\n",
      "1908.txt mentions these keywords: Congo belge, gouvernement belge, politique coloniale, Chambre belge, roi Léopold, loi coloniale, PARLEMENT BELGE, Congo n'est, question coloniale, L'Etat Indépendant, Chambre Séance...\n"
     ]
    }
   ],
   "source": [
    "for f in sorted(files[:24]):\n",
    "    text = open(os.path.join(data_path, f), 'r').read()\n",
    "    keywords = kw_extractor.extract_keywords(text)\n",
    "    kept = []\n",
    "    for kw, score in keywords:\n",
    "        words = kw.split()\n",
    "        if len(words) == 2:\n",
    "            kept.append(kw)\n",
    "    print(f\"{f} mentions these keywords: {', '.join(kept)}...\")"
   ]
  }
 ],
 "metadata": {
  "kernelspec": {
   "display_name": "Python 3.10.5 ('tac_venv': venv)",
   "language": "python",
   "name": "python3"
  },
  "language_info": {
   "codemirror_mode": {
    "name": "ipython",
    "version": 3
   },
   "file_extension": ".py",
   "mimetype": "text/x-python",
   "name": "python",
   "nbconvert_exporter": "python",
   "pygments_lexer": "ipython3",
   "version": "3.11.3"
  },
  "vscode": {
   "interpreter": {
    "hash": "b1932ab1d169b4769d1550e799423b6477588e745f266d79d9004c136c81607e"
   }
  }
 },
 "nbformat": 4,
 "nbformat_minor": 4
}
