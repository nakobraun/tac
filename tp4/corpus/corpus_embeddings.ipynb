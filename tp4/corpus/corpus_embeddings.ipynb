{
 "cells": [
  {
   "cell_type": "markdown",
   "metadata": {},
   "source": [
    "# Word Embeddings : le modèle Word2Vec"
   ]
  },
  {
   "cell_type": "markdown",
   "metadata": {},
   "source": [
    "## Imports"
   ]
  },
  {
   "cell_type": "code",
   "execution_count": 5,
   "metadata": {},
   "outputs": [],
   "source": [
    "import sys\n",
    "\n",
    "from gensim.models.phrases import Phrases, Phraser\n",
    "from gensim.models import Word2Vec\n",
    "\n",
    "import nltk\n",
    "from nltk.tokenize import wordpunct_tokenize\n",
    "from unidecode import unidecode"
   ]
  },
  {
   "cell_type": "markdown",
   "metadata": {},
   "source": [
    "## Chargement et traitement des phrases du corpus"
   ]
  },
  {
   "cell_type": "markdown",
   "metadata": {},
   "source": [
    "### Création d'un objet qui *streame* les lignes d'un fichier pour économiser de la RAM"
   ]
  },
  {
   "cell_type": "code",
   "execution_count": 6,
   "metadata": {},
   "outputs": [],
   "source": [
    "class MySentences(object):\n",
    "    \"\"\"Tokenize and Lemmatize sentences\"\"\"\n",
    "    def __init__(self, filename):\n",
    "        self.filename = filename\n",
    "\n",
    "    def __iter__(self):\n",
    "        for line in open(self.filename, encoding='utf-8', errors=\"backslashreplace\"):\n",
    "            yield [unidecode(w.lower()) for w in wordpunct_tokenize(line)]"
   ]
  },
  {
   "cell_type": "code",
   "execution_count": 7,
   "metadata": {},
   "outputs": [],
   "source": [
    "infile = f\"../../data/corpus/sents.txt\"\n",
    "sentences = MySentences(infile)"
   ]
  },
  {
   "cell_type": "markdown",
   "metadata": {},
   "source": [
    "### Détection des bigrams\n",
    "\n",
    "Article intéressant sur le sujet : https://towardsdatascience.com/word2vec-for-phrases-learning-embeddings-for-more-than-one-word-727b6cf723cf"
   ]
  },
  {
   "cell_type": "code",
   "execution_count": 8,
   "metadata": {},
   "outputs": [],
   "source": [
    "bigram_phrases = Phrases(sentences)"
   ]
  },
  {
   "cell_type": "markdown",
   "metadata": {},
   "source": [
    "L'object `phrases` peut être vu comme un large dictionnaire d'expressions multi-mots associées à un score, le *PMI-like scoring*. Ce dictionnaire est construit par un apprentissage sur base d'exemples.\n",
    "Voir les références ci-dessous :\n",
    "- https://arxiv.org/abs/1310.4546\n",
    "- https://en.wikipedia.org/wiki/Pointwise_mutual_information"
   ]
  },
  {
   "cell_type": "code",
   "execution_count": 9,
   "metadata": {},
   "outputs": [
    {
     "data": {
      "text/plain": [
       "dict"
      ]
     },
     "execution_count": 9,
     "metadata": {},
     "output_type": "execute_result"
    }
   ],
   "source": [
    "type(bigram_phrases.vocab)"
   ]
  },
  {
   "cell_type": "markdown",
   "metadata": {},
   "source": [
    "Il contient de nombreuses clés qui sont autant de termes observés dans le corpus"
   ]
  },
  {
   "cell_type": "code",
   "execution_count": 10,
   "metadata": {},
   "outputs": [
    {
     "data": {
      "text/plain": [
       "2367888"
      ]
     },
     "execution_count": 10,
     "metadata": {},
     "output_type": "execute_result"
    }
   ],
   "source": [
    "len(bigram_phrases.vocab.keys())"
   ]
  },
  {
   "cell_type": "markdown",
   "metadata": {},
   "source": [
    "Prenons une clé au hasard :"
   ]
  },
  {
   "cell_type": "code",
   "execution_count": 11,
   "metadata": {},
   "outputs": [
    {
     "name": "stdout",
     "output_type": "stream",
     "text": [
      "allant_avec\n"
     ]
    }
   ],
   "source": [
    "key_ = list(bigram_phrases.vocab.keys())[144]\n",
    "print(key_)"
   ]
  },
  {
   "cell_type": "markdown",
   "metadata": {},
   "source": [
    "Le dictionnaire indique le score de cette coocurrence :"
   ]
  },
  {
   "cell_type": "code",
   "execution_count": 12,
   "metadata": {},
   "outputs": [
    {
     "data": {
      "text/plain": [
       "1"
      ]
     },
     "execution_count": 12,
     "metadata": {},
     "output_type": "execute_result"
    }
   ],
   "source": [
    "bigram_phrases.vocab[key_]"
   ]
  },
  {
   "cell_type": "markdown",
   "metadata": {},
   "source": [
    "Lorsque l'instance de `Phrases` a été entraînée, elle peut concaténer les bigrams dans les phrases lorsque c'est pertinent."
   ]
  },
  {
   "cell_type": "markdown",
   "metadata": {},
   "source": [
    "### Conversion des `Phrases` en objet `Phraser`\n",
    "\n",
    "`Phraser` est un alias pour `gensim.models.phrases.FrozenPhrases`, voir ici https://radimrehurek.com/gensim/models/phrases.html.\n",
    "\n",
    "Le `Phraser` est une version *light* du `Phrases`, plus optimale pour transformer les phrases en concaténant les bigrams."
   ]
  },
  {
   "cell_type": "code",
   "execution_count": 13,
   "metadata": {},
   "outputs": [],
   "source": [
    "bigram_phraser = Phraser(phrases_model=bigram_phrases)"
   ]
  },
  {
   "cell_type": "markdown",
   "metadata": {},
   "source": [
    "Le `Phraser` est un objet qui convertit certains unigrams d'une liste en bigrams lorsqu'ils ont été identifiés comme pertinents."
   ]
  },
  {
   "cell_type": "markdown",
   "metadata": {},
   "source": [
    "### Extraction des trigrams"
   ]
  },
  {
   "cell_type": "markdown",
   "metadata": {},
   "source": [
    "Nous répétons l'opération en envoyant cette fois la liste de bigrams afin d'extraire les trigrams."
   ]
  },
  {
   "cell_type": "code",
   "execution_count": 14,
   "metadata": {},
   "outputs": [],
   "source": [
    "trigram_phrases = Phrases(bigram_phraser[sentences])"
   ]
  },
  {
   "cell_type": "code",
   "execution_count": 15,
   "metadata": {},
   "outputs": [],
   "source": [
    "trigram_phraser = Phraser(phrases_model=trigram_phrases)"
   ]
  },
  {
   "cell_type": "markdown",
   "metadata": {},
   "source": [
    "### Création d'un corpus d'unigrams, bigrams, trigrams"
   ]
  },
  {
   "cell_type": "code",
   "execution_count": 16,
   "metadata": {},
   "outputs": [],
   "source": [
    "corpus = list(trigram_phraser[bigram_phraser[sentences]])"
   ]
  },
  {
   "cell_type": "code",
   "execution_count": 17,
   "metadata": {},
   "outputs": [
    {
     "name": "stdout",
     "output_type": "stream",
     "text": [
      "[['3', 'dun', \"'\", 'le', 'coin', 'des', 'poetes', '.'], ['i_e', 'spir', 'au_hameau', '.'], ['st', '-', 'lfeer', ',', '23_aout', '.'], ['e', '.', 'lambert', '.'], ['-', 'waudrii', 'de', 'va', 'venir', 'du', '--', 'du', 'dimanche_27', 'aout', '189', '?'], ['les', 'gamins', 'en_criant', 'font', 'rouler', 'des', 'cerceaux', '.'], ['lvbas', ',', 'un', 'char', 'de', 'foin', 'rentre', 'dans', 'une', 'grange', '.'], ['do', 'ouvrier', 'suant', \"'\", 'fend', 'du', 'bois', 'qu', \"'\", 'il', 'arrange', 'en', 'tas', ';', 'pres', 'd', \"'\", 'un', 'fumier', 'ou', 'grognent', 'des', 'po', 'arceaux', '.'], ['voici', 'la', 'menagere', 'allant', 'avec', 'deux', 'seaux', 'a', 'la', 'pompe', 'd', \"'\", 'ou', 'sort', 'l', \"'\", 'eau', 'par', 'la', 'gueule', 'etrange', 'd', \"'\", 'un', 'lion', '.'], ['les', 'canards', 'barbotent', 'dans', 'la', 'fange', '.'], ['un', 'cnat', 'passe', 'parmi_les', 'poules', 'a', 'grands', 'sauts', '.'], ['plus_loin', ',', 'le', 'chien', 'aboi6', 'au', 'passant', 'qu', \"'\", 'il', 'veut', 'mordre', ';', 'le', 'berger', 'rentre', 'avec', 'ses', 'moutons', 'en', 'desordre', ';', 'le', 'faudienr', \"'-\", 'atigue', 's', \"'\", 'en', 'revient', 'lentement', '.'], ['c', \"'\", 'est', 'un', 'grand', 'desarroi', 'dans', 'les', 'etroites', 'rues', 'qu', \"'\", 'encombrent', 'les', 'rouleaux', ',', 'les', 'herses', ',', 'les', 'charrues', ',', 'lssjcjjaariots', 'traines', 'par', 'les', 'beeufs', 'tristement', '.'], ['le', 'congres', 'de_la_federation', 'archeologique', 'et', 'historique', 'belge', ',', 'qui', 's', \"'\", 'eet', 'reuni', 'a', 'arlon', ',', 'avait', 'inscrit', 'a', 'son_programme', 'cette_question', ',', 'tres_interessante', 'pour', 'l', \"'\", 'histoire', 'de', 'notre', 'art_national', ':', '<<', 'quel', 'e', '>>.', 't', 'l', \"'\", 'architecte', 'qui', 'a', 'concu', 'les_plans', 'de', 'l', \"'\", 'eglise', 'de', 'siinte', '-', 'waudru', 'a', 'mons', '?'], ['\">>', 'cet', 'architecte', ',', 'reste_inconnu', 'durant', 'plusieurs_siecles', ',', 'nous_croyons', 'avoir_etabli', 'definitivement', 'ses_titres', 'an', 'cours', '\"', 'de', 'la', 'longue_discussion', 'qui', 's', \"'\", 'est_produite', 'au_congres', 'le', '31_juillet', '.'], ['ec', 'il', 'nous', 'suffira', 'de', 're3umer', 'ici', 'ude', 'serie', 'de', 'docundedts', 'cf', 'archives', 'pour', 'que', 'bon', 'nom', 's', \"'\", 'en', 'degaga', 'en_quelque_sorte', 'spontanement', '.'], ['lopqpe', 'le', 'jrejjiqkle', 'ej', '|', 'ce5', '.', 'u', ']', 'jistre', 'chapitre', 'de', 'sainte_-', 'waudrn', ',', 'compose', 'de', 'damoi', '-', 'selles', 'appartenant', 'toutes', 'a', 'la', 'plus_haute', 'aristocratie', 'de', 'l', \"'\", 'europe', ',', 'eut', 'decrae', \"'\", 'la', 'reconstruction', 'de', 'l', \"'\", 'eglise', 'romane', 'erigee', 'en', 'l', \"'\", 'honneur', 'de', '!', 'a', 'patronne', 'de', 'mons', 'ou', ',', 'plus', 'exactement', ',', '<<', 'ouvr', '>>', 'ge', 'a', 'la', 'trezorie', 'et', 'cueur', '>>', '(', 'chjigjm', 'sgjj', 'qu', \"'PS\", 'n', 'pareil', 'jcas', 'on', 's', \"'\", 'occspait', 'en', 'premier_lieu', 'du', 'chevet', '),', 'il', 'chargea', 'tout_particulierement', 'de', 'la_direction', 'des_travaux', 'un_officier', 'de', 'son', 'bureau', ',', 'henri', 'de', '<<', 'tanche', ',', 'pretre', 'distributeur', 'du', 'chapitre', ',', 'et', 'quelques', '-', 'unes', 'des', 'chanoinesses', '--', 'imitant', 'en', 'cela', ',', 'pour', 'ne_citer', 'qu', \"'\", 'un', 'exemple', ',', 'le', 'chapitre', 'da', 'la_cathedrale', 'de', 'girone', ',', 'en', 'jcatalogne', ',', 'nommant', 'en', '1312', ',', 'quand_il', 'eut', 'resolu', 'cfe', 'remplacer', 'son', 'eglise', 'romane', 'par', 'une', 'eglise', 'nouvelle', ',', 'et', 'avant', 'toute', 'designation', 'd', \"'\", 'architecte', ',', 'les', 'administrateurs', 'de', 'l', \"'\", 'oeuvre', '(', 'pbre', '-', 'ros', ').'], ['puis', 'en', 'fevriar', 'j449', ',', 'il', 'envoya', 'dans', 'd', \"'\", 'autres_villes', 'du_pays', '<<', 'porter', 'la', 'convocation', 'des', 'ouvrages', 'que', 'on', 'avoit', 'intention', 'de', 'faire', '>>', ':', 'les', 'chanoines', 'forains', ',', '<<', 'conseillers', 'es', 'affaires', 'temporelles', 'et', 'importantes', '>>,', 'furent', 'pries', 'de', 'venir', 'a', 'mons', '<<', 'pour', 'le', 'fait', 'dudjit', 'ouvraige', '>>,', 'afia', 'de', '<<', 'visiter', 'la', 'place', 'et', 'avolradvis', 'de', 'la', 'maniere', 'de', 'reedification', ',,', ';', 'les', 'maistres', 'machons', 'furent', 'convoques', ',', 'suivant', 'l', \"'\", 'usage', 'general', 'au_moyen', 'age', ',', 'a', 'une_sorte', 'de', 'conferencietheciiniqhe', '.'], ['nous', 'n', \"'\", 'avons', 'certes_pas', 'besoin', 'de', 'rappeler', 'ce', 'qu', \"'\", 'etaient', 'ces', 'damiers', 'personnages', ':', '<<', 'a', 'cette_epoque', ',', 'a', 'ecrit', 'm', '.', 'charles', 'lucas', ',', 'l', \"'\", 'architecte', 'tel', 'que', 'l', \"'\", 'avait', 'connu', 'l', \"'\", 'antiquite', 'grecque', 'et', 'tel', 'iae', 'le', 'connut', 'la', 'r', '?', 'na', '.', 'tesance', ',', 'n', \"'\", 'existe', 'guere', '.'], ['e', 'mot', 'meme', 'avait_disparu', ';', 'et', 'quand', ',', 'sorti', 'des', 'cloitres', ',', 'l', \"'\", 'art', 'de', 'l', \"'\", 'architecture', 'devinfira', 'art', 'laique', ',', 'ses_premiers', 'adeptes', 'civils', 'porterent', 'differentes', 'designations', 'telles_que', 'maistre', 'masson', ',', 'maistre', 'de', \"'\", 'pierre', ',', 'juacop', 'du', 'roy', ',\"', 'mais', '.', 'tre', 'de', 'l', \"'\", 'ouvrage', ',', 'maistre', ',', 'de', 'l', \"'\", 'oeuvre', ',', 'maistre', 'des_oeuvres', 'du', 'roy', '.'], ['>>', 'en', 'belgique', 'comme', 'en', 'france', ',', 'semblables', 'mentions', 'abondent', 'dans', 'les', 'documents', 'anciens', ',', 'avec', 'le', 'tens', 'parfaitement', 'determine', 'qui', 'vient', 'd', \"'\", 'etre', 'indique', '.'], ['les', '3', 'et', '4_mars', ',', 'le', 'chapitre', 'confera', 'avec', 'cinq', 'chanoines', 'forains', 'arrives', 'de', 'bruxelles', '.'], ['et', 'du', '1_er', 'au', '5_mars', ',', 'jean', 'huelin', ',', 'maitre', 'macon', 'da', '\"', 'hainaut', ',', 'lequel', 'n', \"'\", 'avait', ',', 'point', 'sa_residence', 'dans', 'la_capitale', 'du_comte', ';', 'michel', 'de', 'rains', ',', 'maitre', 'macon', 'de', 'valencienhes', ',', '3ui', 'avait', 'travaille', 'en', '1431', 'aux', 'fortifications', 'e', 'bethuhe', ',', 'en', '1440', 'au', 'quesnoy', ';', 'jean', 'le', 'fevre', ',', 'maitre', 'macon', 'de', 'la', 'ville', 'de', 'mons', 'depuis', '1442', ';', 'et', 'hellin', 'de', 'sars', ',', 'maitre', 'charpentier', 'en', 'cette_ville', ',', 's', \"'\", 'occuperent', 'en_commun', '<<', 'd', \"'\", 'ordonner', 'et', 'mettre', 'en', 'fourme', 'l', \"'\", 'ouvrage', 'dessusdit', '.'], ['_', 'c', \"'\", 'est', 'michel', 'de', 'rains', ',', 'qui', 'resuma', 'en_quelque_sorte', 'les', 'discussions', 'en', 'dressant', 'sur', 'parchemin', '<<', 'deux', 'patrons', 'de', 'la', 'maniere', \"'\", 'del', 'ouvrage', 'qu', \"'\", 'il', 'appartenra', 'a', 'faire', ',', 'selon', 'l', \"'\", 'avis', 'adwtjps', ',', '>>$', 'our', 'le', 'plache', 'de', 'it', 'dits', 'trfzone', 'et', 'coer', '.'], ['>>.'], ['cos', 'patrons', '--', 'qu', \"'\", 'on', 'a', 'cru', 'jhsqu', \"'\", 'en', 'ces_derniers_temps', ',', 'mais', 'a', 'tort', ',', 'posseder', 'aux', 'archide', 'l', \"'\", 'etat', ',', 'a', 'mons', ',', '--', 'cette', 'espece', 'de', 'proces_-_verbal', 'graphique', ',', 'disons', '-', 'nous', ',', 'valut', 'a', 'michel', 'de', 'rains', ',', 'de', 'la', 'part', 'du', 'chapitre', ',', 'une', 'gratification', 'speciale', ':', 'deux', 'des', 'ecus', 'd', \"'\", 'or', '\\'\"', 'nommez', 'guillelmus', '>>,', 'qui', 'venaient', 'd', \"'\", 'etre_mis', 'en', 'circulation', 'et', 'representaient', 't', ';', '0', \"'\", 's', 'livres', 'tournois', 'chacun', '--', 'g', '*-', '>>', 'tificatio_i', 'ajn', 'paraitra', 'moins', 'insignifiante', 'i', 't', \"'\", 'ou', 'songe', 'qu', 'le', 'plan', 'de', 'l', \"'\", 'hotel', \"'\", 'le', 'ville', 'd', '.-', 'l', '>.', 'iiv', '-.', 'ia', 'ne', 'fat', 'paye', 'iue', 'cinq', 'e', '-', 'us', 'gt', '-', 'illume', 'a', 'mathieu', 'de', 'iayens', '.'], ['mais', 'la', 'puissante', 'corporation', 'montoise', 'ne', 'se', 'considerait', 'aucunement', 'comm', '.'], ['liee', 'par', 'le', 'projet', 'des', 'maitres', '.'], ['les', 'conferences', ',', 'les', 'etudes', 'continuent', ';', 'et', 'elles_vont', 'se', 'poursuivre', 'avec', 'le', 'concours', 'de', 'i', \"'\", '*<', 'architecte', '>>', 'choisi', 'enfin', 'par', 'les', 'chanoinesses', ':', 'jtsan', 'spi', \".'\", 'kiu', '.'], ['dei', '1432', ',', 'je', '.>>', 'n', 'spiskin', 'visitait', 'comme', 'macon', 'assermente', 'du', '-', 'comte', 'de', 'haiaiut', ',', 'la', 'maison', 'et', 'ia', 'forteresse', 'de', 'la', 'hamaide', '.'], ['en', '1437', ',', '<<', 'maistre', 'des', 'ouvrages', 'de', 'maconnerie', 'du', 'p', '^', 'iys', 'de', 'hiyanau', '>>,', 'il', 'recevait', '46', 'livres', '10', 'sous', 'tournois', 'pour', 'avoir', 'consacre', 'soixante_-', 'j', 'deux_jours', '>>', 'en', 'la', 'visitation', 'de', '>>', 'ouvrages', 'et', 'reparations', 'de', 'maconnerie', 'a', 'faire', 'pour', 'l', \"'\", 'entretien', 'des', 'maisons', ',', 'chasteaux', '.'], ['moulins', 'et', 'autres_lieux', 'd', '*', 'icelui', 'pays', '>>.'], ['eo', 'toute_une_serie', 'de', 'pieces', 'datees', 'de', '1441', ',', 'scellees', 'de', \"'\", 'son', 'sceau', 'et', 'conservees', 'aux_archives', 'departementales', 'du_nord', ',', 'a', 'lille', ',', 'constatent_que', '<<', 'au', 'cpmmand', 'de', 'feue', 'tres', 'paissante', 'prin', '-', 'chesse', 'madame', 'marguerite', 'de', 'bourgogne', ',', 'ducesse', 'de', 'baviere', ',', 'comtesse', 'de', 'haynnau', ',', 'hollande', 'et', 'zellande', '>>,', 'il', 'avait', ',', 'assiste', 'on', 'certaines', 'occasions', 'par', 'michel', 'de', 'riius', ',', '<<', 'besoignie', 'eu', 'la', 'ville', 'du', 'quemoy', ',', 'tant', 'a', 'fake', 'devise', 'd', \"'\", 'une', 'tresorie', 'que', 'la', 'ditte', 'feue', 'dame', 'voioit', 'avoir', 'deseure', '>><?', 'ou', 'oratoire', 'en', 'sa', 'chappielie', 'de', 'sainte_-', 'margheritte', 'comme', 'a', 'marchander', 'as', 'ouvriers', 'des', 'estofies', 'livrer', 'et', 'jde', 'la', 'pierre', 'tailler', 'et', 'ossi', 'a', 'f', '<<.'], [\"'\", 'ire', 'les', 'ruelles', 'se', '?'], ['vans', 'a', 'la', 'ditte', 'oeuvre', '>>.'], ['c', \"'\", 'etait', 'donc', 'un', 'maitre', 'habile', 'et', 'de', 'haute', 'reputation', ',', 'que', 'certains', 'documents', 'qualifient', 'd', \"'\", '<<', 'inge', '-', 'niaire', '>>,', 'et', 'qui', 'parait', ',', 'd', \"'\", 'apres', 'son', 'sceau', ',', 'e', 'l', 're', 'd', \"'\", 'origine', 'braxelloise', ',', 'nous', 'disait', 'au_congres', 'd', \"'\", 'arlon', 'm', '.', 'j', '.', 'th', '.'], ['de', 'raadt', ',', 'le', '<', 'savant', 'sigillographe', '.'], ['nomme', 'par', 'les', 'chauoinesses', 'de', 'sainte_-_waudru', ',', 'il', 'entra', 'en', 'fonctions', 'le', '31_janvier', '1450', '.'], ['<<', 'ghe', 'jour', ',', 'portent', 'les', 'comptes', ',', 'flst', 'serment', 'en', 'cappitle', ',', 'en', 'le', 'main', 'de', 'jehan', 'leleu', 'comme', 'bailleu', 'de', 'cappitle', ',', 'maistre', 'jehan', 'spickin', ',', 'pour', 'y', 'estre', 'maistre', 'ouvrier', 'ayajit', 'la', 'chja', \"'\", 'gedes', 'ouvrages', 'qui', 'se_feront', 'enja', 'dite', 'eglise', ',', 'a', 'gages', 'de', 'xl', '.'], ['1', '.', 'par', 'au', ',', 'avoecqz', 'les', 'draps', 'de', 'la', 'grande', 'livree', 'ou', 'cas', 'que', 'cappitle', 'en', 'feroit', ',', 'en', 'ossi', 'sa_demeure', 'en', 'l', \"'\", 'une', 'des', 'maisons', 'manablet', '.'], ['de', 'l', \"'\", 'eglise', 'alans', 'a', 'lauver', ',', 'la', 'plus', 'nece', '>>', 'ssaire', 'pour', 'le', 'dit', 'maistre', 'jehan', 'et', 'pour', 'le', 'bien', 'des', 'di3', 'ouvrages', 'PS', 'ui', 'y', 'seront', 'a', 'faire', '>>.'], ['x_eci', ',', 'avec', 'le', 'serment', ',', 'caracterise', 'bien', 'la_situation', 'de', 'spiskin', ':', 'le', 'logement', 'et', 'la', '<<', 'roba', '>>', 'etaient', 'presque_toujours', 'octroyes', 'a', 'l', \"'\", 'architecte', ',', 'commo', 'nous', 'l', \"'\", 'apprennent', 'une_foule', 'de', 'documents', '.'], ['pendant', 'la', 'premiere_quinzaine', 'de', 'fevrier', ',', 'spiskin', ',', 'accomjpagtte', 'du', 'charpentier', \"'\", 'hedlin', 'de', 's', '>', 'rs', ',', 'de', 'chanoiuesses', 'ou', 'de', 'delegues', 'du', 'chapitre', ',', 'se_rend', 'a', 'bonne', '-', 'esperance', '<<', 'pour', 'lk', '-', 'endroit', 'aviser', 'la', 'grandeur', 'du', 'cuer', 'd', \"'\", 'icelle', 'eglise', 'et', 'le', 'fachon', '>>,', 'puis', 'a', 'tournai', ',', 'a', 'lille', ',', 'a', 'gramrnont', ',', 'a', 'bruxelles', ',', 'a', 'louvain', ',', 'a', 'mali', '-', 'nes', ',', '<<', 'pbur', 'la', '-', 'endroit', 'aviser', 'les', 'fachons', 'des', 'eglizes', ',', 'de', 'chicune', 'd', \"'\", 'icelles', 'villes', '>>.'], ['des', 'rapports', 'ecrits', 'sont', 'adresses', 'au', 'chapitre', ',', 'et', 'celui_-_ci', 'les', 'soumet', 'a', 'des', 'maitres', ',', 'mandes', 'a', 'mons', 'pour', 'donner', 'leur', 'avis', '<<', 'sur', 'lo', 'conclusion', 'de', 'le', 'devise', 'de', '!'], ['oeuvre', '>>.'], ['a', 'cette_conference', ',', 'tenue', 'le', '15', ',', '16', 'et', '17_fevrier', 'sous_les_auspices', 'du', 'chapitre', 'et', 'a', 'laquelle', 'les', 'chanoiuesses', 'se_firent', 'representer', ',', 'assistent', 'jean', 'spiskin', ',', 'hellin', 'de', 'sars', \",'\", 'jean', 'le', 'fevre', ',', 'macon', 'de', 'la', 'ville', ',', 'pierre', 'du_moulin', ',', '<*', 'ouvrier', 'ad', 'ce', 'congnoissans', '>>.'], ['gilleb', 'pauwels', ',', 'maitre', 'macon', 'du', 'duc', 'philippe', 'de', 'bourgogne', 'en', 'son', 'pays', 'de', 'brabant', ',', 'son_fils', 'pierre', 'pauwels', ',', 'et', 'mathieu', 'de', 'layens', ',', '*', 'machon', 'de', 'louyain', '8j', '--', 'l', \"'\", 'illustre', 'architecte', 'de', 'l', \"'\", 'hqtel', 'de', 'ville', 'de', 'la', 'cite', 'universitaire', ',', '(c)', 'a', 'premier', 'au', 'trois', 'mars', ',', 'une', 'derniere_reunion', 'de', 'ces', '.', 'maitres', 'a', 'lieu', ',', 'et', 'gilies', 'moreau', ',', 'd', \"'\", 'ecaussines', ',', 'qui', 'devra', 'fournir', 'les', 'pierres', 'de', 'taille', 'toutes', 'sculptees', ',', 'y', 'prend', 'purt', '.'], ['il_semble', 'que', 'c', \"'\", 'est', 'alors_que', 'fut', 'definitivement_arrete', 'le', '<<', 'devise', \"'*,\", 'c', \"'\", 'est', '-', 'a', '-', 'dire', ',', '(', 'car', 'tel', 'hr', ',', 'd', \"'\", 'apres', 'les', 'lexiques', ',', 'le', 'sens', 'qu', \"'\", 'avait', 'alors', 'cette', \"'\", 'expression', '),', 'le', 'projet', 'graphique', ',', 'accompagne', 'd', \"'\", 'une_description', 'ecrite', 'et', 'd', \"'\", 'une', 'estimation', 'au_moins', 'approchee', '.'], ['et', 'le', 'fiit', 'que', 'michel', 'de', \"'\", 'rains', 'et', 'jean', 'huelin', '--', 'eccore', 'vivants', 'et', 'toujours', 'en', 'charge', '--', 'n', \"'\", 'avaknt', 'pdintete', 'convoques', ',', '\"', 'ne', 's', \"'\", 'occuperent', 'p', '.', 'us', 'jamais', 'de', 'l', \"'\", 'eglise', ',', 'pas', 'meme', 'lorsque', ',', 'ainsi_que', 'nous', 'le', 'verrons', 'bientot', 'et', 'conformement_a', 'la', 'coutume', 'de', 'jadis', ',', 'l', \"'\", 'pft', \"'\", 'smfia', 'sj', 'ies', 'travaux', 'etaient', '<<', '<#', 'menet', 'a', 'mesure', 'le', 'devise', '>>,', 'prouve_que', 'le', 'premier', 'projet', 'avait_ete', 'completement', 'ou', 'presque_completement', 'abandonne', '.'], ['---', 'la', 'chose', 'etait', 'frequente', 'd', \"'\", 'ailleurs', ';', 'ci', 'tout', '-', 'en', 'quelques_exemples', ';', 'jean', 'thierry', ',', 'devenu', 'en', '1380', '<<', 'maitre', '>>', 'de', 'la_cathedrale', 'de', 'troyes', ',', 'avait', 'elabore', 'un', 'plan', 'de', 'jube', ',', 'et', 'le', 'chapitre', '>>', 'iv', '>>.'], ['adopte', 'celui_-_ci', ',', 'lorsqu', \"'\", 'un_certain', 'henri', 'd', '>', 'bruxelles', 'arriva', 'dans', 'la', 'viue', ',', 'critiqua', 'le', 'projet', 'deja', 'en', 'cours', 'd', \"'\", 'execution', ',', 'et', 'parvint', 'h', 'y', 'faire', 'substituer', 'nn', 'projet', 'nouveau', '.'], ['en', '1517', ',', 'les', 'echevh', \"'.\", 's', 'de', 'b', 'thtae', ',', 'apie', '.'], ['avoir', 'f', '.', 'it', 'fiire', 'p', '^', 'r', 'j', '>>.', 'aa', 'pasquier', ',', 'maicre', 'des_oeuvres', 'de', 'lille', ',', '<<', 'un', 'get', 'et', 'pourtraicture', 'ten', 'figure', '>>', 'du', 'boulevard', 'de', 'la', 'porte', 'sairit', '-', 'pry', ',', 'demanderent', 'a', 'deux', 'maitres', 'd', \"'\", 'arras', ',', 'guillaume', 'wilepin', 'et', 'jea', ',', 'n', 'baire', ',', '<<', 'ung', 'nouvel', 'patron', 'et', 'pourget', '>>.'], ['enfla', ',', 'on', 'a', 'souvent', 'racbnte', 'les', 'tatonnements', 'qui', 'accompagnerent', 'l', \"'\", 'achevement', 'de', 'la_fameuse', 'tour', 'au', 'beurre', 'de', 'la_cathedrale', 'de', 'rouen', ':', 'apres_avoir', 'reclame', 'das', 'plans', 'multiples', ',', 'les', 'chinoises', 'ne', 'liurent', 'aucun_compte', 'de', 'l', \"'\", 'avis', 'qu', \"'\", 'les', 'travaux', 'de', 'sainte_-_waudru', 'commencerent', 'le', '9_mars', '1450', 'la', 'premiere_pierre', 'de', 'la', 'nouvelle', 'egliss', 'fut', 'posee', 'le', '13', 'du', 'meme', 'mois', ',', 'et', 'a', 'cette_occasion', 'l', \"'\", 'on', 'festoya', 'chez', 'peau', 'spickin', ',', 'comme', 'on', 'festoyait', 'toujours', 'en', 'pareille', 'circonstance', 'ch', '*', 'z', 'l', \"'\", 'architecte', ';', 'comone', 'on', 'avait', 'festoye', 'le', '29_mars', '1448', ',', 'tors', 'de', 'la', 'pose', 'da', 'la', 'premiere_pierre', 'de', 'l', \"'\", 'hotel', 'de', 'ville', 'de', '.', 'loav', '.', 'ain', \",'\", 'chez', 'mathieu', 'de', 'layens', '.'], ['spiskin', 'se_montra', 'constamment', 'a', 'la', 'hauteur', 'de', 'sa_tache', ';', 'il', 'donna', 'des', 'preuves', 'de', 'son', 'savoir', 'faire', 'et', 'der', '^', 'pn', 'zele', 'que', 'le', 'chapitre', 'sut', 'reconnaitre', ',', 'mais', 'les', 'chanoinesses', 'entendaient', 'cependant', 'conserver', 'la', 'haute_direction', 'des_travaux', ';', 'et', 'lorsque', ',', 'des', 'critiques', 'circulerent', 'parmi_la_population', 'a', 'propos', 'des_fondations', 'de', 'l', \"'\", 'eglise', ',', 'elles', 's', \"'\", 'empresserent', 'de', 'faire', 'revenir', 'de', 'louvain', 'mathieu', 'de', 'layens', 'et', 'de', 'bruxelles', 'gilies', 'pauwels', ',', 'lesquels', 'declarerent', 'au', 'reste', ',', '<<', 'que', 'le', 'dit', 'ouuraige', 'estoit', 'tres_bien', 'et', 'mener', 'a', 'mesure', 'le', 'devise', '>>.'], ['il_importe', 'de', 'constater_que', 'l', \"'\", 'attitude', 'du', 'chapitre', 'n', \"'\", 'avait', 'd', \"'\", 'ailleur', 'rien', 'd', \"'\", 'extraordicaire', 'et', 'qu', \"'\", 'on', 'se', 'tromperait', 'fort', 'en', 'y', 'cherchant', 'un_argument', 'contre', 'l', \"'\", 'importance', 'que', 'cous', 'attribuons', 'aux_fonctions', 'de', 'spiskin', '.'], ['<<', 'au_moyen', 'age', ',', 'dit', 'un', 'savant', 'architecte', 'que_nous_avons', 'deja', 'cite', ',', 'm', '.', 'charles', 'lucao', ',', 'les', 'communautes', 'ou', 'les', 'municipalites', 'qui', 'faisaient', 'construire', 'ne', 'se', 'desinteressaient', 'pas', \"'\", 'du', 'soin', 'd', \"'\", 'exercer', 'un', 'controle', 'vigilant', 'sur', 'les', 'travaux', 'pendant', 'leur', 'execution', 'et', 'aussi', 'd', \"'\", 'apporter', 'certaines', 'precautions', 'dans', 'leur', 'reception', '.'], ['c', \"'\", 'est', 'ainsi', 'uuk', 'les', 'archives', 'des', 'cathedrales', 'et', 'de', 'quelques', 'hotels', 'de', 'ville', 'nous', 'ont', 'conserve', 'les_noms', 'de', 'constructeurs', 'celebres', 'a', 'leur', 'epoque', ',', 'appeles', 'parfois', 'd', \"'\", 'un', 'endroit', 'eloigne', 'pour', 'controler', 'et', 'recevoir', 'des_travaux', ';', 'et', 'que', ',', 'en_cas', 'de', 'difficultes', 'ou', 'd', \"'\", 'indecision', 'au_sujet', 'du', 'parti', 'a', 'prendre', 'pour', 'la', 'continuation', 'ou', 'la', 'reprise', 'des_travaux', 'd', \"'\", 'un', 'edifice', ',', 'on_voit', 'des', 'chapitres', 'de', 'chanoines', 'ou', 'des', 'colleges', 'd', \"'\", 'echevins', 'faire_appel', 'a', 'plusieurs', 'maitres', 'd', \"'\", 'oeuvres', 'pour', 'donner', ',', 'avec', 'un', 'cer', '-', 'toin', 'ceremonial', ',', 'des', 'avis', 'motives', 'sur', 'les', 'questions', 'qui', 'leur', 'etaient', 'posees', '>>.'], ['c', \"'\", 'est', 'exactement', 'ce', 'qui', 'b', \"'\", 'est', 'passe', 'a', 'mons', 'pour', 'la', 'reconstruction', 'de', 'l', \"'\", 'eglise', 'de', 'sainte_-_waudru', '.'], ['jean', 'spiskin', ',', '<<', 'maistre', 'machon', 'de', 'l', \"'\", 'eg', \"'\", 'ise', '>>.'], ['mourut', 'en', '1457', '.'], ['a', 'ce_moment', ',', 'la', 'construction', 'etait', 'fort', 'avancee', ':', '<<', 'deja', 'en', \"'\", '1451', ',', 'constate', 'm', '.', 'joseph', 'hubert', ',', 'l', \"'\", 'eminent', 'arehitec', '.', 'e', 'moatois', 'charge', 'de', 'la', 'restauration', 'de', 'la_collegiale', ',', 'on', 'etablissait', 'les', 'piliers', 'en', '(<<', 'erre', 'du_choeur', ';', 'or', ',', 'comme', 'i', \"'\", 's', 'sont', 'a', 'mou', '-', 'ures', 'prismatiques', 'se', 'poursuivant', 'sous', 'le', 'merne', 'profil', 'jusqu', \"'\", 'aux', 'clefs', 'de', 'voute', ',', 'toute', 'l', \"'\", 'eglise', '\"', 'est', 'la', 'continuation', 'de', 'ce', 'qui', 'etait', 'commence', '.'], ['>>', 'on_peut', 'donc', 'affirmer', ',', 'de', 'la', 'maniere', 'la', 'plus', 'positive', ',', 'que', 'la', 'tache', 'du', 'successeur', 'de', 'spiskin', 'a', 'simplement', 'consiste', 'a', 'poursuivre', 'l', \"'\", 'oeuvre', 'd', \"'\", 'apres', 'le', 'plan', 'adopte', '.'], ['c', \"'\", 'est', 'dans', 'la', 'seance', 'du', 'chapitre', 'du', '26_fevrier', '1458', 'qu', \"'\", 'on', 'proposa', 'de', 'donner', 'tin', 'successeur', 'a', 'spiskin', ',', 'attendu_qu', '/', '\\'\"*', 'il', \"'\", 'seroit', 'bjien', 'expedient', 'de', 'avoir', 'ung', 'homme', 'ayant', 'regard', 'aux', 'ouvraiges', 'del', 'eglise', ',', 'ydoisae', 'et', 'cognoissans', 'ad', 'ce', '>>.'], ['le', 'choix', 'du', 'chapitreiae', 'porta', 'quelques_semaines', 'plus_tard', 'sur', 'mathieu', 'de', 'layens', ',', 'qui', 'fut', ',', '&', 'partir_du', '7_avril', ',', 'comme', 'spiskin', ',', '<<', 'ordonnet', 'et', 'commis', 'a', 'l', \"'\", 'ouvrage', 'du', 'neuf', 'cuer', 'de', 'ladite', 'eglise', '>>...', 'nous', 'n', \"'\", 'avons_pas', 'a', 'continuer', 'l', \"'\", 'histoire', 'de', 'la', 'splendide', 'collegiale', ',', 'et', 'nous_renvoyons', 'desormais', 'le', 'lecteur', 'a', 'l', \"'\", 'admirable', 'memoire', 'historique', 'et', 'descriptif', 'sur', 'l', \"'\", 'eglise', 'de', ',', 'sainte_-_waudru', 'publie', 'par', 'm', '.', 'leopold', 'devillers', ',', 'il_y', 'a', 'quelques_mois', 'encore', 'archiviste', 'de', 'l', \"'\", 'etat', 'ambhs', '.'], ['il', 'nous', 'suffit', 'd', \"'\", 'avoir_etabli', ',-', 'croyons', '-', 'nous', ':', 'd', \"'\", 'abord', ',', 'que', 'l', \"'\", 'eglise_sainte', '-', 'waudru', 'fut', 'edifiee', ',', 'sous', 'la', 'haute_direction', 'du', 'chapitre', ',', 'd', \"'\", 'apres', 'un', 'projet', 'elabore_par', 'les', 'maitres', 'constructeurs', 'les', 'plus_reputes', 'du_pays', ',', 'de', 'telle_facon', 'qu', \"'\", 'il', 'serait_impossible', 'd', \"'\", 'attribuer', 'a', 'l', \"'\", 'un', 'ou', 'l', \"'\", 'autre', 'de', 'ces', 'ircaitres', 'la', 'gloire', 'exclusive', 'de', 'la', 'conception', 'architec', '-', 'tonique', 'que', 'nous_voyons', 'aujourd', \"'\", 'hui', 'reali', '!', 'see', ':', 'ensuite', ',', 'que', 'son', 'premier', '<<', 'architecte', '>>', ',', 'lequel', 'semble', 'd', \"'\", 'ailleurs', 'avoir', 'ou', 'la', 'b', '*', 'rt', '.'], ['principale', 'dans', 'l', \"'\", 'elaboration', 'des', 'pans', '<', 'vfi', '-', 'hitiie', '-', 'fat', 'jean', 'spiskin', '--', 'ce', 'j_', '<>', 'n', 's', '^', 'i', 'k', '.', 'a', 'qui', ',', 'd', \"'\", 'apres', 'une', 'conjecture', 'a', '^', 'ez', 'vraisemblable', 'et', 'conformement_a', 'un', 'usage', 'co', '.', 'stfe', 'par', 'viollet', '-', 'le', '-', 'duc', ',', 'serait', 'repre', 'er', ';', 'tesar', 'ufle', 'des', 'consoles', 'decorant', 'a', 'l', \"'\", 'extariear', 'lus', 'contreforts', 'du_choeur', '.'], ['mais', 'noas', 'na', 'voulons_pas', 'jterminer', 'sans', 'resumer', 'ici', 'quelques', 'psg', '.', 's', 'iexceliectes', 'du', 'regrette', 'louis', 'dethain', ',', 'ancien', 'architecte', 'et', 'co_nmia', ',.', 'aire', 'voyer', 'dis', 'jarrondissements', 'de', 'mons', 'et', 'de', 's', '.', 'igaies', '.'], ['i', 'l', \"'\", 'eglise_sainte', '-', 'waudra', ',', 'dit_en_substance', 'cet_auteur', ',', 'et', 'sans_contredit', \"'\", 'l', \"'\", 'un', 'des', 'plus_beaux', 'monuments', 'de', 'l', \"'\", 'art', 'ogival', 'qsi', 'existent', 'ton', 'belgique', '.'], ['construite', 'avec', 'unite', 'dans', 'putes', 'ses', 'parties', ',', 'ell8', '>', 'semble', 'l', \"'\", 'oeavre', 'd', \"'\", 'one', 'meme_epoque', ',', 'quand', 'son', 'edification', 'a', 'dure_plusieurs', 'siecles', '.'], ['il_y', 'a', 'plus', ':', 'les_soins', 'apportes', 'dans', 'ies', 'details', 'de', 'sa', 'construction', 'ne_laissent', 'aucune_trace', 'des', 'interruptions', 'jet', 'des', 'reprises', ',', 'et', 'l', \"'\", 'oeil', 'le', 'plus', 'exerce', 'admettrait', 'volontiers', 'que', 'la', 'meme', 'main', 'a', 'pose', 'et', 'la', 'base', 'et', 'le', 'faite', ',', 'si', 'des', 'dates', 'precises', ',', 'scellees', 'successivement', 'par', 'les', 'generation', '*,', 'p', \"'\", 'attestaient', 'le', 'travail', 'de', 'chacune', 'd', \"'\", 'elles', 'dans', 'l', \"'\", 'achevement', 'de', 'cet_ensemble', 'admirable', '.'], ['le', 'fait', 'est', 'peut', '-', 'etre', 'exceptionnel', 'dans', 'l', \"'\", 'histoire', 'des', 'edifices', 'du', 'moyen_age', '.'], ['il_semble', 'qu', \"'\", 'une', 'meme', 'idee', 'a', 'domine_toute', 'l', \"'\", 'execution', ';', 'que', 'le', 'plan', ',', 'une_fois', 'adopte', ',', 'a', 'du', 'etre', 'rigoureusement', 'suivi', ';', 'et', 'que', 'ia', 'volonte', 'de', 'chaque', 'maitre', 'a', 'du', 's', \"'\", 'incliner_devant', 'cette_decision', 'immuable', '.'], ['g', \"'\", 'est', 'que', 'la_collegiale', 'est', ',', 'en_realite', ',', 'l', \"'\", 'oeuvre', 'de', 'l', \"'\", 'illustre', 'chapitie', 'noble', 'fies', 'dames', 'chanoinesses', 'de', '\"', 'sainte_-_waudru', '.'], ['le', 'chapitre', 'profite', 'volontiers', 'de', 'l', \"'\", 'experience', 'des', 'maitres', 'renommes', 'de', 'l', \"'\", 'epoque', ';', 'mais', 'ce', 'sont', 'des', 'conseils', ',', 'des', 'avis', 'qu', \"'\", 'il', 'ieur', 'demande', ',', 'et', 'leurs', 'propositions', 'ne_sont', 'admises', 'qu', \"'\", 'apres', 'examen_serieux', 'et', 'approfondi', '.'], ['alors', ',', 'ils', 'n', \"'\", 'ont', 'plus', 'qu', \"'\", 'a', 'donner', 'des_plans', ',', 'des', 'details', 'et', 'a', 'veiller', 'de', 'loin', 'en', 'loin', 'a', 'ce', 'que', 'l', \"'\", 'on', \"<<'\", 'y', 'conforme', '.'], ['un', '<<', 'devis', '>>', 'a', 'ete_adopte', 'solennellement', ';', 'ce', 'de', '?', 'i', '.'], ['doit_etre', 'suivi', 'sans', 'modification', ',', 'quel', 'que', 'soit', 'le', 'talent', 'des', 'artistes', 'charges', 'des', 'ouvrages', ',', 'quelle', 'que', 'soit', 'ia', 'mode', 'architecturale', 'do', '1', 'epoque', '.'], ['les', 'chanoinesses', '^', 'poursuivent', ',', 'envers', 'et', 'contre', 'tous', ',', 'la_realisation', 'de', 'l', \"'\", 'oeuvre', 'en', 'construction', ',', 'sans_aucun', 'changement', ',', 'suivant', 'le', 'devis', '1', '>>', 'a', '.', 'boghaebt', '-', 'vache', 'de', 'la', 'societe', 'des_sciences', ',', 'des_arts', ',', 'et', 'des', 'lettres', 'du_hainaut', '.'], ['par', 'une_belle', 'et', 'tiedt', 'nuit', 'd', \"'\", 'ete', ',', 'un', 'brigadier', ',', 'un', 'gendarme', ',', 'trois', 'gardes', '-', 'chasse', 'et', 'un', 'garde', '-', 'champetre', 's', \"'\", 'attardaient', 'en', 'une_longue', 'tournee', ',', 'esperant', 'surprendre', ',', 'en_flagrant', 'delit', ',', 'un', 'hardi', 'braconnier', 'repute', 'incorrigible', '.'], ['helas_!'], ['aprea', 'plusieurs_heures', 'de', 'recherche', ',', 'd', \"'\", 'atteute', ',', 'd', \"'\", 'expectative', ',', 'les', 'six', 'vaillants', 'justiciers', 'comniencaient', 'a', 'perdre', 'courage', '.'], ['deja', ',', 'au', 'ciel', ',', 'les', 'etoiles', 'palissaient', ',', 's', \"'\", 'effacaient', 'peu', 'a', 'peu', ',', 'telles', 'dea', 'images', 'de', 'reve', ',', 'tandis_que_les', 'formes', ',', 'emergeant', 'lentement', 'des', 'tenebres', ',', 'se', 'dessinaient', ',', 'plus', 'distinctes', ',', 'dans', 'la', 'clarte', '-', 'grandissante', '.'], ['l', \"'\", 'aube', 'se_levait', 'delicieusement', 'rosee', ',', 'donnant', 'au', 'paysage', 'voile', 'de', 'brumes', 'legeres', ',', 'des', 'teintes', 'vaporeuses', 'de', 'pastel', 'dsane', 'imprecision', 'et', 'd', \"'\", 'une', 'delicatesse', 'exquises', '.'], ['--', 'nous_ne_ferons', 'rien', 'aujourd', \"'\", 'hui', '...,', 'declara', 'sentencieusement', 'l', \"'\", 'un', 'des', 'gardes', ',', 'en', 'secouant', 'la', 'tete', 'avec', 'un', 'depit', 'legitime', '.'], ['comme', 'il', 'prononcait', 'ces_mots', ',', 'soudain', ',', 'a', 'l', \"'\", 'oree', 'du', 'bois', ',', 'un_coup', 'de', 'feu', 'se', 'fait_entendre', '.'], ['--', 'ca', 'y', 'est', 'i', '...', 'murmure', 'le', 'brigadier', ',', 'e', '-', 'changeant', 'avec', 'ses', '\"', 'compagnons', 'un_regard', 'd', \"'\", 'intelligence', '.'], ['il', 's', \"'\", 'elance', ',', 'le', 'premier', '.'], ['les', 'autres', 'le', 'suivent', ',', 'pleins', 'd', \"'\", 'ardeur', ',', 'rivalisant', 'de', 'zele', '.'], ['devant_eux', ',', 'bientot', ',', 'ils', 'apercoivent', 'un_homme', 'qui', 'fuit', ',', 'eperdu', ',', 'tel', 'un', 'coupable', ',', 'cherchant', 'a', 'se_soustraire', 'a', 'la', 'justice', '.'], ['sa', 'vue', 'surexcite', 'les', 'cogeres', ',', 'allume', 'les', 'desirs', 'de', 'represailles', '.'], ['pas', 'de', 'doute', ':', 'on', 'se_trouve', 'en_presence', 'du', 'delinquant', ',', 'du', 'terrible', 'braconnier', 'sans_doute', '.'], ['la', 'chasse', 'a', 'l', \"'\", 'homme', 'commence', ',', 'et', 'le', 'drame', 'peut', '-', 'etre', 'se_prepare', ',', 'car', 'en_depit', 'de', 'sa_fuite', 'qui', 'l', \"'\", 'assimile', 'a', 'un', 'lievre', 'timide', ',', 'cherchant', 'a', 'se_soustraire', 'au', 'chasseur', ',', 'le', '.'], ['gaillard', ',', 'ainsi', 'traque', ',', 'parait', 'jeune', ',', 'solide', ',', 'resistant', ',', 'capable', ',', 'en', 'desespoir', 'de', 'cause', ',', 'de', 'se', 's', '.', 'rvir', 'de', 'son_arme', '.'], ['mais', 'la', 'menace', 'en', 'perspective', 'd', \"'\", 'une', 'tragedie', 'sanglante', 'ne_saurait', 'arreter', 'l', \"'\", 'elan', '.'], ['au_contraire', ',', 'la', 'resistance', 'irrite', 'le_desir', ',', 'et', 'tous', 'courent', ',', 'volent', \"',\", 'a_travers', 'les', 'champs', 'humides', ',', 'a', 'la', 'pale', 'clarte', 'matinale', ',', 'sautant1', 'm', '*', 'j', '*', 'lim', '**(r)...~', 'h', \"'\", 'ill', 'mmmtmm', '&', 'centimes', 'ie', 'numero', 'samedi', '1', '1', 'mai', '1', '&', 'q1', 'tslgiqce', 'i', 'au', 'fr', '.'], ['10', ',', '00', '1', '6', 'moi', '>>', '5', ',', '50', '1', '3_mois', '3', ',', '60', \"'#\", '1', '$PS<$.'], ['\\\\$$', 'l', 'reduction', ',', 'd', \"'\", 'un', 'cinquiems', 'pour', 'abonne', '-', 'ncn', '-', 's', 'annuels', 'et', 'semestriels', ',', 'par', 'serie', 'de', '(', '3', 'abonnemea', 'ts', 'au', 'rsoina', 'reaai', '^', 'paf', '.', 'inp', 'meme', 'per', '-', 'so', '.', 'c_j', '.', 'eou', \"'\", 'par', 'les', 'comite', '>>.'], ['etranger', ':', 'pria', ',', 'de', 'l', \"'\", 'aboanement', 'ordinaire', ',', 'difference', 'de', 'port', 'ea', '--', '3', '--', 'sleaxsuss', '.'], ['&', 'a', '(', '__-', 'nlniitrat', '-*', 'fl', '$$,', 'mm', 'da', 'buasmbcufg', ',', '33', 'arlon', 'telephone', 'n_deg', '33', '.']]\n"
     ]
    }
   ],
   "source": [
    "print(corpus[:100])"
   ]
  },
  {
   "cell_type": "markdown",
   "metadata": {},
   "source": [
    "## Entrainement d'un modèle Word2Vec sur ce corpus"
   ]
  },
  {
   "cell_type": "code",
   "execution_count": 18,
   "metadata": {},
   "outputs": [
    {
     "name": "stdout",
     "output_type": "stream",
     "text": [
      "CPU times: user 1min, sys: 483 ms, total: 1min 1s\n",
      "Wall time: 23.2 s\n"
     ]
    }
   ],
   "source": [
    "%%time\n",
    "model = Word2Vec(\n",
    "    corpus, # On passe le corpus de ngrams que nous venons de créer\n",
    "    vector_size=32, # Le nombre de dimensions dans lesquelles le contexte des mots devra être réduit, aka. vector_size\n",
    "    window=5, # La taille du \"contexte\", ici 5 mots avant et après le mot observé\n",
    "    min_count=5, # On ignore les mots qui n'apparaissent pas au moins 5 fois dans le corpus\n",
    "    workers=4, # Permet de paralléliser l'entraînement du modèle en 4 threads\n",
    "    epochs=5 # Nombre d'itérations du réseau de neurones sur le jeu de données pour ajuster les paramètres avec la descente de gradient, aka. epochs.\n",
    ")"
   ]
  },
  {
   "cell_type": "markdown",
   "metadata": {},
   "source": [
    "#### Remarque\n",
    "\n",
    "Vous voyez ici que l'entrainement du modèle est parallélisé (sur 4 workers).\n",
    "\n",
    "Lors qu'on parallélise l'entrainement du modèle, 4 modèles \"séparés\" sont entrainés sur environ un quart des phrases.\n",
    "\n",
    "Ensuite, les résultats sont agrégés pour ne plus faire qu'un seul modèle.\n",
    "\n",
    "On ne peut prédire quel worker aura quelle phrase, car il y a des aléas lors de la parallélisation (p. ex. un worker qui serait plus lent, etc.).\n",
    "\n",
    "Du coup, les valeurs peuvent varier légèrement d'un entrainement à l'autre.\n",
    "\n",
    "Mais, globalement, les résultats restent cohérents."
   ]
  },
  {
   "cell_type": "markdown",
   "metadata": {},
   "source": [
    "### Sauver le modèle dans un fichier"
   ]
  },
  {
   "cell_type": "code",
   "execution_count": 19,
   "metadata": {},
   "outputs": [],
   "source": [
    "outfile = f\"../../data/corpus/newspapers.model\"\n",
    "model.save(outfile)"
   ]
  },
  {
   "cell_type": "markdown",
   "metadata": {},
   "source": [
    "## Explorer le modèle"
   ]
  },
  {
   "cell_type": "markdown",
   "metadata": {},
   "source": [
    "### Charger le modèle en mémoire"
   ]
  },
  {
   "cell_type": "code",
   "execution_count": 20,
   "metadata": {},
   "outputs": [],
   "source": [
    "model = Word2Vec.load(\"../../data/corpus/newspapers.model\")"
   ]
  },
  {
   "cell_type": "markdown",
   "metadata": {},
   "source": [
    "### Imprimer le vecteur d'un terme"
   ]
  },
  {
   "cell_type": "code",
   "execution_count": 21,
   "metadata": {},
   "outputs": [
    {
     "data": {
      "text/plain": [
       "array([ 2.169128  , -6.5993385 , -2.4424016 ,  3.2607892 , -3.800031  ,\n",
       "        3.2084959 ,  2.9995608 , -1.009213  , -1.0310135 , -1.7069305 ,\n",
       "        2.539556  ,  2.2973402 ,  1.8128042 ,  2.364334  ,  1.240359  ,\n",
       "       -3.6093893 ,  0.17294087,  1.1363162 ,  1.0014226 ,  0.07618248,\n",
       "       -1.6461427 ,  2.8236804 ,  1.3302144 , -0.31640854, -0.8378373 ,\n",
       "        3.0017452 , -2.6807666 ,  1.3076642 , -1.1307893 ,  1.5142076 ,\n",
       "       -2.6605682 , -4.3628554 ], dtype=float32)"
      ]
     },
     "execution_count": 21,
     "metadata": {},
     "output_type": "execute_result"
    }
   ],
   "source": [
    "model.wv[\"ministre\"]"
   ]
  },
  {
   "cell_type": "markdown",
   "metadata": {},
   "source": [
    "### Calculer la similarité entre deux termes"
   ]
  },
  {
   "cell_type": "code",
   "execution_count": 22,
   "metadata": {},
   "outputs": [
    {
     "data": {
      "text/plain": [
       "0.3302796"
      ]
     },
     "execution_count": 22,
     "metadata": {},
     "output_type": "execute_result"
    }
   ],
   "source": [
    "model.wv.similarity(\"congo\", \"exportation\")"
   ]
  },
  {
   "cell_type": "markdown",
   "metadata": {},
   "source": [
    "### Chercher les mots les plus proches d'un terme donné"
   ]
  },
  {
   "cell_type": "code",
   "execution_count": 35,
   "metadata": {},
   "outputs": [
    {
     "data": {
      "text/plain": [
       "[('developpement', 0.8645722270011902),\n",
       " ('regime', 0.854623556137085),\n",
       " ('respect', 0.8536964654922485),\n",
       " ('trafic', 0.8205057382583618),\n",
       " ('systeme', 0.8156648278236389),\n",
       " ('mouvement', 0.8141113519668579),\n",
       " ('pays', 0.8094106316566467),\n",
       " ('domaine', 0.8065133094787598),\n",
       " ('sort', 0.8063024878501892),\n",
       " ('territoire', 0.8062463998794556)]"
      ]
     },
     "execution_count": 35,
     "metadata": {},
     "output_type": "execute_result"
    }
   ],
   "source": [
    "model.wv.most_similar(\"progres\", topn=10)"
   ]
  },
  {
   "cell_type": "code",
   "execution_count": 36,
   "metadata": {},
   "outputs": [
    {
     "data": {
      "text/plain": [
       "[('pensee', 0.8452361822128296),\n",
       " ('pratique', 0.8444719314575195),\n",
       " ('nation', 0.8364242315292358),\n",
       " ('politique_coloniale', 0.8321669101715088),\n",
       " ('conclusion', 0.8309684991836548),\n",
       " ('la_colonisation', 0.819184422492981),\n",
       " ('personnelle', 0.8182772994041443),\n",
       " ('volonte', 0.8175395727157593),\n",
       " ('liberte', 0.8110671639442444),\n",
       " ('conscience', 0.8079628348350525)]"
      ]
     },
     "execution_count": 36,
     "metadata": {},
     "output_type": "execute_result"
    }
   ],
   "source": [
    "model.wv.most_similar(\"politique\", topn=10)"
   ]
  },
  {
   "cell_type": "code",
   "execution_count": 23,
   "metadata": {},
   "outputs": [
    {
     "data": {
      "text/plain": [
       "[('augmentation', 0.9170979261398315),\n",
       " ('importation', 0.9039098024368286),\n",
       " ('alcool', 0.8914446234703064),\n",
       " ('exploitation', 0.8847424983978271),\n",
       " ('amortissement', 0.8832395672798157),\n",
       " ('achat', 0.8776701092720032),\n",
       " ('ivoire', 0.8743161559104919),\n",
       " ('acquisition', 0.8733313679695129),\n",
       " ('introduction', 0.8720018267631531),\n",
       " ('attribution', 0.8704810738563538)]"
      ]
     },
     "execution_count": 23,
     "metadata": {},
     "output_type": "execute_result"
    }
   ],
   "source": [
    "model.wv.most_similar(\"exportation\", topn=10)"
   ]
  },
  {
   "cell_type": "code",
   "execution_count": 24,
   "metadata": {},
   "outputs": [
    {
     "data": {
      "text/plain": [
       "[('inauguration', 0.8554267287254333),\n",
       " ('ecole', 0.8425588607788086),\n",
       " ('adjudication', 0.8263784646987915),\n",
       " ('escadre', 0.8251222968101501),\n",
       " ('ouverture', 0.8231439590454102),\n",
       " ('assemblee_generale', 0.8117398619651794),\n",
       " ('installation', 0.8087273240089417),\n",
       " ('entree', 0.8048309683799744),\n",
       " ('administration_communale', 0.7999159097671509),\n",
       " ('occasion', 0.7827901244163513)]"
      ]
     },
     "execution_count": 24,
     "metadata": {},
     "output_type": "execute_result"
    }
   ],
   "source": [
    "model.wv.most_similar(\"exposition\", topn=10)"
   ]
  },
  {
   "cell_type": "code",
   "execution_count": 25,
   "metadata": {},
   "outputs": [
    {
     "data": {
      "text/plain": [
       "[('enseignement', 0.7737184762954712),\n",
       " ('architecture', 0.7603649497032166),\n",
       " ('alcool', 0.7443354725837708),\n",
       " ('avancement', 0.7345094680786133),\n",
       " ('education', 0.725412905216217),\n",
       " ('assimilation', 0.7248212695121765),\n",
       " ('elite', 0.7077756524085999),\n",
       " ('admiration', 0.6933848261833191),\n",
       " ('etudes', 0.6929312348365784),\n",
       " ('inscription', 0.6873064637184143)]"
      ]
     },
     "execution_count": 25,
     "metadata": {},
     "output_type": "execute_result"
    }
   ],
   "source": [
    "model.wv.most_similar(\"art\", topn=10)"
   ]
  },
  {
   "cell_type": "code",
   "execution_count": 26,
   "metadata": {},
   "outputs": [
    {
     "data": {
      "text/plain": [
       "[('armee_allemande', 0.9364155530929565),\n",
       " ('expos', 0.9158846735954285),\n",
       " ('antiquite', 0.9082021117210388),\n",
       " ('investigation', 0.9052834510803223),\n",
       " ('apport', 0.9033463597297668),\n",
       " ('tentat', 0.9018136262893677),\n",
       " ('urgente_necessite', 0.9013684391975403),\n",
       " ('autre_moitie', 0.900053858757019),\n",
       " ('afi', 0.897419273853302),\n",
       " ('illustration', 0.8958727121353149)]"
      ]
     },
     "execution_count": 26,
     "metadata": {},
     "output_type": "execute_result"
    }
   ],
   "source": [
    "model.wv.most_similar(\"art_decoratif\", topn=10)"
   ]
  },
  {
   "cell_type": "code",
   "execution_count": 27,
   "metadata": {},
   "outputs": [
    {
     "data": {
      "text/plain": [
       "[('situation_actuelle', 0.8867377638816833),\n",
       " ('sauvegarde', 0.8855992555618286),\n",
       " ('coalition', 0.8832297325134277),\n",
       " ('fraternite', 0.8769776225090027),\n",
       " ('solidarite', 0.8765676617622375),\n",
       " ('constante', 0.8760496377944946),\n",
       " ('doctrine', 0.874079167842865),\n",
       " ('conciliation', 0.8727903962135315),\n",
       " ('domination', 0.871848464012146),\n",
       " ('tolerance', 0.8716562986373901)]"
      ]
     },
     "execution_count": 27,
     "metadata": {},
     "output_type": "execute_result"
    }
   ],
   "source": [
    "model.wv.most_similar(\"colonisation\", topn=10)"
   ]
  },
  {
   "cell_type": "code",
   "execution_count": 28,
   "metadata": {},
   "outputs": [
    {
     "data": {
      "text/plain": [
       "[('impot', 0.8386906385421753),\n",
       " ('attrait', 0.8025811314582825),\n",
       " ('isolement', 0.7972579002380371),\n",
       " ('indemnite', 0.7883970737457275),\n",
       " ('attribution', 0.7845531702041626),\n",
       " ('espace', 0.7777578234672546),\n",
       " ('efficacite', 0.7749679684638977),\n",
       " ('ensemble', 0.7710190415382385),\n",
       " ('eflet', 0.7676894664764404),\n",
       " ('afrique_orientale_allemande', 0.7644388675689697)]"
      ]
     },
     "execution_count": 28,
     "metadata": {},
     "output_type": "execute_result"
    }
   ],
   "source": [
    "model.wv.most_similar(\"indigene\", topn=10)"
   ]
  },
  {
   "cell_type": "code",
   "execution_count": 29,
   "metadata": {},
   "outputs": [
    {
     "data": {
      "text/plain": [
       "[('au_congo', 0.7742052674293518),\n",
       " ('anglais', 0.7598860263824463),\n",
       " ('congolaises', 0.7512133717536926),\n",
       " ('du_congo', 0.7508137822151184),\n",
       " ('reformes', 0.7478499412536621),\n",
       " ('du_domaine', 0.7459226250648499),\n",
       " ('des_droits', 0.7457553744316101),\n",
       " ('des_negres', 0.7438285946846008),\n",
       " ('controle', 0.7416864037513733),\n",
       " ('francais', 0.7406160235404968)]"
      ]
     },
     "execution_count": 29,
     "metadata": {},
     "output_type": "execute_result"
    }
   ],
   "source": [
    "model.wv.most_similar(\"congolais\", topn=10)"
   ]
  },
  {
   "cell_type": "code",
   "execution_count": 30,
   "metadata": {},
   "outputs": [
    {
     "data": {
      "text/plain": [
       "[('alcool', 0.9015253186225891),\n",
       " ('embellissement', 0.8883063197135925),\n",
       " ('outillage', 0.8827223777770996),\n",
       " ('elevage', 0.880047619342804),\n",
       " ('affectation', 0.8775478005409241),\n",
       " ('exportation', 0.8743160963058472),\n",
       " ('algerie', 0.8722872138023376),\n",
       " ('attribution', 0.8722137808799744),\n",
       " ('extraction', 0.8690187335014343),\n",
       " ('exploitation', 0.8678916692733765)]"
      ]
     },
     "execution_count": 30,
     "metadata": {},
     "output_type": "execute_result"
    }
   ],
   "source": [
    "model.wv.most_similar(\"ivoire\", topn=10)"
   ]
  },
  {
   "cell_type": "code",
   "execution_count": 31,
   "metadata": {},
   "outputs": [
    {
     "data": {
      "text/plain": [
       "[('passage', 0.827998161315918),\n",
       " ('quartier', 0.8277766704559326),\n",
       " ('pavillon', 0.8223398327827454),\n",
       " ('quai', 0.8043650984764099),\n",
       " ('theatre', 0.8005605340003967),\n",
       " ('local', 0.7989769577980042),\n",
       " ('depart', 0.7940343618392944),\n",
       " ('cortege', 0.789416491985321),\n",
       " ('cafe', 0.7856259346008301),\n",
       " ('salon', 0.784581184387207)]"
      ]
     },
     "execution_count": 31,
     "metadata": {},
     "output_type": "execute_result"
    }
   ],
   "source": [
    "model.wv.most_similar(\"palais\", topn=10)"
   ]
  },
  {
   "cell_type": "code",
   "execution_count": 32,
   "metadata": {},
   "outputs": [
    {
     "data": {
      "text/plain": [
       "[('filer', 0.9436866044998169),\n",
       " ('factionnaire', 0.9393418431282043),\n",
       " ('vieil_homme', 0.9392215013504028),\n",
       " ('111_1_/', 0.9348193407058716),\n",
       " ('impressionnant', 0.9311672449111938),\n",
       " ('cn_attendant', 0.9309332966804504),\n",
       " ('dtf', 0.9275283217430115),\n",
       " ('boniment', 0.9271833896636963),\n",
       " ('resine', 0.9265388250350952),\n",
       " ('chanta', 0.923577070236206)]"
      ]
     },
     "execution_count": 32,
     "metadata": {},
     "output_type": "execute_result"
    }
   ],
   "source": [
    "model.wv.most_similar(\"exotique\", topn=10)"
   ]
  },
  {
   "cell_type": "code",
   "execution_count": 33,
   "metadata": {},
   "outputs": [
    {
     "data": {
      "text/plain": [
       "[('souverainete', 0.9298473596572876),\n",
       " ('civilisation', 0.9116161465644836),\n",
       " ('prosperite', 0.8980256915092468),\n",
       " ('nation', 0.8930848836898804),\n",
       " ('puissance', 0.8720464110374451),\n",
       " ('protection', 0.8694509267807007),\n",
       " ('conquete', 0.8663945198059082),\n",
       " ('religion', 0.8609830737113953),\n",
       " ('liberte', 0.8579952120780945),\n",
       " ('securite', 0.8559237122535706)]"
      ]
     },
     "execution_count": 33,
     "metadata": {},
     "output_type": "execute_result"
    }
   ],
   "source": [
    "model.wv.most_similar(\"colonie\", topn=10)"
   ]
  }
 ],
 "metadata": {
  "kernelspec": {
   "display_name": "Python 3.10.5 ('tac_venv': venv)",
   "language": "python",
   "name": "python3"
  },
  "language_info": {
   "codemirror_mode": {
    "name": "ipython",
    "version": 3
   },
   "file_extension": ".py",
   "mimetype": "text/x-python",
   "name": "python",
   "nbconvert_exporter": "python",
   "pygments_lexer": "ipython3",
   "version": "3.11.3"
  },
  "vscode": {
   "interpreter": {
    "hash": "b1932ab1d169b4769d1550e799423b6477588e745f266d79d9004c136c81607e"
   }
  }
 },
 "nbformat": 4,
 "nbformat_minor": 4
}
