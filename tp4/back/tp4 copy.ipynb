{
 "cells": [
  {
   "attachments": {},
   "cell_type": "markdown",
   "metadata": {},
   "source": [
    "# TP4"
   ]
  },
  {
   "attachments": {},
   "cell_type": "markdown",
   "metadata": {},
   "source": [
    "## Importation de paquets et de modules Python"
   ]
  },
  {
   "cell_type": "code",
   "execution_count": 20,
   "metadata": {},
   "outputs": [
    {
     "name": "stderr",
     "output_type": "stream",
     "text": [
      "[nltk_data] Downloading package stopwords to /home/nako/nltk_data...\n",
      "[nltk_data]   Package stopwords is already up-to-date!\n"
     ]
    }
   ],
   "source": [
    "from collections import defaultdict\n",
    "import os\n",
    "import matplotlib.pyplot as plt\n",
    "import numpy as np\n",
    "import nltk\n",
    "nltk.download('stopwords')\n",
    "from nltk.corpus import stopwords\n",
    "import textcleaner as tc\n",
    "from stop_words import get_stop_words\n",
    "from nltk.probability import FreqDist"
   ]
  },
  {
   "attachments": {},
   "cell_type": "markdown",
   "metadata": {},
   "source": [
    "## Création d'un corpus"
   ]
  },
  {
   "attachments": {},
   "cell_type": "markdown",
   "metadata": {},
   "source": [
    "### Récupération de nos documents à partir du dossier txt"
   ]
  },
  {
   "cell_type": "code",
   "execution_count": 21,
   "metadata": {},
   "outputs": [
    {
     "name": "stdout",
     "output_type": "stream",
     "text": [
      "Nous avons récupéré 1000 fichiers de la bibliothèque numérique CAMille.\n"
     ]
    }
   ],
   "source": [
    "txt = \"../data/tp4/txt/\"\n",
    "files = sorted(os.listdir(txt))\n",
    "\n",
    "print(f\"Nous avons récupéré {len(files)} fichiers de la bibliothèque numérique CAMille.\")"
   ]
  },
  {
   "attachments": {},
   "cell_type": "markdown",
   "metadata": {},
   "source": [
    "### Quelques statistiques"
   ]
  },
  {
   "cell_type": "code",
   "execution_count": 22,
   "metadata": {},
   "outputs": [],
   "source": [
    "all_years = [str(year) for year in range(1885, 1960)]\n",
    "\n",
    "count_decade = defaultdict(int)\n",
    "count_month = defaultdict(int)\n",
    "count_newspapers = defaultdict(int)\n",
    "covered_years = set()\n",
    "\n",
    "for f in files:\n",
    "        elems = f.split(\"_\")\n",
    "        newspaper = elems[1]\n",
    "        year = elems[2].split(\"-\")[0]\n",
    "        covered_years.add(year)\n",
    "        decade = year[:3] + \"0s\"\n",
    "        month = int(elems[2].split(\"-\")[1])\n",
    "        count_decade[decade] += 1\n",
    "        count_newspapers[newspaper] += 1\n",
    "        count_month[month] += 1"
   ]
  },
  {
   "cell_type": "code",
   "execution_count": 23,
   "metadata": {},
   "outputs": [
    {
     "name": "stdout",
     "output_type": "stream",
     "text": [
      "Voici le nombre de documents que l'on a récupéré par journal :\n",
      "- 205 exemplaires de Le Vingtième Siècle\n",
      "- 156 exemplaires de L'Indépendance belge\n",
      "- 108 exemplaires de La Libre Belgique\n",
      "- 108 exemplaires de La Libre Belgique\n",
      "- 93 exemplaires de L'Avenir du Luxembourg\n",
      "- 74 exemplaires de Vers l'Avenir\n",
      "- 64 exemplaires de Le Petit Bleu\n",
      "- 57 exemplaires de Journal de Bruxelles\n",
      "- 56 exemplaires du journal Le Soir\n",
      "- 48 exemplaires de L'Indépendance belge (édité en Angleterre)\n",
      "- 48 exemplaires de La Meuse\n",
      "- 43 exemplaires de Le Peuple\n",
      "- 26 exemplaires de Le Drapeau rouge\n",
      "- 22 exemplaires de Journal de Charleroi\n"
     ]
    }
   ],
   "source": [
    "print(\"Voici le nombre de documents que l'on a récupéré par journal :\")\n",
    "print(f\"- {count_newspapers['JB729']} exemplaires de Le Vingtième Siècle\")\n",
    "print(f\"- {count_newspapers['JB555']} exemplaires de L'Indépendance belge\")\n",
    "print(f\"- {count_newspapers['JB427']} exemplaires de La Libre Belgique\")\n",
    "print(f\"- {count_newspapers['JB427']} exemplaires de La Libre Belgique\")\n",
    "print(f\"- {count_newspapers['JB421']} exemplaires de L'Avenir du Luxembourg\")\n",
    "print(f\"- {count_newspapers['JB773']} exemplaires de Vers l'Avenir\")\n",
    "print(f\"- {count_newspapers['JB685']} exemplaires de Le Petit Bleu\")\n",
    "print(f\"- {count_newspapers['JB567']} exemplaires de Journal de Bruxelles\")\n",
    "print(f\"- {count_newspapers['JB838']} exemplaires du journal Le Soir\")\n",
    "print(f\"- {count_newspapers['JB555A']} exemplaires de L'Indépendance belge (édité en Angleterre)\")\n",
    "print(f\"- {count_newspapers['JB638']} exemplaires de La Meuse\")\n",
    "print(f\"- {count_newspapers['JB837']} exemplaires de Le Peuple\")\n",
    "print(f\"- {count_newspapers['JB1051']} exemplaires de Le Drapeau rouge\")\n",
    "print(f\"- {count_newspapers['JB572']} exemplaires de Journal de Charleroi\")"
   ]
  },
  {
   "cell_type": "code",
   "execution_count": 24,
   "metadata": {},
   "outputs": [
    {
     "name": "stdout",
     "output_type": "stream",
     "text": [
      "Les années manquantes de notre corpus sont: 1885, 1886, 1887, 1888, 1890, 1891, 1892, 1893, 1941, 1943, 1952, 1956\n"
     ]
    }
   ],
   "source": [
    "missing_years = [y for y in all_years if y not in covered_years]\n",
    "\n",
    "print(f\"Les années manquantes de notre corpus sont: {', '.join(missing_years)}\")"
   ]
  },
  {
   "cell_type": "code",
   "execution_count": 25,
   "metadata": {},
   "outputs": [
    {
     "name": "stdout",
     "output_type": "stream",
     "text": [
      "12\n"
     ]
    },
    {
     "data": {
      "image/png": "[encoded data removed]",
      "text/plain": [
       "<Figure size 640x480 with 1 Axes>"
      ]
     },
     "metadata": {},
     "output_type": "display_data"
    }
   ],
   "source": [
    "index = np.arange(len(count_month))\n",
    "print(len(count_month))\n",
    "plt.bar(index, count_month.values())\n",
    "plt.xlabel('Mois')\n",
    "plt.ylabel('# documents')\n",
    "plt.xticks(index, count_month.keys(), fontsize=8, rotation=30)\n",
    "plt.title('Nombre de documents par mois')\n",
    "plt.show()"
   ]
  },
  {
   "attachments": {},
   "cell_type": "markdown",
   "metadata": {},
   "source": [
    "### Création d'un grand fichier corpus.txt comprenant tous les documents"
   ]
  },
  {
   "cell_type": "code",
   "execution_count": 26,
   "metadata": {},
   "outputs": [
    {
     "name": "stdout",
     "output_type": "stream",
     "text": [
      "       0  5971105 37034912 ../data/tp4/corpus.txt\n",
      "On obtient ici, dans l'ordre, le nombre de lignes, de mots, et d'octets compris dans notre corpus.\n"
     ]
    }
   ],
   "source": [
    "!cat ../data/tp4/txt/*.txt > ../data/tp4/corpus.txt\n",
    "!wc ../data/tp4/corpus.txt\n",
    "\n",
    "print(\"On obtient ici, dans l'ordre, le nombre de lignes, de mots, et d'octets compris dans notre corpus.\")\n"
   ]
  },
  {
   "attachments": {},
   "cell_type": "markdown",
   "metadata": {},
   "source": [
    "## Nettoyage de notre corpus"
   ]
  },
  {
   "attachments": {},
   "cell_type": "markdown",
   "metadata": {},
   "source": [
    "### Récupération de notre fichier corpus.txt"
   ]
  },
  {
   "cell_type": "code",
   "execution_count": 27,
   "metadata": {},
   "outputs": [
    {
     "name": "stdout",
     "output_type": "stream",
     "text": [
      "TROISIEME AYWtfBE - N. 176 W centimes k numéro SAMEDI 26 KJÏN 1925. aSSSJSHI! m -î 'cJtifjboBC it Administration-Publicité. .... ê » 163,33 '» Rédaction . .... , , . ,-. ■- „ 163,33 Rédaction (après 19 heures) . % : , » 296,89 àélégrapbique : DEAPOUGE-BRDXSBÈiBB ^ompte-ofc^u-Wsiftwfcaux :: n» 122,595 Organe quotidien da Parti Communiste Belge (S. B. I. Q 57-59, rue des Alexiens, 57-59, BRUXELLES ABGNSgME-NTS: BeJgiqae: 3 ? «epteab». b * « 31 décembre . « *, . 16.50 S0.50 > Etrabçer, 1 an . . . • * •> 100,00 On s'abonne daaa tous tes Busreaux de raie 3» pays. Le mouvement minoritaire et la lutt\n"
     ]
    }
   ],
   "source": [
    "corpus = \"../data/tp4/corpus.txt\"\n",
    "with open(corpus) as f:\n",
    "    text = f.read()\n",
    "    \n",
    "print(text[:600])"
   ]
  },
  {
   "attachments": {},
   "cell_type": "markdown",
   "metadata": {},
   "source": [
    "### Création d'une une liste de stopwords"
   ]
  },
  {
   "cell_type": "code",
   "execution_count": 28,
   "metadata": {},
   "outputs": [
    {
     "name": "stdout",
     "output_type": "stream",
     "text": [
      "Il existe 197 stopwords dans notre liste :\n",
      " ['ai', 'aie', 'aient', 'aies', 'ainsi', 'ait', 'après', 'as', 'au', 'aura', 'aurai', 'auraient', 'aurais', 'aurait', 'auras', 'aurez', 'auriez', 'aurions', 'aurons', 'auront', 'aussi', 'autre', 'autres', 'aux', 'avaient', 'avais', 'avait', 'avec', 'avez', 'aviez', 'avions', 'avoir', 'avons', 'ayant', 'ayante', 'ayantes', 'ayants', 'ayez', 'ayons', 'bien', 'c', 'ce', 'cela', 'celle', 'ces', 'cet', 'cette', 'comme', 'contre', 'd', 'dans', 'de', 'depuis', 'des', 'deux', 'dire', 'dit', 'doit', 'donc', 'dont', 'du', 'elle', 'en', 'encore', 'entre', 'es', 'est', 'et', 'eu', 'eue', 'eues', 'eurent', 'eus', 'eusse', 'eussent', 'eusses', 'eussiez', 'eussions', 'eut', 'eux', 'eûmes', 'eût', 'eûtes', 'faire', 'fait', 'faut', 'furent', 'fus', 'fusse', 'fussent', 'fusses', 'fussiez', 'fussions', 'fut', 'fûmes', 'fût', 'fûtes', 'het', 'il', 'ils', 'j', 'je', 'jusqu', 'l', 'la', 'le', 'les', 'leur', 'lui', 'm', 'ma', 'mais', 'me', 'mes', 'moi', 'moins', 'mon', 'même', 'n', 'ne', 'non', 'nos', 'notre', 'nous', 'on', 'ont', 'ou', 'par', 'pas', 'pendant', 'peut', 'plus', 'pour', 'qu', 'que', 'qui', 's', 'sa', 'sans', 'se', 'sera', 'serai', 'seraient', 'serais', 'serait', 'seras', 'serez', 'seriez', 'serions', 'serons', 'seront', 'ses', 'soient', 'sois', 'soit', 'sommes', 'son', 'sont', 'sous', 'soyez', 'soyons', 'suis', 'sur', 't', 'ta', 'te', 'tes', 'toi', 'ton', 'tous', 'tout', 'toutes', 'trois', 'tu', 'un', 'une', 'van', 'vos', 'votre', 'vous', 'y', 'à', 'étaient', 'étais', 'était', 'étant', 'étante', 'étantes', 'étants', 'étiez', 'étions', 'été', 'étée', 'étées', 'étés', 'êtes', 'être']\n"
     ]
    }
   ],
   "source": [
    "sw = stopwords.words(\"french\")\n",
    "sw += [\"les\", \"plus\", \"cette\", \"fait\", \"faire\", \"être\", \"deux\", \"comme\", \"dont\", \"tout\", \n",
    "       \"ils\", \"bien\", \"sans\", \"peut\", \"tous\", \"après\", \"ainsi\", \"donc\", \"cet\", \"sous\",\n",
    "       \"celle\", \"entre\", \"encore\", \"toutes\", \"pendant\", \"moins\", \"dire\", \"cela\", \"non\",\n",
    "       \"faut\", \"trois\", \"aussi\", \"dit\", \"avoir\", \"doit\", \"contre\", \"depuis\", \"autres\",\n",
    "       \"van\", \"het\", \"autre\", \"jusqu\"]\n",
    "sw = set(sw)\n",
    "\n",
    "print(f\"Il existe {len(sw)} stopwords dans notre liste :\\n {sorted(sw)}\")"
   ]
  },
  {
   "attachments": {},
   "cell_type": "markdown",
   "metadata": {},
   "source": [
    "### Tokenization"
   ]
  },
  {
   "cell_type": "code",
   "execution_count": 29,
   "metadata": {},
   "outputs": [
    {
     "name": "stdout",
     "output_type": "stream",
     "text": [
      "Nous avons identifié 8190403 tokens dans notre corpus.\n",
      "Voici un apperçu des 25 premiers tokens :\n",
      " ['TROISIEME', 'AYWtfBE', '-', 'N', '.', '176', 'W', 'centimes', 'k', 'numéro', 'SAMEDI', '26', 'KJÏN', '1925', '.', 'aSSSJSHI', '!', 'm', '-', 'î', \"'\", 'cJtifjboBC', 'it', 'Administration', '-']\n"
     ]
    }
   ],
   "source": [
    "words = nltk.wordpunct_tokenize(text)\n",
    "\n",
    "print(f\"Nous avons identifié {len(words)} tokens dans notre corpus.\")\n",
    "print(f\"Voici un apperçu des 25 premiers tokens :\\n {words[:25]}\")"
   ]
  },
  {
   "attachments": {},
   "cell_type": "markdown",
   "metadata": {},
   "source": [
    "### Éliminer les stopwords et les termes non alphabétiques"
   ]
  },
  {
   "cell_type": "code",
   "execution_count": 30,
   "metadata": {},
   "outputs": [
    {
     "name": "stdout",
     "output_type": "stream",
     "text": [
      "5947755 tokens ont été conservés après le nettoyage des stopwords et des termes non alphabétiques.\n",
      "Voici un apperçu des 25 premiers tokens conservés :\n",
      " ['TROISIEME', 'AYWtfBE', '-', 'N', '.', '176', 'W', 'centimes', 'k', 'numéro', 'SAMEDI', '26', 'KJÏN', '1925', '.', 'aSSSJSHI', '!', '-', 'î', \"'\", 'cJtifjboBC', 'it', 'Administration', '-', 'Publicité']\n"
     ]
    }
   ],
   "source": [
    "kept = [w.lower() for w in words if len(w) > 2 and len(w) < 25 and w.isalpha()]\n",
    "kept = [w for w in words if w not in get_stop_words('french')]\n",
    "\n",
    "print(f\"{len(kept)} tokens ont été conservés après le nettoyage des stopwords et des termes non alphabétiques.\")\n",
    "print(f\"Voici un apperçu des 25 premiers tokens conservés :\\n {kept[:25]}\")"
   ]
  },
  {
   "cell_type": "code",
   "execution_count": 31,
   "metadata": {},
   "outputs": [],
   "source": [
    "# data = tc.document(kept)\n",
    "# remove = data.remove_stpwrds()"
   ]
  },
  {
   "attachments": {},
   "cell_type": "markdown",
   "metadata": {},
   "source": [
    "#### Vérification"
   ]
  },
  {
   "cell_type": "code",
   "execution_count": 32,
   "metadata": {},
   "outputs": [
    {
     "name": "stdout",
     "output_type": "stream",
     "text": [
      "le mot 'ai' est dans la liste\n"
     ]
    }
   ],
   "source": [
    "if any(\"ai\" in k for k in kept):\n",
    "    print(\"le mot 'ai' est dans la liste\")\n",
    "else:\n",
    "    print(\"le mot 'ai' n'est pas là dans la liste\")"
   ]
  },
  {
   "cell_type": "code",
   "execution_count": 33,
   "metadata": {},
   "outputs": [
    {
     "name": "stdout",
     "output_type": "stream",
     "text": [
      "le mot 'ai' n'est pas là dans la liste\n"
     ]
    }
   ],
   "source": [
    "dataset = ['coucou','ce','ai', 'a', 'des']\n",
    "A = [word for word in dataset if word not in get_stop_words('french')]\n",
    "\n",
    "if any(\"ai\" in k for k in A):\n",
    "    print(\"le mot 'ai' est dans la liste\")\n",
    "else:\n",
    "    print(\"le mot 'ai' n'est pas là dans la liste\")\n"
   ]
  },
  {
   "cell_type": "code",
   "execution_count": 19,
   "metadata": {},
   "outputs": [
    {
     "data": {
      "text/plain": [
       "['♦♦♦♦♦♦♦♦♦♦♦♦♦♦♦♦♦♦♦♦♦♦♦♦♦♦♦♦♦♦♦♦♦♦♦♦♦♦♦♦♦♦♦♦♦♦♦♦♦♦♦♦♦♦♦♦♦♦♦♦♦♦♦♦♦♦♦♦♦♦♦♦♦♦♦♦♦♦♦♦♦♦♦♦♦♦♦♦♦♦♦♦♦♦♦♦♦♦♦♦♦♦♦♦♦♦♦♦♦♦♦♦♦♦♦♦♦♦♦♦♦♦♦♦♦♦♦♦♦♦♦♦♦♦♦♦♦♦♦♦♦♦♦',\n",
       " 'niiiiniiiiiuiiiitiiiiiiiiiiiiiiiiiiiriiiifiiiiiiinliiiiuiiHiifinniiifuniiiiiiiiiiiiiiiiiiiitiiiiiiiiiniiiiiiuiiiiiiiiiiiiiiiiiiiiiii',\n",
       " 'KMTirinniiiiiiiiiiiiiiiiiiiiniiiiiiiiiiiuiiTiiiiininilllllllllllllirilllllllllllllllllIllililIllillIlllINIIlilllllllllllIlllllir',\n",
       " 'IIIIIIIIIIIIMIIMIIIIIIIMIIIIIIIIMMIIIIIIIIIIIIIIIIIIIIMIIIIIIIIIIIIIMIIIIIIIIIIIIIIIIIIIIIIIIIIIIIIIIIIIIIIIIIIIIIIIIIIII',\n",
       " 'llllllllllllllllllllllfflllllttllllltlllllllllllllllllllllllllltlllllllllllllllllllllllllllllllifllllllljlllllltlllllil',\n",
       " 'IIIIIIIIIIIIIIIIIIIIIIIIIIIIIIIIIIIIIIIIIIIIIIIIIIIIIIIIIIIIIIIIIIIIIIIIIIIIIIIIIIIIIIIIIIIIIIIIIIIIIIIIIIIIIIIIH',\n",
       " 'iiiiiiiiiiiiHiiiiiiiiiiniiiiiiiiiiiniiiiiiiiiiiniiiiiiiiiiiiBiiiiiiiiiiiiBiiiiiiiiiiiiBiiiiiiiiiiimiiiiiiiiiii',\n",
       " 'IIIIIIIIIIIIIIIIIIIIIIIIIIIIIIIIIIIIIIIIIIIIIIIIIIIIIIIIIIIIIIIIIIII1IIIIIIIIIIIIIIIIIII1IIIIIIIIIIIIIIIIIII',\n",
       " 'IiiiiiiiiiiiiBiniiiiiiiiwiiiiiiiiiiiimniimiiwiiiiiiiiiiiiwiniiiiiiiMiiiiiiniiiiBiiiiiiiiiiiiHiiiiiiiiiiiB',\n",
       " 'iiiiiiiiiiiiiiiiiiiiiiiiiiiiiiiiiiiiiiiiiiiiiiiiiiiiiiiiiiiiiiiiiiiiiiiiiiiiiiiiiiiiiiiiiiiiiiiiiiiiiiiii',\n",
       " 'Illlllllllllllllllllllllllllllllllllllllllllllllllllllllllllllllllllllllliiiiuillllllillllllllllllllllll',\n",
       " 'iiiiiiiiiiiiiiiiiiiiiiiiiiiiiiiiiiiiiiiiiiiiiiiiiiiiiiiiiiiiiiiiiiiiiiiiiiiiiiiiiiiiiiiiiiiniiiiiiiiiiii',\n",
       " 'iiiiiiiiiiiiaiiiiiiiiiiiniiiiiiiiiiiiniiiHiiiiiniiiiiiiMiniiiiiiiiiiiiHiiiiMiiiiiniiiiiiiiiiniiimiNiiia',\n",
       " 'iiiiiiiiiiiiiiiiiiiiiiiiiiiiiiiiiiiiiiiiiiiiiiiiiiiiiiiiiiiiiiiiiiiiiiiiiiiiiiiiiiiiniiiiiiiiiiiiiiiiii',\n",
       " 'IIIIIIIIIIIIIIIIIIIIIIIIIIIIIIIIIIIIIMIIIIIIIIIIIIIIIIIIIIIIIIIIIIIIIIIIIIIIIIIIIIIIIIIIIIIIIIIIIIIMIll',\n",
       " 'iiiiiiiiiiiiiiiiiiiiiiiiiiiiiiiiiiiiiiiiiiiiiiiiiiiiiirïiiiiiiiiiiiiiiiiiiiiiiiiiiiiiuiiiiiiiiaiiiiiiu',\n",
       " 'îiiiiiiiiiiiiiiiiiiiiiiiiiiiiiiiiiiiiiiiiiiiiiMiiiiiiiiiiiiiiiiiiiiiiiiiiiiiiiiiiiiiiiiiiniiiiiiiiiiii',\n",
       " 'IIIIIIIIIIIIIIIIIIIIIIIIMIIIIIIIIIIIIIIIIIIIIIIIIIIIIIIIIIIIIIIIIMIIIIIIIIIIIIIIIIIIIIIIIIIIIIIIIIIIII',\n",
       " 'niiiiiiiiiiiiiiiiiiiiiiiiiiiiiiiiiiiiiiiiiiiiiiiiiiiiiiiiiiiiiiiiiiiiiiiiiiiiiiiiiiiiiiiiiiiimiiiiiiR',\n",
       " 'ÎIIIIIIIIIIIIIIIIIIMIIIIIIHIIIIIIIIIIIIIIIIIIIIIIIIIIIIUIIIIIIIIIIIIIIIIIIIIIIIIIIIIIIIIIIIIIIIIIIIII',\n",
       " 'iiiiiiiiiiiiiiiiiiiiiiiiiiiiiiiiiiiiiiiiiiiimiiiiiiiiiiiiiiiiiiiniiiiiiiiiiiiiiiiiiiiiiiiiiiiiiiimii',\n",
       " 'llllllillllllllllllMlllMIIIIIlIllIlllllllllIllIllllllMlIllIllllllllllllllilllllllllllllllMIIIIMIIIII',\n",
       " 'niiiniiiiiiiniiiiMiiiiiiiiiiiiiiiiMiiiiiiiiiiiiniiMiiiiiiiiiniiiMiiiiiiuiiiinniiiiniiiiiinmiiiiiiiii',\n",
       " 'IIIIIIIIIIIIIIIIIIIIIIIIIIIIIIIIIIIIIIIIIIIIIIIIIIIIIIIIIIIIIIIIIIIIIUIIIIIIIIIIIIIIIMIIIIIIIIHIIIIH',\n",
       " 'IIIIIIIIHIIIIIIIIIIIIIIIIIIIIIIIIIIIUIIHIIIIIIIIIIIIIIIIIMIIIIIIIIIIIIIIIIIIIIIIIIIIIIIIIIIIIIIIIIII',\n",
       " 'lllllllllIlllllllllllMlllllllllllllllllimiHllllllllllllllllllllllllllllllllllllllllllllllllllllilli',\n",
       " 'lUmillUIIIIIIllllllllillllllllllllllllIlllllllllllllllllllllIllllllllllliliiuillllllIUllllIIIIIIlll',\n",
       " 'lillllllllllllllliilllllllllllllllllllllllililllllllllllllllliillilllllllllllllllllllilllllllllllil',\n",
       " 'aiiiiiiiiiiiiiiiiiiiiiiiiiiiiiiiiiiiiiiiiiiiiiiiiiiiiiiiiiiiiiiiiiiiiiiiiiiiiiiiiiiiiiiiiiiiiiiiii',\n",
       " 'HîîîîîîîîîîîîîîîiJîîîîîîîîîîîîîîtiîîîîîîîîîîîîîîîîîîîîîîîîîîîîîîîîîîîîîîîîtîîîîiîîîîîîîîîîîîîîîît']"
      ]
     },
     "execution_count": 19,
     "metadata": {},
     "output_type": "execute_result"
    }
   ],
   "source": [
    "n = 30\n",
    "voc = set(kept)\n",
    "sorted(voc, key=len, reverse=True)[:n]"
   ]
  }
 ],
 "metadata": {
  "kernelspec": {
   "display_name": "Python 3.10.5 ('tac_venv': venv)",
   "language": "python",
   "name": "python3"
  },
  "language_info": {
   "codemirror_mode": {
    "name": "ipython",
    "version": 3
   },
   "file_extension": ".py",
   "mimetype": "text/x-python",
   "name": "python",
   "nbconvert_exporter": "python",
   "pygments_lexer": "ipython3",
   "version": "3.11.3"
  },
  "vscode": {
   "interpreter": {
    "hash": "b1932ab1d169b4769d1550e799423b6477588e745f266d79d9004c136c81607e"
   }
  }
 },
 "nbformat": 4,
 "nbformat_minor": 4
}
