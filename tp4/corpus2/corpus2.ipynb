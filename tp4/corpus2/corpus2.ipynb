{
 "cells": [
  {
   "attachments": {},
   "cell_type": "markdown",
   "metadata": {},
   "source": [
    "# TP4"
   ]
  },
  {
   "attachments": {},
   "cell_type": "markdown",
   "metadata": {},
   "source": [
    "## Importation de paquets et de modules Python"
   ]
  },
  {
   "cell_type": "code",
   "execution_count": 1,
   "metadata": {},
   "outputs": [
    {
     "name": "stderr",
     "output_type": "stream",
     "text": [
      "[nltk_data] Downloading package stopwords to /home/nako/nltk_data...\n",
      "[nltk_data]   Package stopwords is already up-to-date!\n"
     ]
    }
   ],
   "source": [
    "from collections import defaultdict\n",
    "import os\n",
    "import matplotlib.pyplot as plt\n",
    "import numpy as np\n",
    "import nltk\n",
    "nltk.download('stopwords')\n",
    "from nltk.corpus import stopwords\n",
    "import textcleaner as tc\n",
    "from stop_words import get_stop_words\n",
    "from nltk.probability import FreqDist\n",
    "import langid\n",
    "import pycountry\n",
    "from collections import Counter\n",
    "from wordcloud import WordCloud\n",
    "from IPython.display import Image\n",
    "from collections import Counter\n",
    "from wordcloud import WordCloud"
   ]
  },
  {
   "attachments": {},
   "cell_type": "markdown",
   "metadata": {},
   "source": [
    "## Création d'un corpus"
   ]
  },
  {
   "attachments": {},
   "cell_type": "markdown",
   "metadata": {},
   "source": [
    "### Récupération de nos documents à partir du dossier txt"
   ]
  },
  {
   "cell_type": "code",
   "execution_count": 2,
   "metadata": {},
   "outputs": [
    {
     "name": "stdout",
     "output_type": "stream",
     "text": [
      "Nous avons récupéré 1000 fichiers de la bibliothèque numérique CAMille.\n"
     ]
    }
   ],
   "source": [
    "root = \"../data/leopoldII/txt/\"\n",
    "leopoldII = \"../data/leopoldII/\"\n",
    "temp_path = '../data/leopoldII/tmp/'\n",
    "\n",
    "txts = os.listdir(root)\n",
    "files = sorted(txts)\n",
    "print(f\"Nous avons récupéré {len(files)} fichiers de la bibliothèque numérique CAMille.\")"
   ]
  },
  {
   "attachments": {},
   "cell_type": "markdown",
   "metadata": {},
   "source": [
    "#### Nous vérifions si nos documents sont francophones"
   ]
  },
  {
   "cell_type": "code",
   "execution_count": 3,
   "metadata": {},
   "outputs": [
    {
     "name": "stdout",
     "output_type": "stream",
     "text": [
      "0 document(s) processed...\n",
      "50 document(s) processed...\n",
      "100 document(s) processed...\n",
      "150 document(s) processed...\n",
      "200 document(s) processed...\n",
      "250 document(s) processed...\n",
      "300 document(s) processed...\n",
      "350 document(s) processed...\n",
      "400 document(s) processed...\n",
      "450 document(s) processed...\n",
      "500 document(s) processed...\n",
      "550 document(s) processed...\n",
      "600 document(s) processed...\n",
      "650 document(s) processed...\n",
      "700 document(s) processed...\n",
      "750 document(s) processed...\n",
      "800 document(s) processed...\n",
      "850 document(s) processed...\n",
      "900 document(s) processed...\n",
      "950 document(s) processed...\n",
      "Done\n",
      "French\t1000\n"
     ]
    }
   ],
   "source": [
    "langid.set_languages(['fr', 'nl'])\n",
    "\n",
    "limit = None\n",
    "\n",
    "lang_dict = defaultdict(int)\n",
    "txts = txts[:limit] if limit else txts\n",
    "\n",
    "for i, txt in enumerate(files):\n",
    "    if txt.endswith(\"txt\"):\n",
    "        if i % 50 == 0:\n",
    "            print(f'{i} document(s) processed...')\n",
    "        text = open(os.path.join(root, txt)).read()\n",
    "        text_length = len(text)\n",
    "        if text_length > 20:\n",
    "            lang, conf = langid.classify(text)\n",
    "            lang_dict[lang] += 1\n",
    "        else:\n",
    "            print(f\"{txt} contains only {text_length} characters, treating as unknown\")\n",
    "            lang_dict['n/a'] += 1\n",
    "print(\"Done\")\n",
    "\n",
    "for lang_code, nb_docs in lang_dict.items():\n",
    "    language = pycountry.languages.get(alpha_2=lang_code)\n",
    "    try:\n",
    "        lang_name = language.name\n",
    "    except AttributeError:\n",
    "        lang_name = language\n",
    "    print(f\"{lang_name}\\t{nb_docs}\")"
   ]
  },
  {
   "attachments": {},
   "cell_type": "markdown",
   "metadata": {},
   "source": [
    "### Quelques statistiques"
   ]
  },
  {
   "cell_type": "code",
   "execution_count": 4,
   "metadata": {},
   "outputs": [],
   "source": [
    "all_years = [str(year) for year in range(1885, 1908)]\n",
    "\n",
    "count_decade = defaultdict(int)\n",
    "count_month = defaultdict(int)\n",
    "count_newspapers = defaultdict(int)\n",
    "covered_years = set()\n",
    "\n",
    "for f in files:\n",
    "        elems = f.split(\"_\")\n",
    "        newspaper = elems[1]\n",
    "        year = elems[2].split(\"-\")[0]\n",
    "        covered_years.add(year)\n",
    "        decade = year[:3] + \"0s\"\n",
    "        month = int(elems[2].split(\"-\")[1])\n",
    "        count_decade[decade] += 1\n",
    "        count_newspapers[newspaper] += 1\n",
    "        count_month[month] += 1"
   ]
  },
  {
   "cell_type": "code",
   "execution_count": 5,
   "metadata": {},
   "outputs": [
    {
     "name": "stdout",
     "output_type": "stream",
     "text": [
      "Voici le nombre de documents que l'on a récupéré par journal :\n",
      "- 239 exemplaires de Le Vingtième Siècle\n",
      "- 264 exemplaires de L'Indépendance belge\n",
      "- 0 exemplaires de La Libre Belgique\n",
      "- 0 exemplaires de La Libre Belgique\n",
      "- 6 exemplaires de L'Avenir du Luxembourg\n",
      "- 0 exemplaires de Vers l'Avenir\n",
      "- 130 exemplaires de Le Petit Bleu\n",
      "- 133 exemplaires de Journal de Bruxelles\n",
      "- 93 exemplaires du journal Le Soir\n",
      "- 0 exemplaires de L'Indépendance belge (édité en Angleterre)\n",
      "- 79 exemplaires de La Meuse\n",
      "- 21 exemplaires de Le Peuple\n",
      "- 0 exemplaires de Le Drapeau rouge\n",
      "- 35 exemplaires de Journal de Charleroi\n"
     ]
    }
   ],
   "source": [
    "print(\"Voici le nombre de documents que l'on a récupéré par journal :\")\n",
    "print(f\"- {count_newspapers['JB729']} exemplaires de Le Vingtième Siècle\")\n",
    "print(f\"- {count_newspapers['JB555']} exemplaires de L'Indépendance belge\")\n",
    "print(f\"- {count_newspapers['JB427']} exemplaires de La Libre Belgique\")\n",
    "print(f\"- {count_newspapers['JB427']} exemplaires de La Libre Belgique\")\n",
    "print(f\"- {count_newspapers['JB421']} exemplaires de L'Avenir du Luxembourg\")\n",
    "print(f\"- {count_newspapers['JB773']} exemplaires de Vers l'Avenir\")\n",
    "print(f\"- {count_newspapers['JB685']} exemplaires de Le Petit Bleu\")\n",
    "print(f\"- {count_newspapers['JB567']} exemplaires de Journal de Bruxelles\")\n",
    "print(f\"- {count_newspapers['JB838']} exemplaires du journal Le Soir\")\n",
    "print(f\"- {count_newspapers['JB555A']} exemplaires de L'Indépendance belge (édité en Angleterre)\")\n",
    "print(f\"- {count_newspapers['JB638']} exemplaires de La Meuse\")\n",
    "print(f\"- {count_newspapers['JB837']} exemplaires de Le Peuple\")\n",
    "print(f\"- {count_newspapers['JB1051']} exemplaires de Le Drapeau rouge\")\n",
    "print(f\"- {count_newspapers['JB572']} exemplaires de Journal de Charleroi\")"
   ]
  },
  {
   "cell_type": "code",
   "execution_count": 6,
   "metadata": {},
   "outputs": [
    {
     "name": "stdout",
     "output_type": "stream",
     "text": [
      "Les années manquantes de notre corpus sont: 1886, 1888\n"
     ]
    }
   ],
   "source": [
    "missing_years = [y for y in all_years if y not in covered_years]\n",
    "\n",
    "print(f\"Les années manquantes de notre corpus sont: {', '.join(missing_years)}\")"
   ]
  },
  {
   "cell_type": "code",
   "execution_count": 7,
   "metadata": {},
   "outputs": [
    {
     "name": "stdout",
     "output_type": "stream",
     "text": [
      "12\n"
     ]
    },
    {
     "data": {
      "image/png": "[encoded data removed]",
      "text/plain": [
       "<Figure size 640x480 with 1 Axes>"
      ]
     },
     "metadata": {},
     "output_type": "display_data"
    }
   ],
   "source": [
    "index = np.arange(len(count_month))\n",
    "print(len(count_month))\n",
    "plt.bar(index, count_month.values())\n",
    "plt.xlabel('Mois')\n",
    "plt.ylabel('# documents')\n",
    "plt.xticks(index, count_month.keys(), fontsize=8, rotation=30)\n",
    "plt.title('Nombre de documents par mois')\n",
    "plt.show()"
   ]
  },
  {
   "attachments": {},
   "cell_type": "markdown",
   "metadata": {},
   "source": [
    "### Création d'un grand fichier corpus.txt comprenant tous les documents"
   ]
  },
  {
   "cell_type": "code",
   "execution_count": 8,
   "metadata": {},
   "outputs": [
    {
     "name": "stdout",
     "output_type": "stream",
     "text": [
      "       0  6191901 37600726 ../data/leopoldII/corpus.txt\n",
      "On obtient ici, dans l'ordre, le nombre de lignes, de mots, et d'octets compris dans notre corpus.\n"
     ]
    }
   ],
   "source": [
    "!cat ../data/leopoldII/txt/*.txt > ../data/leopoldII/corpus.txt\n",
    "!wc ../data/leopoldII/corpus.txt\n",
    "\n",
    "print(\"On obtient ici, dans l'ordre, le nombre de lignes, de mots, et d'octets compris dans notre corpus.\")\n"
   ]
  },
  {
   "attachments": {},
   "cell_type": "markdown",
   "metadata": {},
   "source": [
    "### Récupération de notre fichier corpus.txt"
   ]
  },
  {
   "cell_type": "code",
   "execution_count": 9,
   "metadata": {},
   "outputs": [
    {
     "name": "stdout",
     "output_type": "stream",
     "text": [
      "Il 1 - . - ■ ■ ■ r ' I ' \"'\" * I i théâtre ou à proximité. Sûrement, il eût été compromis un des premiers, car il était ardent mazziniste. Et dire que, s'il avait possédé un simple rat de cave, toute sa destinée était changée, et peut-être aussi celle de l'Italie I Chronique locale. — — ARLON. — Exposition des églises pauvres. — C'est demain que s'ouvrira, rue St-Jean, l'exposition des objets confectionnés par les dames de l'Association des églises pauvres : elle sera également accessible au public le lundi 5. Les deux jours l'exposition sera ouverte de 2 à 6 h. du soir. Nous convions nos conc\n"
     ]
    }
   ],
   "source": [
    "corpus = \"../data/leopoldII/corpus.txt\"\n",
    "with open(corpus) as f:\n",
    "    text = f.read()\n",
    "    \n",
    "print(text[:600])"
   ]
  },
  {
   "attachments": {},
   "cell_type": "markdown",
   "metadata": {},
   "source": [
    "### Création d'une une liste de stopwords"
   ]
  },
  {
   "cell_type": "code",
   "execution_count": 10,
   "metadata": {},
   "outputs": [
    {
     "name": "stdout",
     "output_type": "stream",
     "text": [
      "Il existe 197 stopwords dans notre liste :\n",
      " ['ai', 'aie', 'aient', 'aies', 'ainsi', 'ait', 'après', 'as', 'au', 'aura', 'aurai', 'auraient', 'aurais', 'aurait', 'auras', 'aurez', 'auriez', 'aurions', 'aurons', 'auront', 'aussi', 'autre', 'autres', 'aux', 'avaient', 'avais', 'avait', 'avec', 'avez', 'aviez', 'avions', 'avoir', 'avons', 'ayant', 'ayante', 'ayantes', 'ayants', 'ayez', 'ayons', 'bien', 'c', 'ce', 'cela', 'celle', 'ces', 'cet', 'cette', 'comme', 'contre', 'd', 'dans', 'de', 'depuis', 'des', 'deux', 'dire', 'dit', 'doit', 'donc', 'dont', 'du', 'elle', 'en', 'encore', 'entre', 'es', 'est', 'et', 'eu', 'eue', 'eues', 'eurent', 'eus', 'eusse', 'eussent', 'eusses', 'eussiez', 'eussions', 'eut', 'eux', 'eûmes', 'eût', 'eûtes', 'faire', 'fait', 'faut', 'furent', 'fus', 'fusse', 'fussent', 'fusses', 'fussiez', 'fussions', 'fut', 'fûmes', 'fût', 'fûtes', 'het', 'il', 'ils', 'j', 'je', 'jusqu', 'l', 'la', 'le', 'les', 'leur', 'lui', 'm', 'ma', 'mais', 'me', 'mes', 'moi', 'moins', 'mon', 'même', 'n', 'ne', 'non', 'nos', 'notre', 'nous', 'on', 'ont', 'ou', 'par', 'pas', 'pendant', 'peut', 'plus', 'pour', 'qu', 'que', 'qui', 's', 'sa', 'sans', 'se', 'sera', 'serai', 'seraient', 'serais', 'serait', 'seras', 'serez', 'seriez', 'serions', 'serons', 'seront', 'ses', 'soient', 'sois', 'soit', 'sommes', 'son', 'sont', 'sous', 'soyez', 'soyons', 'suis', 'sur', 't', 'ta', 'te', 'tes', 'toi', 'ton', 'tous', 'tout', 'toutes', 'trois', 'tu', 'un', 'une', 'van', 'vos', 'votre', 'vous', 'y', 'à', 'étaient', 'étais', 'était', 'étant', 'étante', 'étantes', 'étants', 'étiez', 'étions', 'été', 'étée', 'étées', 'étés', 'êtes', 'être']\n"
     ]
    }
   ],
   "source": [
    "sw = stopwords.words(\"french\")\n",
    "sw += [\"les\", \"plus\", \"cette\", \"fait\", \"faire\", \"être\", \"deux\", \"comme\", \"dont\", \"tout\", \n",
    "       \"ils\", \"bien\", \"sans\", \"peut\", \"tous\", \"après\", \"ainsi\", \"donc\", \"cet\", \"sous\",\n",
    "       \"celle\", \"entre\", \"encore\", \"toutes\", \"pendant\", \"moins\", \"dire\", \"cela\", \"non\",\n",
    "       \"faut\", \"trois\", \"aussi\", \"dit\", \"avoir\", \"doit\", \"contre\", \"depuis\", \"autres\",\n",
    "       \"van\", \"het\", \"autre\", \"jusqu\"]\n",
    "sw = set(sw)\n",
    "\n",
    "print(f\"Il existe {len(sw)} stopwords dans notre liste :\\n {sorted(sw)}\")"
   ]
  },
  {
   "attachments": {},
   "cell_type": "markdown",
   "metadata": {},
   "source": [
    "### Tokenization"
   ]
  },
  {
   "cell_type": "code",
   "execution_count": 11,
   "metadata": {},
   "outputs": [
    {
     "name": "stdout",
     "output_type": "stream",
     "text": [
      "Nous avons identifié 9006676 tokens dans notre corpus.\n",
      "Voici un apperçu des 25 premiers tokens :\n",
      " ['Il', '1', '-', '.', '-', '■', '■', '■', 'r', \"'\", 'I', \"'\", '\"\\'\"', '*', 'I', 'i', 'théâtre', 'ou', 'à', 'proximité', '.', 'Sûrement', ',', 'il', 'eût']\n"
     ]
    }
   ],
   "source": [
    "words = nltk.wordpunct_tokenize(text)\n",
    "\n",
    "print(f\"Nous avons identifié {len(words)} tokens dans notre corpus.\")\n",
    "print(f\"Voici un apperçu des 25 premiers tokens :\\n {words[:25]}\")"
   ]
  },
  {
   "attachments": {},
   "cell_type": "markdown",
   "metadata": {},
   "source": [
    "### Éliminer les stopwords et les termes non alphabétiques"
   ]
  },
  {
   "cell_type": "code",
   "execution_count": 12,
   "metadata": {},
   "outputs": [
    {
     "name": "stdout",
     "output_type": "stream",
     "text": [
      "3596837 tokens ont été conservés après le nettoyage des stopwords et des termes non alphabétiques.\n",
      "Voici un apperçu des 25 premiers tokens conservés :\n",
      " ['théâtre', 'proximité', 'sûrement', 'eût', 'été', 'compromis', 'des', 'premiers', 'car', 'était', 'ardent', 'mazziniste', 'dire', 'que', 'avait', 'possédé', 'simple', 'rat', 'cave', 'toute', 'destinée', 'était', 'changée', 'peut', 'être']\n"
     ]
    }
   ],
   "source": [
    "kept = [w.lower() for w in words if len(w) > 2 and len(w) < 25 and w.isalpha()]\n",
    "\n",
    "\n",
    "print(f\"{len(kept)} tokens ont été conservés après le nettoyage des stopwords et des termes non alphabétiques.\")\n",
    "print(f\"Voici un apperçu des 25 premiers tokens conservés :\\n {kept[:25]}\")"
   ]
  },
  {
   "attachments": {},
   "cell_type": "markdown",
   "metadata": {},
   "source": [
    "#### Vérification"
   ]
  },
  {
   "cell_type": "code",
   "execution_count": 13,
   "metadata": {},
   "outputs": [
    {
     "name": "stdout",
     "output_type": "stream",
     "text": [
      "le mot 'ai' est dans la liste\n"
     ]
    }
   ],
   "source": [
    "# kept = [k.lower() for k in words if k not in sw]\n",
    "if any(\"ai\" in k for k in kept):\n",
    "    print(\"le mot 'ai' est dans la liste\")\n",
    "else:\n",
    "    print(\"le mot 'ai' n'est pas là dans la liste\")"
   ]
  },
  {
   "cell_type": "code",
   "execution_count": 14,
   "metadata": {},
   "outputs": [
    {
     "name": "stdout",
     "output_type": "stream",
     "text": [
      "le mot 'ai' n'est pas là dans la liste\n"
     ]
    }
   ],
   "source": [
    "dataset = ['coucou','ce','ai','a','des']\n",
    "A = [word for word in dataset if word not in sw]\n",
    "\n",
    "if any(\"ai\" in k for k in A):\n",
    "    print(\"le mot 'ai' est dans la liste\")\n",
    "else:\n",
    "    print(\"le mot 'ai' n'est pas là dans la liste\")\n"
   ]
  },
  {
   "cell_type": "code",
   "execution_count": 15,
   "metadata": {},
   "outputs": [
    {
     "data": {
      "text/plain": [
       "['lsdlstriesmttallcrgiques',\n",
       " 'imperméablesderntlahaule',\n",
       " 'kesaaleaijemappalaalléta',\n",
       " 'nedcrlandschcfabrickvati',\n",
       " 'eessaiesajemeppelesliége',\n",
       " 'briquettesdehouiuzdsnord',\n",
       " 'dechamaiilardaflirmcquel',\n",
       " 'bëbhtuêêsmmëêwêêawêbmbêl',\n",
       " 'proclamentsleïmeilléurfi',\n",
       " 'administratetuvdirecteur',\n",
       " 'kesaaieaijemeppelelllite',\n",
       " 'monsieurquiroccompagnait',\n",
       " 'permetdedéterminerlecour',\n",
       " 'sxizanfierréfléchissaiil',\n",
       " 'probablementriédoulables',\n",
       " 'overysschepargroeuendael',\n",
       " 'sculremèdespécialceilain',\n",
       " 'religieusesfranciscainas',\n",
       " 'prostemeravecamourdevant',\n",
       " 'tdleriesdeconstantinowka',\n",
       " 'télerlesdeconstantinotka',\n",
       " 'lesremboursementspendant',\n",
       " 'enseiguémentgéqgrapbique',\n",
       " 'eutstdssvillssttringirca',\n",
       " 'ssstatsssriiksrlfsjrgjlc',\n",
       " 'jmeusepersoonsohtientles',\n",
       " 'iewnaffranchieàucentimes',\n",
       " 'oiinecommounomarionnotte',\n",
       " 'reuiculeaxpetnangealsons',\n",
       " 'lndcstrixtrétallcrgiqocs']"
      ]
     },
     "execution_count": 15,
     "metadata": {},
     "output_type": "execute_result"
    }
   ],
   "source": [
    "n = 30\n",
    "voc = set(kept)\n",
    "sorted(voc, key=len, reverse=True)[:n]"
   ]
  },
  {
   "cell_type": "code",
   "execution_count": 16,
   "metadata": {},
   "outputs": [
    {
     "data": {
      "text/plain": [
       "'théâtre proximité sûrement eût été compromis des premiers car était ardent mazziniste dire que avait possédé simple rat cave toute destinée était changée peut être aussi celle italie chronique locale arlon exposition des églises pauvres est demain que ouvrira rue jean exposition des objets confectionnés par les dames association des églises pauvres elle sera également accessible public lundi les deux jours exposition sera ouverte soir nous convions nos concitoyens aller visiter cette exposition '"
      ]
     },
     "execution_count": 16,
     "metadata": {},
     "output_type": "execute_result"
    }
   ],
   "source": [
    "kept_string = \" \".join(kept)\n",
    "with open('../data/leopoldII/corpus_clean.txt', 'w') as f:\n",
    "    f.write(kept_string)\n",
    "    \n",
    "\n",
    "with open('../data/leopoldII/corpus_clean.txt', 'r') as i:\n",
    "    after = i.read()\n",
    "after[:500]"
   ]
  },
  {
   "cell_type": "code",
   "execution_count": 17,
   "metadata": {},
   "outputs": [
    {
     "name": "stdout",
     "output_type": "stream",
     "text": [
      "[('les', 67716), ('des', 51004), ('est', 33281), ('que', 30885), ('une', 28115), ('pour', 25627), ('qui', 25329), ('par', 24808), ('dans', 22524), ('pas', 16121), ('sur', 14963), ('plus', 13143), ('aux', 11957), ('nous', 11296), ('sont', 11009), ('bruxelles', 10747), ('rue', 10230), ('son', 9935), ('ont', 9746), ('avec', 9710), ('été', 9566), ('congo', 8763), ('elle', 8654), ('cap', 7992), ('mais', 7851), ('cette', 7825), ('vous', 7743), ('ord', 7167), ('emp', 6866), ('tout', 6784), ('fer', 6753), ('ses', 6279), ('priv', 6276), ('tous', 6268), ('nord', 6167), ('anvers', 6161), ('lui', 6111), ('prix', 5944), ('div', 5889), ('paris', 5760), ('bien', 5685), ('fait', 5664), ('être', 5620), ('belgique', 5571), ('était', 5436), ('belge', 5432), ('sans', 5408), ('ces', 5397), ('grand', 5394), ('comme', 5288)]\n"
     ]
    }
   ],
   "source": [
    "frequencies = Counter(after.split())\n",
    "print(frequencies.most_common(50))"
   ]
  },
  {
   "cell_type": "code",
   "execution_count": 19,
   "metadata": {},
   "outputs": [
    {
     "data": {
      "text/plain": [
       "[(' ', 3596836),\n",
       " ('e', 2690758),\n",
       " ('r', 1737908),\n",
       " ('i', 1723974),\n",
       " ('s', 1717950),\n",
       " ('a', 1652026),\n",
       " ('n', 1529146),\n",
       " ('t', 1466855),\n",
       " ('o', 1353560),\n",
       " ('u', 1147124)]"
      ]
     },
     "execution_count": 19,
     "metadata": {},
     "output_type": "execute_result"
    }
   ],
   "source": [
    "fdist = nltk.FreqDist(after)\n",
    "fdist.most_common(10)"
   ]
  },
  {
   "cell_type": "code",
   "execution_count": 18,
   "metadata": {},
   "outputs": [
    {
     "ename": "NameError",
     "evalue": "name 'fdist' is not defined",
     "output_type": "error",
     "traceback": [
      "\u001b[0;31m---------------------------------------------------------------------------\u001b[0m",
      "\u001b[0;31mNameError\u001b[0m                                 Traceback (most recent call last)",
      "Cell \u001b[0;32mIn[18], line 3\u001b[0m\n\u001b[1;32m      1\u001b[0m \u001b[39m# Plot: les n mots les plus fréquents\u001b[39;00m\n\u001b[1;32m      2\u001b[0m n \u001b[39m=\u001b[39m \u001b[39m10\u001b[39m\n\u001b[0;32m----> 3\u001b[0m fdist\u001b[39m.\u001b[39mplot(n, cumulative\u001b[39m=\u001b[39m\u001b[39mTrue\u001b[39;00m)\n",
      "\u001b[0;31mNameError\u001b[0m: name 'fdist' is not defined"
     ]
    }
   ],
   "source": [
    "# Plot: les n mots les plus fréquents\n",
    "n = 10\n",
    "fdist.plot(n, cumulative=True)"
   ]
  }
 ],
 "metadata": {
  "kernelspec": {
   "display_name": "Python 3.10.5 ('tac_venv': venv)",
   "language": "python",
   "name": "python3"
  },
  "language_info": {
   "codemirror_mode": {
    "name": "ipython",
    "version": 3
   },
   "file_extension": ".py",
   "mimetype": "text/x-python",
   "name": "python",
   "nbconvert_exporter": "python",
   "pygments_lexer": "ipython3",
   "version": "3.11.3"
  },
  "vscode": {
   "interpreter": {
    "hash": "b1932ab1d169b4769d1550e799423b6477588e745f266d79d9004c136c81607e"
   }
  }
 },
 "nbformat": 4,
 "nbformat_minor": 4
}
