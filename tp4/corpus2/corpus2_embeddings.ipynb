{
 "cells": [
  {
   "cell_type": "markdown",
   "metadata": {},
   "source": [
    "# Word Embeddings : le modèle Word2Vec"
   ]
  },
  {
   "cell_type": "markdown",
   "metadata": {},
   "source": [
    "## Imports"
   ]
  },
  {
   "cell_type": "code",
   "execution_count": 1,
   "metadata": {},
   "outputs": [],
   "source": [
    "import sys\n",
    "\n",
    "from gensim.models.phrases import Phrases, Phraser\n",
    "from gensim.models import Word2Vec\n",
    "\n",
    "import nltk\n",
    "from nltk.tokenize import wordpunct_tokenize\n",
    "from unidecode import unidecode"
   ]
  },
  {
   "cell_type": "markdown",
   "metadata": {},
   "source": [
    "## Chargement et traitement des phrases du corpus"
   ]
  },
  {
   "cell_type": "markdown",
   "metadata": {},
   "source": [
    "### Création d'un objet qui *streame* les lignes d'un fichier pour économiser de la RAM"
   ]
  },
  {
   "cell_type": "code",
   "execution_count": 2,
   "metadata": {},
   "outputs": [],
   "source": [
    "class MySentences(object):\n",
    "    \"\"\"Tokenize and Lemmatize sentences\"\"\"\n",
    "    def __init__(self, filename):\n",
    "        self.filename = filename\n",
    "\n",
    "    def __iter__(self):\n",
    "        for line in open(self.filename, encoding='utf-8', errors=\"backslashreplace\"):\n",
    "            yield [unidecode(w.lower()) for w in wordpunct_tokenize(line)]"
   ]
  },
  {
   "cell_type": "code",
   "execution_count": 3,
   "metadata": {},
   "outputs": [],
   "source": [
    "infile = f\"../data/leopoldII/sents.txt\"\n",
    "sentences = MySentences(infile)"
   ]
  },
  {
   "cell_type": "markdown",
   "metadata": {},
   "source": [
    "### Détection des bigrams\n",
    "\n",
    "Article intéressant sur le sujet : https://towardsdatascience.com/word2vec-for-phrases-learning-embeddings-for-more-than-one-word-727b6cf723cf"
   ]
  },
  {
   "cell_type": "code",
   "execution_count": 4,
   "metadata": {},
   "outputs": [],
   "source": [
    "bigram_phrases = Phrases(sentences)"
   ]
  },
  {
   "cell_type": "markdown",
   "metadata": {},
   "source": [
    "L'object `phrases` peut être vu comme un large dictionnaire d'expressions multi-mots associées à un score, le *PMI-like scoring*. Ce dictionnaire est construit par un apprentissage sur base d'exemples.\n",
    "Voir les références ci-dessous :\n",
    "- https://arxiv.org/abs/1310.4546\n",
    "- https://en.wikipedia.org/wiki/Pointwise_mutual_information"
   ]
  },
  {
   "cell_type": "code",
   "execution_count": 5,
   "metadata": {},
   "outputs": [
    {
     "data": {
      "text/plain": [
       "dict"
      ]
     },
     "execution_count": 5,
     "metadata": {},
     "output_type": "execute_result"
    }
   ],
   "source": [
    "type(bigram_phrases.vocab)"
   ]
  },
  {
   "cell_type": "markdown",
   "metadata": {},
   "source": [
    "Il contient de nombreuses clés qui sont autant de termes observés dans le corpus"
   ]
  },
  {
   "cell_type": "code",
   "execution_count": 6,
   "metadata": {},
   "outputs": [
    {
     "data": {
      "text/plain": [
       "2604605"
      ]
     },
     "execution_count": 6,
     "metadata": {},
     "output_type": "execute_result"
    }
   ],
   "source": [
    "len(bigram_phrases.vocab.keys())"
   ]
  },
  {
   "cell_type": "markdown",
   "metadata": {},
   "source": [
    "Prenons une clé au hasard :"
   ]
  },
  {
   "cell_type": "code",
   "execution_count": 7,
   "metadata": {},
   "outputs": [
    {
     "name": "stdout",
     "output_type": "stream",
     "text": [
      "st_-\n"
     ]
    }
   ],
   "source": [
    "key_ = list(bigram_phrases.vocab.keys())[144]\n",
    "print(key_)"
   ]
  },
  {
   "cell_type": "markdown",
   "metadata": {},
   "source": [
    "Le dictionnaire indique le score de cette coocurrence :"
   ]
  },
  {
   "cell_type": "code",
   "execution_count": 8,
   "metadata": {},
   "outputs": [
    {
     "data": {
      "text/plain": [
       "3324"
      ]
     },
     "execution_count": 8,
     "metadata": {},
     "output_type": "execute_result"
    }
   ],
   "source": [
    "bigram_phrases.vocab[key_]"
   ]
  },
  {
   "cell_type": "markdown",
   "metadata": {},
   "source": [
    "Lorsque l'instance de `Phrases` a été entraînée, elle peut concaténer les bigrams dans les phrases lorsque c'est pertinent."
   ]
  },
  {
   "cell_type": "markdown",
   "metadata": {},
   "source": [
    "### Conversion des `Phrases` en objet `Phraser`\n",
    "\n",
    "`Phraser` est un alias pour `gensim.models.phrases.FrozenPhrases`, voir ici https://radimrehurek.com/gensim/models/phrases.html.\n",
    "\n",
    "Le `Phraser` est une version *light* du `Phrases`, plus optimale pour transformer les phrases en concaténant les bigrams."
   ]
  },
  {
   "cell_type": "code",
   "execution_count": 9,
   "metadata": {},
   "outputs": [],
   "source": [
    "bigram_phraser = Phraser(phrases_model=bigram_phrases)"
   ]
  },
  {
   "cell_type": "markdown",
   "metadata": {},
   "source": [
    "Le `Phraser` est un objet qui convertit certains unigrams d'une liste en bigrams lorsqu'ils ont été identifiés comme pertinents."
   ]
  },
  {
   "cell_type": "markdown",
   "metadata": {},
   "source": [
    "### Extraction des trigrams"
   ]
  },
  {
   "cell_type": "markdown",
   "metadata": {},
   "source": [
    "Nous répétons l'opération en envoyant cette fois la liste de bigrams afin d'extraire les trigrams."
   ]
  },
  {
   "cell_type": "code",
   "execution_count": 10,
   "metadata": {},
   "outputs": [],
   "source": [
    "trigram_phrases = Phrases(bigram_phraser[sentences])"
   ]
  },
  {
   "cell_type": "code",
   "execution_count": 11,
   "metadata": {},
   "outputs": [],
   "source": [
    "trigram_phraser = Phraser(phrases_model=trigram_phrases)"
   ]
  },
  {
   "cell_type": "markdown",
   "metadata": {},
   "source": [
    "### Création d'un corpus d'unigrams, bigrams, trigrams"
   ]
  },
  {
   "cell_type": "code",
   "execution_count": 12,
   "metadata": {},
   "outputs": [],
   "source": [
    "corpus = list(trigram_phraser[bigram_phraser[sentences]])"
   ]
  },
  {
   "cell_type": "code",
   "execution_count": 13,
   "metadata": {},
   "outputs": [
    {
     "name": "stdout",
     "output_type": "stream",
     "text": [
      "[['il', '1', '-', '.'], ['-', '#', '#', '#', 'r', \"'\", 'i', \"'\", '\"\\'\"', '*', 'i', 'i', 'theatre', 'ou', 'a_proximite', '.'], ['surement', ',', 'il', 'eut_ete', 'compromis', 'un', 'des', 'premiers', ',', 'car', 'il_etait', 'ardent', 'mazziniste', '.'], ['et', 'dire_que', ',', 's', \"'\", 'il_avait', 'possede_un', 'simple', 'rat', 'de', 'cave', ',', 'toute_sa', 'destinee', 'etait', 'changee', ',', 'et', 'peut', '-', 'etre', 'aussi', 'celle', 'de', \"l_'\", 'italie', 'i', 'chronique_locale', '.'], ['--', '--', 'arlon', '.'], ['--', 'exposition', 'des_eglises', 'pauvres', '.'], ['--', 'c', \"'\", 'est', 'demain', 'que', 's', \"'\", 'ouvrira', ',', 'rue', 'st', '-', 'jean', ',', \"l_'\", 'exposition', 'des', 'objets', 'confectionnes', 'par', 'les', 'dames', 'de', \"l_'\", 'association', 'des_eglises', 'pauvres', ':', 'elle', 'sera', 'egalement', 'accessible', 'au_public', 'le', 'lundi', '5', '.'], ['les', 'deux_jours', \"l_'\", 'exposition', 'sera_ouverte', 'de', '2', 'a', '6', 'h', '.', 'du_soir', '.'], ['nous', 'convions', 'nos_concitoyens', 'a', 'aller_visiter', 'cette_exposition', 'et', 'admirer', 'les', 'merveilleux', 'travaux', 'dus', 'au', 'devouement', \"d_'\", 'un_groupe', 'de', 'dames', 'chretiennes', 'de', 'notre_ville', '.'], ['--', '--', 'grand', 'tournoi_international', 'de', 'lutte', 'a', 'arlon', '.'], ['--', '-', 'jamais', 'on', 'n', \"'\", 'aurait_pu', 'esperer_que', 'la', 'nouvelle', 'du', 'championnat', \"d_'\", 'arlon', 'qui', 'doit_avoir_lieu', 'le', '15', 'aout_prochain', 'a', 'arlon', 'dans', 'la_cour', 'de', \"l_'\", 'athenee', 'aurait', 'produit', \"l_'\", 'enthousiasme', 'avec_lequel', 'les_populations', \"l_'\", 'ont', 'accueillie', '.'], ['a', \"l_'\", 'heure_actuelle', ',', 'que', 'les', 'listes', 'sont', 'closes', ',', 'independamment', 'des_amateurs', 'du_pays', 'qui', 'se_sont', 'faits', 'inscrire', ',', 'signalons', 'les', 'grands', 'lutteurs', 'suivants', ',', 'qui', 'eux_aussi', 'ont_envoye', 'leur_inscription', ':', 'constant', 'le', 'boucher', ',', 'michael', 'hitzler', ',', 'gatineau', 'le_marechal', ',', 'chalzet', 'le', 'frappeur', ',', 'aimable', 'de', 'la', 'calmette', ',', 'clement', 'le', 'terrassier', ',', \"l_'\", 'italien', 'raiscevicl', ',', 'fenelon', 'le', 'bordelais', ',', 'queniart', \"l_'\", 'hercule', ',', 'henri', 'van', 'toi', ',', 'adolf', 'millier', ',', 'edgard', 'jolly', ',', 'victoriub', ',', 'raoul', 'le', 'boucher', ',', 'celestin', 'mare', '.,', 'ambry', ',', 'alphonse', 'henry', ',', 'jaccovail', ',', 'bruyere', 'la', 'limousin', ',', 'dirick', 'le', 'brasseur', ',', 'lammens', 'le', 'champion', 'des_flandres', ',', 'lucien', 'francken', 'le', 'champion', 'liegeois', ',', 'paul', 'backman', ',', 'et', 'enfin', 'le', 'celebre', 'bibus', ',', 'un', 'vieux', 'lutteur', 'de', '60', 'ans', ',', 'qui', 'fit', 'partie', 'de', 'la_fameuse', 'troupe', 'du', 'grand', 'rossignol', 'rollin', ',', 'dont', 'il_fut', 'une', 'des', 'illustrations', '.'], ['c', \"'\", 'est', 'la_premiere', 'fois', 'depuis', 'la_mort', 'de', 'rossignol', 'rollin', 'que', 'bibus', 'participera', 'a', 'un', 'championnat', '.'], ['rappelons_que', 'les_fonctions', \"d_'\", 'arbitre', '<<', 'seront', 'rempiles', 'par', 'le', 'maitre', 'des', 'arbitres', ',', 'm', '.', 'arasse', ',', 'dont', 'la_competence', 'et', \"l_'\", 'autorite', 'sont', 'universellement', 'appreciees', '.'], ['--', '--', 'programme', 'du', 'concert', 'qui', 'sera_donne', 'au', 'parc_leopold', ',', 'le', 'samedi', '3', 'aout', ',', 'a', '9_heures', ',', 'par', 'la', 'musique', 'du', 't', \"*'\", 'regiment', 'de', 'chasseurs', ',', 'sous_la_direction', 'de', 'm', '.', 'fr', '.'], ['de', '.', 'ridder', '.'], ['z', '*', 'fidora', ',', 'marche', '.'], ['m', '.', 'de', 'ridder', '.'], ['a', '*', 'cortege', 'd', '>>', 'bacchus', '(', 'ballet', 'de', 'sylvia', ').'], ['leon', 'delibes', '.'], ['.'], ['3', 'deg', 'manon', '(', 'massenet', ')', 'fantaisie', 'arr', '.'], ['par', 'canivez', '.'], ['4', 'o', 'nachtiffau', 'und', 'brossel', ',', 'polka', 'pour', 'petit', 'bugle', 'et', 'piston', '(', 'solistes', ':', 'mm', '.'], ['robrechts', 'h', 'te', 'et', 'antoine', '.'], ['kling', '.'], ['50', 'les', 'cloehes', 'de', 'comeville', ',', '(', 'planquette', ')', 'faut', '.'], ['arr', '.'], ['par', '.'], ['ch', '.'], ['muldermans', '.'], ['&', 'lustigen', 'bruisr', ',', 'v', '<<$', 'dse', '.'], ['rob', '.'], ['vollstedtt', '.'], ['#', '-', '1', \"l_'\", 'ouverture', 'de', 'la', 'chasse', '.'], ['--', 'la_date', 'de', \"l_'\", 'ouverture', 'ne_peut', 'etre', 'prevue', '.'], ['le', 'sympathique_directeur', 'general', 'du', 'service', 'de', 'la', 'chasse', ',', 'm', '.', 'mouzel', ',', 'n', \"'\", 'a', 'recu', \"jusqu_'_a\", 'present', 'que', 'quelques', 'rapports', 'des', 'nombreux', 'agronomes', 'et', 'agents', 'forestiers', ',', 'ainsi_que', 'des', 'gouverneurs', 'et', 'des_societes', 'agricoles', 'consul', '-', '*', 'tes', '.'], ['la_date', \"d_'\", 'ouverture', 'la', 'plus', 'probable', 'est', 'le', '25', 'aout', '.'], ['1', 'question', 'de', 'peche', '.'], ['--', 'nous_demandons', 'a', 'm', '.', 'qui', 'de', 'droit', 'de', 'fournir', 'aux_gendarmes', 'et', 'garde', 'peche', ',', 'outre', 'leur', 'attirail', 'ordinaire', ',', 'un', 'gentil', 'petit', 'horaire', 'avec', 'les', 'heures', 'officielles', 'du', 'lever', 'et', 'du', 'coucher_du_soleil', ',', 'afin', 'de', 'ne', 'plus', 'voir', 'les', 'fonctionnai', '-', 'res', ',', 'charges', 'de', 'la_surveillance', 'des_eaux', ',', 'dresser_proces', '-_verbal', 'a', 'de', 'placides', 'pecheurs', 'sous_pretexte', 'que', 'ceux', '-', 'ci', 'pechent', 'avant', 'le', 'lever_du_soleil', '1', 'cela', 'se_passait', 'en_plein', 'juillet', '!'], ['31', 'feuilleton', 'de', \"l_'\", 'avenir', 'du_luxembourg', '.'], ['~', 'l', '-', 'a', 'sorci', 'ere', 'r', 'ouge', 'tete', 'mise', 'a', 'prix', '.'], ['premiere_partie', '.'], ['il', 'fat', 'enchante', 'de', 'ses', 'reponses', '.'], [':', 'il', 'le', 'trouva', 'de', 'beaucoup', 'superieur', 'a', 'la', 'classe', \"d_'\", 'ou', 'il', 'sortait', ';', 'il', 'lui_fit', 'exercer', 'successivement', 'plusieurs', 'emplois', 'de', 'confiance', ',', 'et', 'finit_par', 'le', 'charger', \"d_'\", 'une_sorte', 'de', 'controle', 'inostensible', 'sur', \"l_'\", 'intendant', 'alors', 'en', 'fonction', 'et', 'dont', 'il', 'croyait_avoir', 'lieu', 'de', 'suspecter', 'la', 'rigoureuse', 'delicatesse', '.'], ['-', '>>', 'deux_mois', 'suffirent', 'a', 'lactance', 'pour', 'demontrer', 'a', 'mon_pere', ',', 'pieces', '-', 'en', 'mains', ',', 'que', \"l_'\", 'intendant', 'en_question', 'lui', 'volait', 'deux_mille', 'ecus', 'par_an', '.'], ['>>', 'on', 'mit', 'a', 'la_porte', 'le', 'fripon', ',', 'et', \"l_'\", 'homme', 'integre', 'prit', 'sa_place', '.'], ['-,', 'il_y', 'a', 'de', 'cela', 'vingt', '-', 'cinq_ans', 'environ', ',', 'et', 'depuis_vingt', '-', 'cinq_ans', 'lactance', 'ne', 's', \"'\", 'est', 'dementi', 'ni', 'un_jour', ',', 'ni', 'une_heure', ',', 'ni', 'une_minute', '.'], ['il', 'est', 'litteralement', 'impeccable', ',', 'et', 'je', 'm', \"'\", 'etonne', 'parfois', \"qu_'_il\", 'puisse', 'exister', 'sur', 'la', 'terre', 'un', 'etre', 'aussi', 'parfait', 'que', 'lui', '.'], ['>>', 'probite', 'poussee', \"jusqu_'_au\", 'scrupule', '(', 'je_dirais', '*', 'volontiers', \"jusqu_'_a\", \"l_'\", 'absurde', '),', 'desinteressement', 'absolu', ',', 'devouement', 'sans', 'limites', 'aux_interets', 'de', 'ses_maitres', ',', 'moralite', 'severe', \"qu_'_us\", 'pretre', 'les_pecheurs', 'ayant', 'repondu', 'en', 'montrant', 'aux', 'gardes', 'le_soleil', 'qui', 'dorait', 'la_crete', 'des', 'montagnes', ',', 'mm', '.'], ['les_employes', 'ont_repondu', 'que', \"l_'\", 'almanach', 'ne', 'renseignait', 'pas', 'le_soleil', 'comme_etant', 'leve', '1', 'o', 'chinoiserie', 'des', 'reglements', 'i', 'qui', 'donc', 'peut', 'serieusement', 'contester', 'que', 'le_soleil', 'est', 'leve', 'quand', 'phebus', 'a', 'franchi', 'les_portes', 'de', \"l_'\", 'orient', 'et', 'inonde', 'les_montagnes', 'de', '<<', 'ses', 'feux', 'rejouissants', '?'], ['pour', 'le', 'coucher', ',', 'c', \"'\", 'est', 'contestable', ',', 'mais', 'pour', 'le', 'lever', '?'], ['--', '--', 'sterpenich', '.'], ['--', 'resultat', \"d_'\", 'adjudication', '.'], ['--', 'construction', \"d_'\", 'un', 'passage', 'inferieur', 'de', '2', '.', '00', 'm', '.', \"d_'\", 'ouverture', 'et', 'de', 'srolongement', \"d_'\", 'un', 'viaduc', 'inferieur', 'de', '4', '.', '00', \"'\", 'ouverture', 'a', 'la_station', 'de', 'sterpenich', '.'], ['le', 'devis', 'estimatif', 'etait', 'de', '12', '.', '264', '.', '02', 'ont', 'soumissionnes', ':', 'mm', '.'], ['stassin', 'a', '.', 'et', 'leclerc', 'a', '.,', 'a', 'beauraing', '-', 'ay', 'vaille', 'pour', '15980', 'frs', '.'], ['et', 'leanne', 'a', '.,', 'boulevard', \"d_'\", 'herbatte', ',', 'namur', ',', 'pour', '16400', 'frs', '.'], ['--', '--', 'cholera', 'des', 'poules', '.'], ['--', \"l_'\", 'union', 'avicole', 'donne', 'la_liste', 'des_communes', 'des', '{', 'irovinces', 'de', 'liege', 'et', 'de', 'luxembourg', 'pour', 'esquelles', 'elle', 'a', 'recu', 'reponse', 'au_sujet', 'de', \"l_'\", 'enqu', \"'\", 'ete', \"qu_'_elle\", 'poursuit', '.'], ['le', 'total', 'a', 'ce_jour', 'atteint', '34', ',', '000', 'sujets', 'morts', \"d_'\", 'epidemie', '.'], ['tous_les', 'bourgmestres', 'de', 'ces', 'communes', 'sont_unanimes', 'a', 'declarer_que', \"l_'\", 'epidemie', 'de', 'cholera', 'a', 'pour_cause', \"l_'\", 'introduction', 'de', \"l_'\", 'italienne', 'dans', 'les', 'basses', '-', 'cours', '.'], [\"l_'\", 'union', 'avicole', 'vient', ',', 'dit', '-', 'elle', ',', \"d_'\", 'apprendre', 'avec_plaisir', 'que', 'm', '.', 'le_ministre', 'de', \"l_'\", 'agriculture', 'est', 'dispose', 'a', 'prendre', 'les', 'deux', 'arretes', 'suivants_:', 'le_premier', 'ne', 'permettra', 'plus', \"l_'\", 'importation', 'en_belgique', 'de', 'volailles', 'que', 'moyennant_certaines', 'formalites', 'tendant_a', 'constater', 'leur', 'etat', 'de', 'sante', ';', 'le_second', 'interdira', \"l_'\", 'entree', 'et', 'le', 'transit', 'de', 'volailles', 'de', 'provenance', 'italienne', 'en_belgique', '.'], ['dans', 'la_province', 'de', 'luxembourg', 'les_localites', 'les', 'plus', 'eprouvees', 'sont', ':', 'ar', '-', 'brefontaine', ',', '228', ';', 'belle', ',', '495', ';', 'champion', ',', '495', ';', 'chantemelle', ',', 'presque', 'tout', 'est', 'peri', ';', 'corbion', ',', '1', ',', '214', ';', 'ethe', ',', '600', ';', 'fays', '-', 'les', '-', 'veneur', ',', '213', ';', 'foutenoille', ',', '257', ';', 'grapfontaine', ',', '698', ';', 'habay', '-', 'la', '-', 'neuve', ',', '217', ';', 'halanay', ',', '225', ';', 'herbeumont', ',', '889', ';', 'hotton', ',', '689', ';', 'longlier', ',', '217', ';', 'malssin', ',', '215', ';', 'marenne', ',', '400', ';', 'neufchateau', ',', 'toutes_les', 'volailles', 'sont', 'peries', ';', 'nives', ',', '220', ';', 'nollevaux', ',', '213', 'paliseul', ',', '245', ';', 'porcheresse', 'en', 'ardenne', ',', '308', ';', 'roy', ',', '428', ';', 'tintigny', ',', '225', ';', 'tournay', 'en', 'ardenne', ',', '500', '.'], ['barvaux', '.'], ['--', 'terrible_chute', '.'], ['--', 'on_nous_ecrit', ',', 'le', '2', ':', \"aujourd_'_hui\", ',', '2', 'aout', ',', 'vers', 'huit_heures_du_matin', ',', 'rene', 'hainaux', ',', 'menuisier', 'a', 'barvaux', ',', 'qui_travaillait', 'a', 'la_toiture', 'de', \"l_'\", 'eglise', 'de', 'durbuy', ',', 'dont', 'son_pere', 'etait', \"l_'\", 'entrepreneur', ',', 'a', 'glisse', 'si', 'malheureusement', ',', 'sans_pouvoir', 'se', 'retenir', 'aux', 'chevrons', 'de', 'la_toiture', ',', \"qu_'_il\", 'est_venu', 's', \"'\", 'abattre_sur', 'une', 'plate', '-', 'forme', 'en', 'zinc', 'pour', 'etre', 'de', 'la', 'rejete', 'dans', 'des', 'epines', 'qui_se_trouvaient', 'deposees', 'a', 'cote', 'du_chemin', '.'], ['releve', 'aussitot', 'il', 'fut_transporte', 'chez', 'des_voisins', 'dans', 'un', 'bien', 'triste_etat', '.'], ['on', 'fit', 'immediatement', 'prevenir', 'les', 'malheureux', 'parents', 'a', 'qui', ',', 'par', 'precaution', ',', 'on', 'cacha', 'la_verite', '.'], ['ce', 'n', \"'\", 'est', \"qu_'\", 'arrives', 'sur_les_lieux', ',', 'pres', 'de', 'leur', 'enfant', \"qu_'\", 'ils_venaient', 'de', 'quitter', 'en', 'si', 'parfaite_sante', ',', \"qu_'_ils\", 'purent', 'se_rendre_compte', 'de', 'la', 'triste', 'realite', '.'], ['il', 'put', 'encore', 'les', 'reconnaitre', ',', 'leur', 'parler', 'et', 'recevoir', 'les', 'secours', 'de', 'la_religion', ',', 'mais', 'sans_doute', 'que', 'des', 'lesions_internes', 'existaient', ',', 'car', 'vers', '10', 'h', '.', 'l', '\\\\', '2', 'il', 'expirait', '.'], ['il', 'etait_age', 'de', '20', 'ans', ';', 'c', \"'\", 'etait', 'un_beau', 'et', 'fort', 'jeune_homme', 'plein', 'de', 'vie', 'et', 'de', 'sante', ',', 'bien', 'eleve', 'et', 'estime', 'de', 'tous', '.'], ['il', 'ne', 'comptait', 'que', 'des_amis', 'qui', 'le', 'regretteront', 'sincerement', 'et', 'prendront', 'une_large', 'part', 'a', 'la_douleur', 'navrante', 'de', 'ses', 'desoles', 'parents', '.'], ['puissent', '-', 'ils', 'trouver', 'dans', 'la', 'consolation', 'de', 'la_religion', 'et', 'dans', 'la', 'marque', 'de', 'sympathie', 'de', 'toute_la_population', 'la', 'resignation', 'qui', 'leur', 'est_necessaire', 'pour', 'supporter', 'le', 'terrible', 'meme', 'ne', 'desavouerait', 'pas', ',', 'principes', 'religieux', 'inebranlables', 'qui', 'sont', 'une_source', \"d_'\", 'edification', 'pour', 'les', 'paroisses', 'environnantes', 'et', 'que', 'les', 'desservants', 'de', 'mes', 'villages', 'se_plaisent', 'a', 'citer', 'comme', 'exemple', ',', 'lactance', 'reunit', 'tout_cela', ',', 'et', 'i', 'un', 'degre', 'si', 'haut', 'que', 'j', \"'\", 'ai', 'pour', 'lui', 'non', '-', 'seulement', 'de', \"l_'\", 'estime', ',', 'mais', 'du', 'respect', '.'], ['>>', 'tel', 'est', 'cet_homme', 'dont', 'la', 'figure', 'ingrate', 'et', 'la', 'tournure', 'disgracieuse', 'vous', 'inspiraient', ',', 'il', 'n', \"'\", 'y', 'a', \"qu_'\", 'un_instant', ',', 'les', 'plus', 'facheux', 'soupcons', '.'], ['--', 'maintenant', 'que', 'vous', 'le', 'connaissez', ',', 'jugez', '-', 'le', 'mieux', ',', 'mon', 'cousin', ',', 'et', 'demandez', 'a', 'dieu', ',', 'le', 'jour', 'ou', 'il', 'vous', 'enverra', 'une_grande', 'fortune', ',', 'de', 'vous', 'envoyer', 'en_meme_temps', 'un', 'intendant', 'tel', 'que', 'lactance', '.'], ['>>', 'm', '.', 'de', 'saint_-', 'maixent', 'fit', 'la', 'grimace', ',', 'mais', 'il_eut', 'soin', 'de', 'la', 'dissimuler', 'assez_bien', 'pour', 'que', 'le_comte', 'de', 'rahon', 'ne_put', 'la', 'remarquer', '.'], ['la_journee', 's', \"'\", 'acheva', 'sans', 'amener', \"d_'\", 'incident', 'qui_merite', \"d_'\", 'etre_mis', 'sous_les_yeux', 'de', 'nos_lecteurs', '.'], [',', ',', '-', 'quand', 'eut', 'sonne', 'pour', 'les_hotes', 'du', 'chateau', \"l_'\", 'heure', 'de', 'regagner', 'leurs', 'logis', 'respectifs', ',', 'le_marquis', 'trouva', 'dans', \"l_'\", 'antichambre', 'de', 'son_appartement', 'lazare', ',', 'debout', 'et', 'attendant', 'ses_ordres', '.'], ['--', 'rien', 'de', 'nouveau', 't', '--', 'lui_demanda', '-', 't', '-', 'il', '.'], ['--', 'rien', ',', 'monsieur_le_marquis', ',', '--', 'repliqua', 'lazare', ':', '--', 'la_maison', 'est', 'bien_tenue', ';', 'chacun', 's', \"'\", 'occupe', 'de', 'son', 'affaire', 'et', 'pas', \"d_'\", 'autre_chose', '.'], ['il_y', 'a', 'cependant', \"l_'\", 'intendant', 'lactance', 'qui', 'tourne', 'toujours', 'autour', 'de', 'moi', 'pour', 'me', 'questionner', '.'], ['il', 'est', 'aussi', 'curieux', ',', 'pour', 'le', 'moins', ',', 'que', 'mm', '.'], ['les_juges', 'au', 'grand', 'chatelet', '.'], ['mais', 'j', \"'\", 'ai', 'les_instructions', 'de', 'monsieur', 'le', 'ww', '*>>', 'et', 'je', 'mis', 'ce', \"qu_'_il\", 'malheur', 'qui', 'les', 'frappe', 'dans', 'leurs', 'affections', 'les', 'plus_cheres', '.'], ['la_guerre', 'anglo_-_boer', '.'], ['la', '<<', 'situation', '.'], ['m', '.', 'kruger', 'aux_etats', '-', 'unis', 'le_correspondant', 'dn', '<<_daily', 'mail', '>>', 'a', 'bruxelles', 'declare', 'tenir', ',', 'de', 'source_autorisee', ',', \"qu_'_une\", 'visite', 'du', 'president', 'kruger', 'a', 'm', '.', 'mac_kinley', 'est_decidee', '.'], ['m', '.', 'kiiager', 'partirait', 'vers', 'la', 'mi', '-', 'septembre', ';', 'il', 'sera_accompagne', 'de', 'mm', '.'], ['fischer', ',', 'wes', '-', 'sels', 'et', 'woolmarans', '.'], ['les_operations', 'durban', ',', '2', '.'], ['--', 'les', 'anglais', 'se_sont_empares', 'le', '29_juillet', \"d_'\", 'unlaager', 'boera', 'joubert', '-', 'farm', '.'], ['sept', 'boers_ont', 'ete_tues', '.'], ['la_situation', 'au_transvaal', \"d_'\", 'apres_une_depeche', 'de', 'source', 'francaise', 'le', '<<', 'rappel', '>>,', 'de', 'paris', ',', 'publie_une_depeche', 'de', 'laurenco', '-', 'marques', 'disant_que', 'la', 'desertion', 'des_soldats', 'anglais', 'prend', 'des_proportions', 'inquietantes', '.'], ['plusieurs', 'combats', 'tres_graves', 'ont_eu_lieu', 'recemment', 'pres', 'de', 'zuurblakde', '(?)'], ['les', 'anglais', 'ont_ete', 'completement', 'defaits', '.'], ['tactique', 'nouvelle', 'le', '<<', 'morning_post', '>>', 'croit_savoir', 'que', 'dans', 'un_conseil', 'de', 'guerre', 'tenu', 'recemment', 'a', 'ermelo', ',', 'sous_la_presidence', 'du', 'general_botha', ',', 'les_boers', 'ont_decide', 'de', 'changer', 'de', 'tactique', 'et', \"d_'\", 'envahir', 'le_territoire', 'portugais', '.'], ['un', 'commando', 'boer', 'avec', 'deux_canons', ',', 'ce_qui', 'parait', 'confirmer', 'ce_bruit', ',', 'a', 'en_effet', 'penetre', 'sur', 'le_territoire', 'portugais', 'et', 'est_venu', 'camper', 'a', 'guanetz', '.'], ['un_detachement', 'portugais', 'de', '500', 'hommes', 'se_trouve', 'actuellement', 'sur_les_lieux', '.'], ['des_renforts', \"d_'\", 'artillerie', 'sont_partis', 'ce_matin', 'et', '300', 'hommes', 'sont_prets', 'a_partir', 'a', 'leur_tour', '.']]\n"
     ]
    }
   ],
   "source": [
    "print(corpus[:100])"
   ]
  },
  {
   "cell_type": "markdown",
   "metadata": {},
   "source": [
    "## Entrainement d'un modèle Word2Vec sur ce corpus"
   ]
  },
  {
   "cell_type": "code",
   "execution_count": 14,
   "metadata": {},
   "outputs": [
    {
     "name": "stdout",
     "output_type": "stream",
     "text": [
      "CPU times: user 1min 12s, sys: 437 ms, total: 1min 12s\n",
      "Wall time: 30.5 s\n"
     ]
    }
   ],
   "source": [
    "%%time\n",
    "model = Word2Vec(\n",
    "    corpus, # On passe le corpus de ngrams que nous venons de créer\n",
    "    vector_size=32, # Le nombre de dimensions dans lesquelles le contexte des mots devra être réduit, aka. vector_size\n",
    "    window=5, # La taille du \"contexte\", ici 5 mots avant et après le mot observé\n",
    "    min_count=5, # On ignore les mots qui n'apparaissent pas au moins 5 fois dans le corpus\n",
    "    workers=4, # Permet de paralléliser l'entraînement du modèle en 4 threads\n",
    "    epochs=5 # Nombre d'itérations du réseau de neurones sur le jeu de données pour ajuster les paramètres avec la descente de gradient, aka. epochs.\n",
    ")"
   ]
  },
  {
   "cell_type": "markdown",
   "metadata": {},
   "source": [
    "#### Remarque\n",
    "\n",
    "Vous voyez ici que l'entrainement du modèle est parallélisé (sur 4 workers).\n",
    "\n",
    "Lors qu'on parallélise l'entrainement du modèle, 4 modèles \"séparés\" sont entrainés sur environ un quart des phrases.\n",
    "\n",
    "Ensuite, les résultats sont agrégés pour ne plus faire qu'un seul modèle.\n",
    "\n",
    "On ne peut prédire quel worker aura quelle phrase, car il y a des aléas lors de la parallélisation (p. ex. un worker qui serait plus lent, etc.).\n",
    "\n",
    "Du coup, les valeurs peuvent varier légèrement d'un entrainement à l'autre.\n",
    "\n",
    "Mais, globalement, les résultats restent cohérents."
   ]
  },
  {
   "cell_type": "markdown",
   "metadata": {},
   "source": [
    "### Sauver le modèle dans un fichier"
   ]
  },
  {
   "cell_type": "code",
   "execution_count": 15,
   "metadata": {},
   "outputs": [],
   "source": [
    "outfile = f\"../data/leopoldII/newspapers.model\"\n",
    "model.save(outfile)"
   ]
  },
  {
   "cell_type": "markdown",
   "metadata": {},
   "source": [
    "## Explorer le modèle"
   ]
  },
  {
   "cell_type": "markdown",
   "metadata": {},
   "source": [
    "### Charger le modèle en mémoire"
   ]
  },
  {
   "cell_type": "code",
   "execution_count": 48,
   "metadata": {},
   "outputs": [],
   "source": [
    "model = Word2Vec.load(\"../data/leopoldII/newspapers.model\")"
   ]
  },
  {
   "cell_type": "markdown",
   "metadata": {},
   "source": [
    "### Imprimer le vecteur d'un terme"
   ]
  },
  {
   "cell_type": "code",
   "execution_count": 49,
   "metadata": {},
   "outputs": [
    {
     "data": {
      "text/plain": [
       "array([-0.31214097, -1.852512  ,  0.71405685,  0.5509615 , -2.4458945 ,\n",
       "        0.93208545,  0.85143256,  1.3133869 , -2.9048648 ,  0.4518651 ,\n",
       "        1.6864238 ,  1.141707  , -0.9972724 , -0.18815526, -1.0679187 ,\n",
       "       -1.3020313 ,  0.6147622 ,  2.3466246 , -0.02992805, -1.180652  ,\n",
       "        1.9188246 ,  2.0818365 ,  1.3316755 , -1.4174677 , -2.2411113 ,\n",
       "        1.5436935 ,  0.18232949, -1.2818879 ,  2.2229252 , -1.7415988 ,\n",
       "       -4.0903354 , -1.7315545 ], dtype=float32)"
      ]
     },
     "execution_count": 49,
     "metadata": {},
     "output_type": "execute_result"
    }
   ],
   "source": [
    "model.wv[\"ministre\"]"
   ]
  },
  {
   "cell_type": "markdown",
   "metadata": {},
   "source": [
    "### Calculer la similarité entre deux termes"
   ]
  },
  {
   "cell_type": "code",
   "execution_count": 50,
   "metadata": {},
   "outputs": [
    {
     "data": {
      "text/plain": [
       "0.21691632"
      ]
     },
     "execution_count": 50,
     "metadata": {},
     "output_type": "execute_result"
    }
   ],
   "source": [
    "model.wv.similarity(\"congo\", \"exportation\")"
   ]
  },
  {
   "cell_type": "markdown",
   "metadata": {},
   "source": [
    "### Chercher les mots les plus proches d'un terme donné"
   ]
  },
  {
   "cell_type": "code",
   "execution_count": 51,
   "metadata": {},
   "outputs": [
    {
     "data": {
      "text/plain": [
       "[('emission', 0.9178957343101501),\n",
       " ('augmentation', 0.8942883610725403),\n",
       " ('et_la_speculation', 0.8897349238395691),\n",
       " ('action', 0.8486761450767517),\n",
       " ('importation', 0.848074197769165),\n",
       " ('amortissement', 0.8475116491317749),\n",
       " ('alcool', 0.8471620678901672),\n",
       " ('exploitation', 0.8441718816757202),\n",
       " ('ecole_francaise', 0.8368322849273682),\n",
       " ('accumulation', 0.834017813205719)]"
      ]
     },
     "execution_count": 51,
     "metadata": {},
     "output_type": "execute_result"
    }
   ],
   "source": [
    "model.wv.most_similar(\"exportation\", topn=10)"
   ]
  },
  {
   "cell_type": "code",
   "execution_count": 52,
   "metadata": {},
   "outputs": [
    {
     "data": {
      "text/plain": [
       "[('inauguration', 0.8244574666023254),\n",
       " ('adjudication', 0.7931884527206421),\n",
       " ('ouverture', 0.7885424494743347),\n",
       " ('ecole', 0.7780244946479797),\n",
       " ('au_siege', 0.7703685164451599),\n",
       " ('la_societe', 0.7593361139297485),\n",
       " ('express', 0.7487666606903076),\n",
       " ('eglise', 0.7452453970909119),\n",
       " ('hotel', 0.7401634454727173),\n",
       " ('assemblee_generale', 0.7386838793754578)]"
      ]
     },
     "execution_count": 52,
     "metadata": {},
     "output_type": "execute_result"
    }
   ],
   "source": [
    "model.wv.most_similar(\"exposition\", topn=10)"
   ]
  },
  {
   "cell_type": "code",
   "execution_count": 53,
   "metadata": {},
   "outputs": [
    {
     "data": {
      "text/plain": [
       "[('achat', 0.7775892615318298),\n",
       " ('agrement', 0.7743470668792725),\n",
       " ('infanterie', 0.768336296081543),\n",
       " ('une_collection', 0.7636668682098389),\n",
       " ('ameublement', 0.7594934105873108),\n",
       " ('ecole', 0.7557386159896851),\n",
       " ('),_executees', 0.7507432699203491),\n",
       " ('echappement', 0.7382581830024719),\n",
       " ('auberge', 0.7336875796318054),\n",
       " ('epuisement', 0.7329124212265015)]"
      ]
     },
     "execution_count": 53,
     "metadata": {},
     "output_type": "execute_result"
    }
   ],
   "source": [
    "model.wv.most_similar(\"art\", topn=10)"
   ]
  },
  {
   "cell_type": "code",
   "execution_count": 54,
   "metadata": {},
   "outputs": [
    {
     "data": {
      "text/plain": [
       "[('ethnographie', 0.8825387954711914),\n",
       " ('ecauss', 0.8753301501274109),\n",
       " ('humanites_modernes_ou', 0.8701314330101013),\n",
       " ('occident', 0.8673361539840698),\n",
       " ('anglenr', 0.8586602210998535),\n",
       " ('outremer_,,_div', 0.8572244644165039),\n",
       " ('arr_.)', 0.8518468141555786),\n",
       " ('outremer_cap', 0.8499533534049988),\n",
       " ('eleet_.)', 0.849478542804718),\n",
       " ('obourg', 0.847644567489624)]"
      ]
     },
     "execution_count": 54,
     "metadata": {},
     "output_type": "execute_result"
    }
   ],
   "source": [
    "model.wv.most_similar(\"art_decoratif\", topn=10)"
   ]
  },
  {
   "cell_type": "code",
   "execution_count": 55,
   "metadata": {},
   "outputs": [
    {
     "data": {
      "text/plain": [
       "[('responsabilite', 0.9362757802009583),\n",
       " ('religion', 0.93475741147995),\n",
       " ('solidarite', 0.9323123097419739),\n",
       " ('sagesse', 0.9280848503112793),\n",
       " ('polilique', 0.9274063110351562),\n",
       " ('la_bourgeoisie', 0.9262202382087708),\n",
       " ('collaboration', 0.92580246925354),\n",
       " ('promesse', 0.9256329536437988),\n",
       " ('souverainete', 0.9249749779701233),\n",
       " ('consideration', 0.9242480993270874)]"
      ]
     },
     "execution_count": 55,
     "metadata": {},
     "output_type": "execute_result"
    }
   ],
   "source": [
    "model.wv.most_similar(\"colonisation\", topn=10)"
   ]
  },
  {
   "cell_type": "code",
   "execution_count": 56,
   "metadata": {},
   "outputs": [
    {
     "data": {
      "text/plain": [
       "[('reglementaire', 0.8267008066177368),\n",
       " ('comprenait', 0.8248342275619507),\n",
       " ('dato', 0.8183184862136841),\n",
       " ('assembleo_generale', 0.8107446432113647),\n",
       " ('emportant', 0.8100875020027161),\n",
       " ('ecoule', 0.8075682520866394),\n",
       " ('cette_annee', 0.8066053986549377),\n",
       " ('effectue', 0.8043825626373291),\n",
       " ('tous_les_ans', 0.8022083044052124),\n",
       " ('delivre', 0.8012433648109436)]"
      ]
     },
     "execution_count": 56,
     "metadata": {},
     "output_type": "execute_result"
    }
   ],
   "source": [
    "model.wv.most_similar(\"indigene\", topn=10)"
   ]
  },
  {
   "cell_type": "code",
   "execution_count": 57,
   "metadata": {},
   "outputs": [
    {
     "data": {
      "text/plain": [
       "[('coloniales', 0.9225746989250183),\n",
       " ('necessaires', 0.9091405868530273),\n",
       " ('dispositions', 0.8899512887001038),\n",
       " ('les_droits', 0.885262131690979),\n",
       " ('du_pays', 0.8811383247375488),\n",
       " ('reformes', 0.880110502243042),\n",
       " ('des_indigenes', 0.8799312710762024),\n",
       " ('parlementaires', 0.8789421319961548),\n",
       " ('des_partis', 0.8756430149078369),\n",
       " ('religieux', 0.8752180337905884)]"
      ]
     },
     "execution_count": 57,
     "metadata": {},
     "output_type": "execute_result"
    }
   ],
   "source": [
    "model.wv.most_similar(\"congolais\", topn=10)"
   ]
  },
  {
   "cell_type": "code",
   "execution_count": 59,
   "metadata": {},
   "outputs": [
    {
     "data": {
      "text/plain": [
       "[('elegance', 0.9036751389503479),\n",
       " ('etoffe', 0.8918654918670654),\n",
       " ('alcool', 0.8820372223854065),\n",
       " ('etain', 0.8793249130249023),\n",
       " ('oppression', 0.8789166808128357),\n",
       " ('elevage', 0.8758142590522766),\n",
       " ('ampleur', 0.8753540515899658),\n",
       " ('espace', 0.872124195098877),\n",
       " ('accumulation', 0.8662607669830322),\n",
       " ('entretien', 0.8654978275299072)]"
      ]
     },
     "execution_count": 59,
     "metadata": {},
     "output_type": "execute_result"
    }
   ],
   "source": [
    "model.wv.most_similar(\"ivoire\", topn=10)"
   ]
  },
  {
   "cell_type": "code",
   "execution_count": 60,
   "metadata": {},
   "outputs": [
    {
     "data": {
      "text/plain": [
       "[('grand_hotel', 0.7860857248306274),\n",
       " ('situe', 0.7727888226509094),\n",
       " ('en_face', 0.7692857980728149),\n",
       " ('usines_cambier', 0.7573888301849365),\n",
       " ('.--_salons', 0.7481986284255981),\n",
       " ('la_gare', 0.7406401634216309),\n",
       " ('hotel', 0.7364373207092285),\n",
       " ('la_station', 0.721713125705719),\n",
       " ('depart', 0.7174635529518127),\n",
       " ('proximite', 0.7110736966133118)]"
      ]
     },
     "execution_count": 60,
     "metadata": {},
     "output_type": "execute_result"
    }
   ],
   "source": [
    "model.wv.most_similar(\"palais\", topn=10)"
   ]
  },
  {
   "cell_type": "code",
   "execution_count": 61,
   "metadata": {},
   "outputs": [
    {
     "data": {
      "text/plain": [
       "[('las_palmas', 0.9319145679473877),\n",
       " ('telephona', 0.9262458086013794),\n",
       " ('1651', 0.9211452007293701),\n",
       " ('sports_courses', 0.9190716743469238),\n",
       " ('kaz', 0.9170840382575989),\n",
       " ('18_professeurs', 0.9136096239089966),\n",
       " ('mayor', 0.9116635918617249),\n",
       " ('(\"', 0.9102340936660767),\n",
       " ('sera_remise', 0.9089506268501282),\n",
       " ('thermales_et_hivernales', 0.9068217277526855)]"
      ]
     },
     "execution_count": 61,
     "metadata": {},
     "output_type": "execute_result"
    }
   ],
   "source": [
    "model.wv.most_similar(\"exotique\", topn=10)"
   ]
  },
  {
   "cell_type": "code",
   "execution_count": 62,
   "metadata": {},
   "outputs": [
    {
     "data": {
      "text/plain": [
       "[('presse', 0.9302968382835388),\n",
       " ('civilisation', 0.9257255792617798),\n",
       " ('conscience', 0.9253501296043396),\n",
       " ('matiere', 0.9248175621032715),\n",
       " ('prosperite', 0.9231202006340027),\n",
       " ('consideration', 0.9229942560195923),\n",
       " ('responsabilite', 0.9223616123199463),\n",
       " ('faute', 0.921610951423645),\n",
       " ('solution', 0.9209235310554504),\n",
       " ('liberte', 0.9205229878425598)]"
      ]
     },
     "execution_count": 62,
     "metadata": {},
     "output_type": "execute_result"
    }
   ],
   "source": [
    "model.wv.most_similar(\"colonie\", topn=10)"
   ]
  },
  {
   "cell_type": "markdown",
   "metadata": {},
   "source": [
    "### Faire des recherches complexes à travers l'espace vectoriel"
   ]
  },
  {
   "cell_type": "code",
   "execution_count": 63,
   "metadata": {},
   "outputs": [
    {
     "name": "stdout",
     "output_type": "stream",
     "text": [
      "[('change', 0.7094481587409973), ('vienne', 0.7000303864479065), ('new_-_york', 0.6647735834121704), ('saint_-_petersbourg', 0.6473316550254822), ('berlin', 0.6448163390159607), ('amsterdam', 0.6252720952033997), ('constantinople', 0.6161597371101379), ('le_soir', 0.6114900708198547), ('hambourg', 0.6111112833023071), ('paria', 0.6052391529083252)]\n"
     ]
    }
   ],
   "source": [
    "print(model.wv.most_similar(positive=['paris', 'londres'], negative=['belgique']))"
   ]
  }
 ],
 "metadata": {
  "kernelspec": {
   "display_name": "Python 3.10.5 ('tac_venv': venv)",
   "language": "python",
   "name": "python3"
  },
  "language_info": {
   "codemirror_mode": {
    "name": "ipython",
    "version": 3
   },
   "file_extension": ".py",
   "mimetype": "text/x-python",
   "name": "python",
   "nbconvert_exporter": "python",
   "pygments_lexer": "ipython3",
   "version": "3.11.3"
  },
  "vscode": {
   "interpreter": {
    "hash": "b1932ab1d169b4769d1550e799423b6477588e745f266d79d9004c136c81607e"
   }
  }
 },
 "nbformat": 4,
 "nbformat_minor": 4
}
